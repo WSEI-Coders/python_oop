{
 "cells": [
  {
   "cell_type": "markdown",
   "source": [
    "**Zadanie 1: Zaimplementuj konto bankowe**\n",
    "Treść zadania\n",
    "Zaimplementuj podstawową strukturę klasy nadrzędnej, Account, i klasy potomnej, SavingsAccount.\n",
    "\n",
    "Czynność 1\n",
    "Zaimplementuj właściwości jako zmienne instancji i ustaw je na None lub 0.\n",
    "\n",
    "Klasa Account ma następujące właściwości:\n",
    "tytuł (title)\n",
    "saldo (balance)\n",
    "Klasa SavingsAccount ma następujące właściwości:\n",
    "oprocentowanie (interestRate)\n",
    "\n",
    "Czynność 2\n",
    "Utwórz inicjalizator dla klasy Account. Kolejność parametrów powinna być następująca, gdzie Mark to tytuł, a 5000 to saldo konta:\n",
    "Account(\"Mark\", 5000)\n",
    "\n",
    "Czynność 3\n",
    "Zaimplementuj właściwości jako zmienne instancji i ustaw je na None lub 0.\n",
    "Utwórz inicjalizator dla klasy SavingsAccount, korzystając z inicjalizatora klasy Account w następującej kolejności:\n",
    "Account(\"Mark\", 5000, 5)\n",
    "Tutaj Mark to tytuł, 5000 to saldo, a 5 to oprocentowanie."
   ],
   "metadata": {
    "collapsed": false
   },
   "id": "af7b2d36390fdf42"
  },
  {
   "cell_type": "code",
   "execution_count": 2,
   "outputs": [],
   "source": [
    "class Account:\n",
    "    def __init__(self, title=None, balance=0):\n",
    "        self.title = title\n",
    "        self.balance = balance\n",
    "\n",
    "\n",
    "class SavingsAccount(Account):\n",
    "    def __init__(self, title=None, balance=0, interestRate=0):\n",
    "        super().__init__(title, balance)\n",
    "        self.interestRate = interestRate\n",
    "        \n",
    "        \n",
    "mark = SavingsAccount(\"Mark\", 5000, 5)"
   ],
   "metadata": {
    "collapsed": false,
    "ExecuteTime": {
     "end_time": "2024-03-05T20:45:27.393531Z",
     "start_time": "2024-03-05T20:45:27.387818Z"
    }
   },
   "id": "2c0687501da68c7f"
  },
  {
   "cell_type": "markdown",
   "source": [
    "**Wyjaśnienie**\n",
    "W liniach 2–4 zdefiniowaliśmy dwie zmienne instancji, tytuł (title) i saldo (balance), w klasie Account. Ustawiliśmy je odpowiednio na None i 0.\n",
    "\n",
    "W linii 7 zdefiniowaliśmy SavingsAccount jako klasę potomną klasy Account.\n",
    "\n",
    "W liniach 8–10 zdefiniowaliśmy inicjalizator dla klasy SavingsAccount i wywołaliśmy inicjalizator klasy nadrzędnej za pomocą super().\n",
    "\n",
    "Zdefiniowaliśmy jedną zmienną instancji, oprocentowanie (interestRate), w klasie SavingsAccount i ustawiliśmy ją na 0 w inicjalizatorze."
   ],
   "metadata": {
    "collapsed": false
   },
   "id": "3fee231d762294a5"
  },
  {
   "cell_type": "markdown",
   "source": [
    "**Zadanie 2: Obsługa konta bankowego**\n",
    "Treść zadania\n",
    "W tym wyzwaniu zaimplementujemy metody w klasie nadrzędnej i odpowiadającej jej klasie potomnej.\n",
    "\n",
    "Czynność 1\n",
    "W klasie Account zaimplementuj metodę getBalance(), która zwraca saldo.\n",
    "\n",
    "Czynność 2\n",
    "W klasie Account zaimplementuj metodę deposit(amount), która dodaje kwotę do salda. Metoda nie zwraca niczego.\n",
    "\n",
    "Przykładowe dane wejściowe\n",
    "saldo = 2000\n",
    "deposit(500)\n",
    "getbalance()\n",
    "\n",
    "Przykładowe dane wyjściowe\n",
    "2500\n",
    "\n",
    "Czynność 3\n",
    "W klasie Account zaimplementuj metodę withdrawal(amount), która odejmuje kwotę od salda. Metoda nie zwraca niczego.\n",
    "\n",
    "Przykładowe dane wejściowe\n",
    "saldo = 2000\n",
    "withdrawal(500)\n",
    "getbalance()\n",
    "\n",
    "Przykładowe dane wyjściowe\n",
    "1500\n",
    "\n",
    "Czynność 4\n",
    "W klasie SavingsAccount zaimplementuj metodę interestAmount(), która zwraca kwotę odsetek z aktualnego salda. Poniżej znajduje się wzór obliczania kwoty odsetek:\n",
    "interest amount = (interest rate * balance) / 100\n",
    "\n",
    "\n",
    "Przykładowe dane wejściowe\n",
    "saldo = 2000\n",
    "oprocentowanie = 5\n",
    "interestAmount()\n",
    "\n",
    "Przykładowe dane wyjściowe\n",
    "100\n",
    "\n",
    "Poniższy rysunek przedstawia, jak logicznie powinien wyglądać wynik:\n",
    "![](img/29_zadanie2.PNG)"
   ],
   "metadata": {
    "collapsed": false
   },
   "id": "ed3cbbc167a978a9"
  },
  {
   "cell_type": "code",
   "execution_count": 5,
   "outputs": [
    {
     "name": "stdout",
     "output_type": "stream",
     "text": [
      "2000\n",
      "1500\n",
      "100.0\n"
     ]
    }
   ],
   "source": [
    "class Account:\n",
    "    def __init__(self, title=None, balance=0):\n",
    "        self.title = title\n",
    "        self.balance = balance\n",
    "\n",
    "    def withdrawal(self, amount):\n",
    "        self.balance -= amount\n",
    "\n",
    "    def deposit(self, amount):\n",
    "        self.balance += amount\n",
    "\n",
    "    def getBalance(self):\n",
    "        return self.balance\n",
    "\n",
    "\n",
    "class SavingsAccount(Account):\n",
    "    def __init__(self, title=None, balance=0, interestRate=0):\n",
    "        super().__init__(title, balance)\n",
    "        self.interestRate = interestRate\n",
    "\n",
    "    def interestAmount(self):\n",
    "        return (self.interestRate * self.balance) / 100\n",
    "\n",
    "\n",
    "mark = SavingsAccount(\"Mark\", 2000, 5)  # initializing a SavingsAccount object\n",
    "print(mark.getBalance())\n",
    "mark.withdrawal(500)\n",
    "print(mark.getBalance())\n",
    "mark.deposit(500)\n",
    "print(mark.interestAmount())"
   ],
   "metadata": {
    "collapsed": false,
    "ExecuteTime": {
     "end_time": "2024-03-05T20:55:32.324048400Z",
     "start_time": "2024-03-05T20:55:32.318858400Z"
    }
   },
   "id": "8c5cdbe1a119a8a0"
  },
  {
   "cell_type": "markdown",
   "source": [
    "**Wyjaśnienie**\n",
    "\n",
    "Metody w klasie Account:\n",
    "W linii 7 zdefiniowaliśmy metodę withdrawal(amount). Przyjmuje ona liczbę amount jako parametr wejściowy i odejmuje ją od salda.\n",
    "W linii 11 zdefiniowaliśmy metodę deposit(amount). Przyjmuje ona liczbę amount jako parametr wejściowy i dodaje ją do salda.\n",
    "W linii 15 zdefiniowaliśmy metodę getBalance(), która zwraca wartość salda.\n",
    "\n",
    "Metody w klasie SavingsAccount:\n",
    "Zdefiniowaliśmy metodę interestAmount(), która zwraca kwotę odsetek w zależności od wartości oprocentowania zdefiniowanej podczas tworzenia obiektu."
   ],
   "metadata": {
    "collapsed": false
   },
   "id": "32e43a829710a4ea"
  },
  {
   "cell_type": "code",
   "execution_count": null,
   "outputs": [],
   "source": [],
   "metadata": {
    "collapsed": false
   },
   "id": "e51c1b23ab9ce572"
  }
 ],
 "metadata": {
  "kernelspec": {
   "display_name": "Python 3",
   "language": "python",
   "name": "python3"
  },
  "language_info": {
   "codemirror_mode": {
    "name": "ipython",
    "version": 2
   },
   "file_extension": ".py",
   "mimetype": "text/x-python",
   "name": "python",
   "nbconvert_exporter": "python",
   "pygments_lexer": "ipython2",
   "version": "2.7.6"
  }
 },
 "nbformat": 4,
 "nbformat_minor": 5
}

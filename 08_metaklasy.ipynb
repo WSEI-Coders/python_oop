{
 "cells": [
  {
   "cell_type": "markdown",
   "source": [
    "**Metaklasy**\n",
    "\n",
    "**Czym jest metaklasa w Pythonie?**\n",
    "Klasy służą do tworzenia obiektów. Jednak sama klasa jest również obiektem i tak jak każdy inny obiekt, jest instancją czegoś: metaklasy.\n",
    "\n",
    "Metaklasa jest klasą klasy; definiuje, jak zachowuje się klasa.\n",
    "\n",
    "Dlatego, jeśli chcemy modyfikować zachowanie klas, będziemy musieli napisać własną metaklasę.\n",
    "\n",
    "Domyślną metaklasą jest type. Oznacza to, że tak jak obiekt jest typu class, tak sama klasa jest typu type.\n",
    "![](img/44_metaklasa.PNG)"
   ],
   "metadata": {
    "collapsed": false
   },
   "id": "3c813a2d0dd047ac"
  },
  {
   "cell_type": "code",
   "execution_count": 1,
   "outputs": [
    {
     "name": "stdout",
     "output_type": "stream",
     "text": [
      "<class '__main__.Foobar'>\n",
      "<class 'type'>\n"
     ]
    }
   ],
   "source": [
    "class Foobar:\n",
    "  pass\n",
    "foo = Foobar()\n",
    "\n",
    "print(type(foo))\n",
    "print(type(Foobar))"
   ],
   "metadata": {
    "collapsed": false,
    "ExecuteTime": {
     "end_time": "2024-03-09T17:57:47.159648400Z",
     "start_time": "2024-03-09T17:57:47.152645300Z"
    }
   },
   "id": "b9775f9ae733d5b"
  },
  {
   "cell_type": "markdown",
   "source": [
    "Uruchomienie powyższego kodu pokazuje, że ponieważ foo jest instancja klasy Foobar, jego typem jest klasa Foobar\n",
    "\n",
    "- instancja - oznacza obiekt utworzony na podstawie klasy.\n",
    "- typ - oznacza rodzaj obiektu. W tym przypadku foo jest obiektem, a jego typem jest klasa Foobar.\n",
    "\n",
    "Z drugiej strony, klasa Foobar zwraca swój własny typ jako type, który, jak wspomnieliśmy wcześniej, jest domyślną metaklasą.\n",
    "metaklasa - to specjalna klasa, która definiuje, w jaki sposób tworzone są inne klasy.\n",
    "domyślna metaklasa - w Pythonie domyślną metaklasą jest klasa type.\n",
    "W skrócie, kod pokazuje różnicę między typem instancji obiektu (klasa Foobar) a typem samej klasy (type). Klasa Foobar została utworzona przez domyślną metaklasę type.\n",
    "\n",
    "**Definiowanie własnych metaklas**\n",
    "Funkcja type() pozwala na bezpośrednie definiowanie klas poprzez przekazanie jej następujących argumentów:\n",
    "- nazwa klasy - nazwa tworzonej klasy.\n",
    "- krotka bazowych klas - krotka zawierająca klasy bazowe, od których dziedziczy nowa klasa.\n",
    "- słownik zawierający metody i zmienne klasy - słownik, w którym kluczami są nazwy metod i zmiennych, a wartościami odpowiednie definicje.\n",
    "\n",
    "![](img/45_metaklasa.PNG)\n",
    "\n",
    "**Tworzenie własnej metaklasy w Pythonie**\n",
    "Aby stworzyć własną metaklasę, najpierw musimy odziedziczyć domyślną metaklasę type, a następnie nadpisać jej metody __new__ i __init__. Poniższy kod definiuje metaklasę z niestandardową metodą __new__, która dodaje nowy atrybut x do klasy. Klasa Foo dziedziczy atrybuty swojej metaklasy Meta:"
   ],
   "metadata": {
    "collapsed": false
   },
   "id": "73ed68ca7e305870"
  },
  {
   "cell_type": "code",
   "execution_count": 2,
   "outputs": [
    {
     "name": "stdout",
     "output_type": "stream",
     "text": [
      "100\n"
     ]
    }
   ],
   "source": [
    "class Meta(type):\n",
    "    # overriding the new method of the metaclass\n",
    "    def __new__(cls, name, bases, dct):\n",
    "        x = super().__new__(cls, name, bases, dct)\n",
    "        # defining that each class with th=is metaclass\n",
    "        # should have a variable, x with a default value\n",
    "        x.attr = 100\n",
    "        return x\n",
    "\n",
    "# defining a class with Meta as its metaclass instead\n",
    "# of type\n",
    "class Foo(metaclass = Meta):\n",
    "    pass\n",
    "\n",
    "# printing the variables in our newly defined class\n",
    "print(Foo.attr)"
   ],
   "metadata": {
    "collapsed": false,
    "ExecuteTime": {
     "end_time": "2024-03-09T18:06:41.200591900Z",
     "start_time": "2024-03-09T18:06:41.183414900Z"
    }
   },
   "id": "8490f70e08182481"
  },
  {
   "cell_type": "markdown",
   "source": [
    "**Zastosowania własnych metaklas**\n",
    "Metaklasy znajdują zastosowanie w różnych obszarach programowania, takich jak:\n",
    "- Logowanie: Rejestrowanie informacji o tworzeniu i zachowaniu klas.\n",
    "- Rejestracja klas w momencie tworzenia: Automatyczne dodawanie nowo utworzonych klas do rejestru w celu późniejszego wykorzystania.\n",
    "- Profilowanie: Pomiar wydajności kodu poprzez dodawanie mechanizmów śledzenia do klas za pomocą metaklas.\n",
    "- I wiele innych: Możliwości wykorzystania metaklas są szerokie i zależą od konkretnych potrzeb programisty.\n",
    "\n",
    "Metaklasy dziedziczą się w hierarchii klas, dzięki czemu wszystkie podklasy dziedziczą atrybuty i metody zdefiniowane w metaklasie. Ta właściwość jest szczególnie przydatna, gdy chcemy, aby nasze klasy automatycznie posiadały określone atrybuty w momencie ich tworzenia."
   ],
   "metadata": {
    "collapsed": false
   },
   "id": "316c89f28df277fc"
  },
  {
   "cell_type": "code",
   "execution_count": null,
   "outputs": [],
   "source": [],
   "metadata": {
    "collapsed": false
   },
   "id": "154e7405c417284d"
  }
 ],
 "metadata": {
  "kernelspec": {
   "display_name": "Python 3",
   "language": "python",
   "name": "python3"
  },
  "language_info": {
   "codemirror_mode": {
    "name": "ipython",
    "version": 2
   },
   "file_extension": ".py",
   "mimetype": "text/x-python",
   "name": "python",
   "nbconvert_exporter": "python",
   "pygments_lexer": "ipython2",
   "version": "2.7.6"
  }
 },
 "nbformat": 4,
 "nbformat_minor": 5
}

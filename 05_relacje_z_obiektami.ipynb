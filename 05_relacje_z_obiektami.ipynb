{
 "cells": [
  {
   "cell_type": "markdown",
   "source": [
    "**Wprowadzenie**\n",
    "Interakcja między obiektami klas odnosi się do zdolności obiektów z różnych klas do komunikacji i współpracy ze sobą w celu osiągnięcia określonych zadań lub funkcjonalności w ramach aplikacji.\n",
    "\n",
    "Na przykład, rozważmy scenariusz, w którym mamy klasę Użytkownik i klasę Produkt w aplikacji e-commerce. Klasa Użytkownik może potrzebować interakcji z klasą Produkt w celu dodawania przedmiotów do koszyka lub wyświetlania szczegółów produktu. Ta interakcja polega na wywoływaniu metod między obiektami tych klas.\n",
    "\n",
    "Podobnie w aplikacji gry możemy mieć klasy reprezentujące różne elementy gry, takie jak Gracz, Przeciwnik i Broń. Te klasy muszą ze sobą współdziałać podczas rozgrywki, na przykład gdy gracz atakuje przeciwnika używając broni.\n",
    "\n",
    "Ogólnie rzecz biorąc, interakcja między obiektami klas jest istotna dla budowy złożonych systemów oprogramowania, w których różne komponenty muszą współpracować, aby osiągnąć pożądaną funkcjonalność. Ta interakcja promuje modularność, możliwość ponownego wykorzystania kodu i elastyczność aplikacji.\n",
    "![](img/38_relacje_między_obiektami.PNG)\n",
    "\n",
    "Relacje między klasami\n",
    "Istnieją trzy główne relacje między klasami, które warto poznać:\n",
    "1. IS A\n",
    "2. Part-of\n",
    "3. Has-a"
   ],
   "metadata": {
    "collapsed": false
   },
   "id": "e47f007e25b00386"
  },
  {
   "cell_type": "markdown",
   "source": [
    "**Part-of**\n",
    "W tej relacji jedna klasa obiektu jest składnikiem innego obiektu klasy. Jeśli mamy dwie klasy, klasę A i klasę B, są one w relacji części, jeśli obiekt klasy A jest częścią obiektu klasy B lub odwrotnie.\n",
    "\n",
    "Instancja klasy składowej może być tworzona tylko wewnątrz klasy głównej. W przykładzie po prawej stronie klasy B i C mają swoje własne implementacje, ale ich obiekty są tworzone tylko wtedy, gdy utworzony zostanie obiekt klasy A. Dlatego relacja części jest relacją zależną.\n",
    "![](img/39_part_of.PNG)"
   ],
   "metadata": {
    "collapsed": false
   },
   "id": "6c0ce844437ce84d"
  },
  {
   "cell_type": "markdown",
   "source": [
    "**Has-a**\n",
    "To jest nieco mniej konkretne powiązanie między dwiema klasami. Klasa A i klasa B mają relację ma-jeśli jedna lub obie potrzebują obiektu drugiej, aby wykonać operację, ale oba obiekty klas mogą istnieć niezależnie od siebie.\n",
    "\n",
    "Oznacza to, że klasa ma odniesienie do obiektu drugiej klasy, ale nie decyduje o czasie życia odniesionego obiektu drugiej klasy.\n",
    "\n",
    "Ponieważ Python kompiluje się od góry do dołu, upewnij się, że zdefiniowałeś klasę przed utworzeniem obiektu tej klasy.\n",
    "![](img/40_has_a.PNG)"
   ],
   "metadata": {
    "collapsed": false
   },
   "id": "b7b19f5548d9ed76"
  },
  {
   "cell_type": "markdown",
   "source": [
    "**Agregacja**\n",
    "Aggregacja podąża za modelem Has-A. Tworzy to relację rodzic-dziecko między dwoma klasami, gdzie jedna klasa posiada obiekt drugiej.\n",
    "\n",
    "Co więc czyni agregację unikalną?\n",
    "Niezależne czasz życia\n",
    "W agregacji, czas życia posiadanych obiektów nie zależy od czasu życia właściciela.\n",
    "\n",
    "Obiekt właściciela może zostać usunięty, ale obiekt posiadany może nadal istnieć w programie. W agregacji, rodzic zawiera jedynie referencję do dziecka, co eliminuje zależność dziecka.\n",
    "![](img/41_agregacja.PNG)\n",
    "\n",
    "*Przykład*\n",
    "Weźmy na przykład ludzi i ich kraj pochodzenia. Każda osoba jest powiązana z krajem, ale kraj może istnieć bez danej osoby."
   ],
   "metadata": {
    "collapsed": false
   },
   "id": "deea5d5ff356229c"
  },
  {
   "cell_type": "code",
   "execution_count": 1,
   "outputs": [
    {
     "name": "stdout",
     "output_type": "stream",
     "text": [
      "Person Name: Joe\n",
      "Country Name: Wales\n",
      "Country Population 1500\n",
      "\n",
      "Country Name: Wales\n",
      "Country Population 1500\n"
     ]
    }
   ],
   "source": [
    "class Country:\n",
    "    def __init__(self, name=None, population=0):\n",
    "        self.name = name\n",
    "        self.population = population\n",
    "\n",
    "    def printDetails(self):\n",
    "        print(\"Country Name:\", self.name)\n",
    "        print(\"Country Population\", self.population)\n",
    "\n",
    "\n",
    "class Person:\n",
    "    def __init__(self, name, country):\n",
    "        self.name = name\n",
    "        self.country = country\n",
    "\n",
    "    def printDetails(self):\n",
    "        print(\"Person Name:\", self.name)\n",
    "        self.country.printDetails()\n",
    "\n",
    "\n",
    "c = Country(\"Wales\", 1500)\n",
    "p = Person(\"Joe\", c)\n",
    "p.printDetails()\n",
    "\n",
    "# deletes the object p\n",
    "del p\n",
    "print(\"\")\n",
    "c.printDetails()"
   ],
   "metadata": {
    "collapsed": false,
    "ExecuteTime": {
     "end_time": "2024-03-06T16:45:24.100158900Z",
     "start_time": "2024-03-06T16:45:24.095641800Z"
    }
   },
   "id": "3afa8e1deaebc599"
  },
  {
   "cell_type": "markdown",
   "source": [
    "Jak widać, obiekt Country c istnieje nawet po usunięciu obiektu Person p. To tworzy słabszy związek między tymi dwoma klasami."
   ],
   "metadata": {
    "collapsed": false
   },
   "id": "78fd9ac65a08cff3"
  },
  {
   "cell_type": "markdown",
   "source": [
    "**Kompozycja**\n",
    "Kompozycja to praktyka dostępu do obiektów innych klas w twojej klasie. W takim scenariuszu klasa, która tworzy obiekt innej klasy, jest nazywana właścicielem i jest odpowiedzialna za czas życia tego obiektu.\n",
    "\n",
    "Relacje kompozycji to relacje Part-of, gdzie część musi stanowić segment całościowego obiektu. Możemy osiągnąć kompozycję dodając mniejsze części innych klas, aby stworzyć złożoną jednostkę.\n",
    "\n",
    "Ale co sprawia, że kompozycja jest tak wyjątkowa?\n",
    "W kompozycji czas życia posiadanych obiektów zależy od czasu życia właściciela.\n",
    "\n",
    "Przykład\n",
    "Samochód składa się z silnika, opon i drzwi. W tym przypadku Samochód jest właścicielem tych obiektów, więc klasa Samochód jest klasą Właściciela, a klasy opon, drzwi i silnika są klasami Posiadanych.\n",
    "\n",
    "Implementacja\n",
    "Aby lepiej zrozumieć, przeanalizujemy implementację klasy Samochód, która składa się z następujących składników:\n",
    "Silnik\n",
    "Opony\n",
    "Drzwi"
   ],
   "metadata": {
    "collapsed": false
   },
   "id": "2b3ebec353c16b35"
  },
  {
   "cell_type": "code",
   "execution_count": 2,
   "outputs": [
    {
     "name": "stdout",
     "output_type": "stream",
     "text": [
      "Engine Details: 1600\n",
      "Number of tires: 4\n",
      "Number of doors: 2\n",
      "Car color: Grey\n"
     ]
    }
   ],
   "source": [
    "class Engine:\n",
    "    def __init__(self, capacity=0):\n",
    "        self.capacity = capacity\n",
    "\n",
    "    def printDetails(self):\n",
    "        print(\"Engine Details:\", self.capacity)\n",
    "\n",
    "\n",
    "class Tires:\n",
    "    def __init__(self, tires=0):\n",
    "        self.tires = tires\n",
    "\n",
    "    def printDetails(self):\n",
    "        print(\"Number of tires:\", self.tires)\n",
    "\n",
    "\n",
    "class Doors:\n",
    "    def __init__(self, doors=0):\n",
    "        self.doors = doors\n",
    "\n",
    "    def printDetails(self):\n",
    "        print(\"Number of doors:\", self.doors)\n",
    "\n",
    "\n",
    "class Car:\n",
    "    def __init__(self, eng, tr, dr, color):\n",
    "        self.eObj = Engine(eng)\n",
    "        self.tObj = Tires(tr)\n",
    "        self.dObj = Doors(dr)\n",
    "        self.color = color\n",
    "\n",
    "    def printDetails(self):\n",
    "        self.eObj.printDetails()\n",
    "        self.tObj.printDetails()\n",
    "        self.dObj.printDetails()\n",
    "        print(\"Car color:\", self.color)\n",
    "\n",
    "\n",
    "car = Car(1600, 4, 2, \"Grey\")\n",
    "car.printDetails()"
   ],
   "metadata": {
    "collapsed": false,
    "ExecuteTime": {
     "end_time": "2024-03-06T16:48:45.953121300Z",
     "start_time": "2024-03-06T16:48:45.937154Z"
    }
   },
   "id": "efe983163f0863c8"
  },
  {
   "cell_type": "markdown",
   "source": [
    "Utworzyliśmy klasę Car, która zawiera obiekty klas Engine, Tires i Doors. Klasa Car jest odpowiedzialna za ich czas życia, czyli gdy samochód umiera, tak samo umierają opony, silnik i drzwi."
   ],
   "metadata": {
    "collapsed": false
   },
   "id": "151597d25ef08613"
  },
  {
   "cell_type": "code",
   "execution_count": null,
   "outputs": [],
   "source": [],
   "metadata": {
    "collapsed": false
   },
   "id": "3f13c80338c07bb2"
  }
 ],
 "metadata": {
  "kernelspec": {
   "display_name": "Python 3",
   "language": "python",
   "name": "python3"
  },
  "language_info": {
   "codemirror_mode": {
    "name": "ipython",
    "version": 2
   },
   "file_extension": ".py",
   "mimetype": "text/x-python",
   "name": "python",
   "nbconvert_exporter": "python",
   "pygments_lexer": "ipython2",
   "version": "2.7.6"
  }
 },
 "nbformat": 4,
 "nbformat_minor": 5
}

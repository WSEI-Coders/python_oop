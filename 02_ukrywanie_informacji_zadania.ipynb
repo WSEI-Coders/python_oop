{
 "cells": [
  {
   "cell_type": "markdown",
   "source": [
    "**Zadanie 1: Zaimplementuj klasę Rectangle za pomocą enkapsulacji**\n",
    "\n",
    "Czynność 1\n",
    "Zaimplementuj konstruktor w celu zainicjowania wartości dwóch prywatnych właściwości: długość (length) i szerokość (width).\n",
    "\n",
    "Czynność 2\n",
    "Zaimplementuj metodę, area(), w klasie Rectangle, która zwraca iloczyn długości i szerokości. Patrz na poniższy wzór:\n",
    "Pole = długość x szerokość\n",
    "\n",
    "Czynność 3\n",
    "Zaimplementuj metodę, perimeter(), w klasie Rectangle, która zwraca dwa razy sumę długości i szerokości. Patrz na poniższy wzór:\n",
    "Obwód = 2 x (długość + szerokość)\n",
    "\n",
    "Przykładowe dane wejściowe\n",
    "długość = 4\n",
    "szerokość = 5\n",
    "\n",
    "Przykładowy wynik\n",
    "Pole: 20\n",
    "Obwód: 18"
   ],
   "metadata": {
    "collapsed": false
   },
   "id": "b568d84cb500b380"
  },
  {
   "cell_type": "code",
   "execution_count": 2,
   "outputs": [
    {
     "name": "stdout",
     "output_type": "stream",
     "text": [
      "20\n",
      "18\n"
     ]
    }
   ],
   "source": [
    "class Rectangle:\n",
    "    def __init__(self, length, width):\n",
    "        self.__length = length\n",
    "        self.__width = width\n",
    "\n",
    "    def area(self):\n",
    "        return self.__length * self.__width\n",
    "\n",
    "    def perimeter(self):\n",
    "        return 2 * (self.__length + self.__width)\n",
    "    \n",
    "    \n",
    "obj1 = Rectangle(4, 5)\n",
    "print(obj1.area())\n",
    "print(obj1.perimeter())"
   ],
   "metadata": {
    "collapsed": false,
    "ExecuteTime": {
     "end_time": "2024-03-05T18:22:46.907551600Z",
     "start_time": "2024-03-05T18:22:46.902056200Z"
    }
   },
   "id": "57f21fbafc19d99b"
  },
  {
   "cell_type": "markdown",
   "source": [
    "W liniach 3-4 zdefiniowaliśmy inicjalizator dla klasy i zadeklarowaliśmy w nim prywatne właściwości - __length (długość) i __width (szerokość).\n",
    "\n",
    "W linii 7 zdefiniowaliśmy metodę area() i zwróciliśmy w niej iloczyn dwóch właściwości - __length i __width.\n",
    "\n",
    "W linii 10 zdefiniowaliśmy metodę perimeter() i zwróciliśmy dwukrotność sumy dwóch właściwości - __length i __width.\n",
    "\n",
    "W funkcji głównej w linii 13 zdefiniowaliśmy obiekt klasy Rectangle, obj1, z właściwościami 4 i 5.\n",
    "\n",
    "W liniach 14-15 wywołujemy metody area() i perimeter() oraz drukujemy ich wartości."
   ],
   "metadata": {
    "collapsed": false
   },
   "id": "d1553f6ab1182a12"
  },
  {
   "cell_type": "markdown",
   "source": [
    "**Zadanie 2: Zaimplementuj kompletną klasę studentów**\n",
    "Zaimplementuj następujące właściwości jako prywatne:\n",
    "name\n",
    "rollNumber\n",
    "\n",
    "Dołącz następujące metody do pobierania i ustawiania prywatnych właściwości:\n",
    "getName()\n",
    "setName()\n",
    "getRollNumber()\n",
    "setRollNumber()\n",
    "\n",
    "Zaimplementuj tę klasę zgodnie z zasadami hermetyzacji.\n",
    "\n",
    "*Uwaga! Konstruktor nie powinien pobierać żadnych parametrów*"
   ],
   "metadata": {
    "collapsed": false
   },
   "id": "5a259a635129be2e"
  },
  {
   "cell_type": "code",
   "execution_count": 3,
   "outputs": [
    {
     "name": "stdout",
     "output_type": "stream",
     "text": [
      "John\n",
      "77\n"
     ]
    }
   ],
   "source": [
    "class Student:\n",
    "    def __init__(self):\n",
    "        self.__name = None\n",
    "        self.__rollNumber = None\n",
    "\n",
    "    def setName(self, name):\n",
    "        self.__name = name\n",
    "\n",
    "    def getName(self):\n",
    "        return self.__name\n",
    "\n",
    "    def setRollNumber(self, num):\n",
    "        self.__rollNumber = num\n",
    "\n",
    "    def getRollNumber(self):\n",
    "        return self.__rollNumber\n",
    "    \n",
    "    \n",
    "s1 = Student()\n",
    "s1.setName(\"John\")\n",
    "s1.setRollNumber(77)\n",
    "print(s1.getName())\n",
    "print(s1.getRollNumber())"
   ],
   "metadata": {
    "collapsed": false,
    "ExecuteTime": {
     "end_time": "2024-03-05T18:29:24.183837Z",
     "start_time": "2024-03-05T18:29:24.170974700Z"
    }
   },
   "id": "430cdb161e733dcb"
  },
  {
   "cell_type": "markdown",
   "source": [
    "**Wyjaśnienie**\n",
    "Zaimplementowaliśmy klasę Student, która posiada dwie prywatne właściwości - __name (imię) i __rollNumber (numer roli).\n",
    "\n",
    "W linii 7 zaimplementowaliśmy metodę setName(name), która ustawia właściwość __name.\n",
    "\n",
    "W linii 10 zaimplementowaliśmy metodę getName(), która zwraca właściwość __name.\n",
    "\n",
    "W linii 13 zaimplementowaliśmy metodę setRollNumber(RollNumber), która ustawia właściwość __rollNumber.\n",
    "\n",
    "W linii 16 zaimplementowaliśmy metodę getRollNumber(), która zwraca właściwość __rollNumber."
   ],
   "metadata": {
    "collapsed": false
   },
   "id": "b4138a3c30ec582d"
  },
  {
   "cell_type": "code",
   "execution_count": null,
   "outputs": [],
   "source": [],
   "metadata": {
    "collapsed": false
   },
   "id": "b45aec00062c353b"
  }
 ],
 "metadata": {
  "kernelspec": {
   "display_name": "Python 3",
   "language": "python",
   "name": "python3"
  },
  "language_info": {
   "codemirror_mode": {
    "name": "ipython",
    "version": 2
   },
   "file_extension": ".py",
   "mimetype": "text/x-python",
   "name": "python",
   "nbconvert_exporter": "python",
   "pygments_lexer": "ipython2",
   "version": "2.7.6"
  }
 },
 "nbformat": 4,
 "nbformat_minor": 5
}

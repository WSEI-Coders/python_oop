{
 "cells": [
  {
   "cell_type": "markdown",
   "source": [
    "**Co to jest polimorfizm?**\n",
    "\n",
    "*Definicja*\n",
    "Słowo polimorfizm jest połączeniem dwóch greckich słów: Poly, oznaczającego wiele, i Morph, oznaczającego formy.\n",
    "\n",
    "W programowaniu polimorfizm odnosi się do tego samego obiektu wykazującego różne formy i zachowania.\n",
    "\n",
    "Na przykład, weźmy klasę Shape (Kształt). Dokładny kształt, który wybierzesz, może być czymkolwiek. Może to być prostokąt, koło, wielokąt lub diament. Pomimo że są to wszystko kształty, ich właściwości są różne. To właśnie nazywane jest polimorfizmem.\n",
    "![](img/30_polymorphism.PNG)\n",
    "\n",
    "*Krótkie wprowadzenie*\n",
    "Załóżmy, że istnieje klasa nadrzędna o nazwie Shape, z której dziedziczą klasy potomne Rectangle, Circle, Polygon i Diamond.\n",
    "\n",
    "Załóżmy, że twoja aplikacja będzie potrzebować metod do obliczenia pola powierzchni dla każdego konkretnego kształtu. Pole dla każdego kształtu jest obliczane inaczej, dlatego nie możesz mieć jednej implementacji. Możesz dodać osobne metody w każdej klasie (na przykład getSquareArea(), getCircleArea() itp.). Ale to sprawia, że trudniej jest zapamiętać nazwę każdej metody.\n",
    "\n",
    "*Uprość rzeczy dzięki polimorfizmowi*\n",
    "Byłoby lepiej, gdyby wszystkie konkretne metody obliczania pola mogły być wywoływane jako getArea(). Wtedy trzeba zapamiętać tylko jedną nazwę metody, a kiedy wywołasz tę metodę, zostanie wywołana metoda właściwa dla tego obiektu. Można to osiągnąć w programowaniu obiektowym przy użyciu polimorfizmu. Klasa bazowa deklaruje funkcję, nie dostarczając implementacji. Każda klasa pochodna dziedziczy deklarację funkcji i może dostarczyć własną implementację.\n",
    "\n",
    "Załóżmy, że klasa Shape ma metodę o nazwie getArea(), która jest dziedziczona przez wszystkie wymienione klasy pochodne. Dzięki polimorfizmowi, każda klasa pochodna może mieć własny sposób implementacji tej metody. Na przykład, gdy metoda getArea() zostanie wywołana na obiekcie klasy Rectangle, metoda odpowie przez wyświetlenie pola prostokąta. Z drugiej strony, gdy ta sama metoda zostanie wywołana na obiekcie klasy Circle, zostanie obliczone pole koła i wyświetlone na ekranie.\n",
    "\n",
    "*Czego dokonuje polimorfizm?*\n",
    "W rezultacie polimorfizm redukuje pracę programisty. Gdy nadejdzie czas tworzenia bardziej konkretnych podklas z określonymi unikalnymi cechami i zachowaniami, programista może zmienić kod w konkretnych obszarach, w których odpowiedzi się różnią. Wszystkie inne części kodu mogą pozostać nietknięte."
   ],
   "metadata": {
    "collapsed": false
   },
   "id": "e7690c46a32af67e"
  },
  {
   "cell_type": "markdown",
   "source": [
    "**Implementacja polimorfizmu za pomocą metod**\n",
    "\n",
    "*Przykład*\n",
    "Rozważmy dwie figury, które są zdefiniowane jako klasy: Prostokąt i Koło. Te klasy zawierają metodę getArea(), która oblicza pole dla odpowiedniej figury w zależności od wartości ich właściwości.\n",
    "![](img/31_polymorphism.PNG)"
   ],
   "metadata": {
    "collapsed": false
   },
   "id": "a499e5b9ea4a441c"
  },
  {
   "cell_type": "code",
   "execution_count": 1,
   "outputs": [
    {
     "name": "stdout",
     "output_type": "stream",
     "text": [
      "Sides of a rectangle are 4\n",
      "Area of rectangle is: 60\n",
      "Sides of a circle are 0\n",
      "Area of circle is: 153.958\n"
     ]
    }
   ],
   "source": [
    "class Rectangle:\n",
    "\n",
    "    # initializer\n",
    "    def __init__(self, width=0, height=0):\n",
    "        self.width = width\n",
    "        self.height = height\n",
    "        self.sides = 4\n",
    "\n",
    "    # method to calculate Area\n",
    "    def getArea(self):\n",
    "        return (self.width * self.height)\n",
    "\n",
    "\n",
    "class Circle:\n",
    "    # initializer\n",
    "    def __init__(self, radius=0):\n",
    "        self.radius = radius\n",
    "        self.sides = 0\n",
    "\n",
    "    # method to calculate Area\n",
    "    def getArea(self):\n",
    "        return (self.radius * self.radius * 3.142)\n",
    "\n",
    "\n",
    "shapes = [Rectangle(6, 10), Circle(7)]\n",
    "print(\"Sides of a rectangle are\", str(shapes[0].sides))\n",
    "print(\"Area of rectangle is:\", str(shapes[0].getArea()))\n",
    "\n",
    "print(\"Sides of a circle are\", str(shapes[1].sides))\n",
    "print(\"Area of circle is:\", str(shapes[1].getArea()))"
   ],
   "metadata": {
    "collapsed": false,
    "ExecuteTime": {
     "end_time": "2024-03-06T08:27:54.295645300Z",
     "start_time": "2024-03-06T08:27:54.287646800Z"
    }
   },
   "id": "45efae867a61d57f"
  },
  {
   "cell_type": "markdown",
   "source": [
    "**Wyjaśnienie**\n",
    "W funkcji głównej, w linii 25, zadeklarowaliśmy listę zawierającą dwa obiekty.\n",
    "\n",
    "Pierwszy obiekt to Prostokąt o szerokości 6 i wysokości 10, a drugi obiekt to Koło o promieniu 7.\n",
    "\n",
    "Na liniach 10 i 21, obie klasy mają metodę getArea(), ale wykonanie tej metody jest różne dla każdej klasy.\n",
    "\n",
    "Wywołania metod w liniach 27 i 30 wyglądają identycznie, ale wywoływane są różne metody. W ten sposób osiągnęliśmy polimorfizm."
   ],
   "metadata": {
    "collapsed": false
   },
   "id": "c26408e4c71af6b7"
  },
  {
   "cell_type": "markdown",
   "source": [
    "**Implementacja polimorfizmu przy użyciu dziedziczenia**\n",
    "Możemy dodać nowe dane i metody do klasy poprzez dziedziczenie. Ale co jeśli chcemy, aby nasza klasa pochodna dziedziczyła metodę z klasy bazowej i miała dla niej inną implementację? Właśnie wtedy wchodzi w grę polimorfizm, fundamentalne pojęcie w paradygmacie programowania obiektowego.\n",
    "\n",
    "*Przykład*\n",
    "Rozważmy przykład klasy Shape, która jest klasą bazową, podczas gdy wiele kształtów, takich jak Prostokąt i Koło, rozszerzające klasę bazową, są klasami pochodnymi. Te klasy pochodne dziedziczą metodę getArea() i dostarczają specyficzną dla kształtu implementację, która oblicza jego pole.\n",
    "![](img/32_polymorphism.PNG)"
   ],
   "metadata": {
    "collapsed": false
   },
   "id": "b5941fd71a6f29f4"
  },
  {
   "cell_type": "code",
   "execution_count": 1,
   "outputs": [
    {
     "name": "stdout",
     "output_type": "stream",
     "text": [
      "Area of rectangle is: 60\n",
      "Area of circle is: 153.958\n"
     ]
    }
   ],
   "source": [
    "class Shape:\n",
    "    def __init__(self):\n",
    "        self.sides = 0\n",
    "\n",
    "    def getArea(self):\n",
    "        pass\n",
    "    \n",
    "    \n",
    "# Rectangle IS A Shape with a specific width and height\n",
    "class Rectangle(Shape):  # derived form Shape class\n",
    "    # initializer\n",
    "    def __init__(self, width, height):\n",
    "        self.width = width\n",
    "        self.height = height\n",
    "        self.sides = 4\n",
    "\n",
    "    # method to calculate Area\n",
    "    def getArea(self):\n",
    "        return (self.width * self.height)\n",
    "    \n",
    "    \n",
    "# Circle IS A Shape with a specific radius\n",
    "class Circle(Shape):  # derived form Shape class\n",
    "    # initializer\n",
    "    def __init__(self, radius):\n",
    "        self.radius = radius\n",
    "        self.sides = 0\n",
    "\n",
    "    # method to calculate Area\n",
    "    def getArea(self):\n",
    "        return (self.radius * self.radius * 3.142)\n",
    "    \n",
    "\n",
    "shapes = [Rectangle(6, 10), Circle(7)]\n",
    "print(\"Area of rectangle is:\", str(shapes[0].getArea()))\n",
    "print(\"Area of circle is:\", str(shapes[1].getArea()))"
   ],
   "metadata": {
    "collapsed": false,
    "ExecuteTime": {
     "end_time": "2024-03-06T14:25:35.597892200Z",
     "start_time": "2024-03-06T14:25:35.589410Z"
    }
   },
   "id": "7b86176bc08caae8"
  },
  {
   "cell_type": "markdown",
   "source": [
    "**Wyjaśnienie**\n",
    "W funkcji głównej zadeklarowaliśmy listę, która zawiera dwa obiekty. Pierwszy obiekt to Prostokąt o szerokości 6 i wysokości 10. Drugi obiekt to Koło o promieniu 7.\n",
    "Metoda getArea() zwraca pole odpowiedniego kształtu. To jest Polimorfizm: posiadanie specjalizowanych implementacji tych samych metod dla każdej klasy."
   ],
   "metadata": {
    "collapsed": false
   },
   "id": "3dfc05cfb2595937"
  },
  {
   "cell_type": "markdown",
   "source": [
    "**Przesłanianie metody**\n",
    "Przesłanianie metody to proces zdefiniowania ponownego metody klasy nadrzędnej w klasie pochodnej.\n",
    "\n",
    "Innymi słowy, jeśli klasa pochodna dostarcza konkretnej implementacji metody, która została już zdefiniowana w jednej z jej klas nadrzędnych, nazywa się to przesłanianiem metody.\n",
    "\n",
    "W przypadku przesłaniania metody:\n",
    "1. Metoda w klasie nadrzędnej nazywana jest przesłanianą metodą.\n",
    "2. Metody w klasach potomnych nazywane są metodami przesłaniającymi.\n",
    "\n",
    "![](img/33_polymorphism.PNG)"
   ],
   "metadata": {
    "collapsed": false
   },
   "id": "37a69a3813cc59e4"
  },
  {
   "cell_type": "code",
   "execution_count": 2,
   "outputs": [
    {
     "name": "stdout",
     "output_type": "stream",
     "text": [
      "Area of rectangle is: 60\n",
      "Area of circle is: 153.958\n"
     ]
    }
   ],
   "source": [
    "class Shape:\n",
    "    def __init__(self):  # initializing sides of all shapes to 0\n",
    "        self.sides = 0\n",
    "\n",
    "    def getArea(self):\n",
    "        pass\n",
    "\n",
    "\n",
    "class Rectangle(Shape):  # derived form Shape class\n",
    "    # initializer\n",
    "    def __init__(self, width=0, height=0):\n",
    "        self.width = width\n",
    "        self.height = height\n",
    "        self.sides = 4\n",
    "\n",
    "    # method to calculate Area\n",
    "    def getArea(self):\n",
    "        return (self.width * self.height)\n",
    "\n",
    "\n",
    "class Circle(Shape):  # derived form Shape class\n",
    "    # initializer\n",
    "    def __init__(self, radius=0):\n",
    "        self.radius = radius\n",
    "\n",
    "    # method to calculate Area\n",
    "    def getArea(self):\n",
    "        return (self.radius * self.radius * 3.142)\n",
    "\n",
    "\n",
    "shapes = [Rectangle(6, 10), Circle(7)]\n",
    "print(\"Area of rectangle is:\", str(shapes[0].getArea()))\n",
    "print(\"Area of circle is:\", str(shapes[1].getArea()))"
   ],
   "metadata": {
    "collapsed": false,
    "ExecuteTime": {
     "end_time": "2024-03-06T14:29:00.854827800Z",
     "start_time": "2024-03-06T14:29:00.837364500Z"
    }
   },
   "id": "4b116a1204d6d684"
  },
  {
   "cell_type": "markdown",
   "source": [
    "**Zalety i kluczowe cechy przesłaniania metod**\n",
    "Klasy pochodne mogą dostarczyć swoje własne specyficzne implementacje dziedziczonych metod bez modyfikowania metod klasy nadrzędnej.\n",
    "\n",
    "Dla dowolnej metody klasa potomna może użyć implementacji w klasie nadrzędnej lub stworzyć swoją własną implementację.\n",
    "\n",
    "Przesłanianie metod wymaga dziedziczenia i powinna istnieć co najmniej jedna klasa pochodna, aby to zaimplementować.\n",
    "\n",
    "Metody w klasach pochodnych zazwyczaj mają różne implementacje."
   ],
   "metadata": {
    "collapsed": false
   },
   "id": "55300680bef4426"
  },
  {
   "cell_type": "markdown",
   "source": [
    "**Przeciążanie operatorów w Pythonie**\n",
    "Operatory w Pythonie mogą być przeciążane, aby działać w określony sposób zdefiniowany przez użytkownika. Za każdym razem, gdy w Pythonie używany jest operator, odpowiadająca mu metoda jest wywoływana, aby wykonać jego predefiniowaną funkcję. Na przykład, gdy operator + jest wywoływany, wywołuje on specjalną funkcję add w Pythonie, ale ten operator działa inaczej dla różnych typów danych. Na przykład operator + dodaje liczby, gdy jest używany między dwoma typami danych int i łączy dwa łańcuchy, gdy jest używany między typami danych string.\n",
    "\n",
    "Uruchom poniższy kod, aby zobaczyć implementację operatora + dla liczb całkowitych i łańcuchów znaków."
   ],
   "metadata": {
    "collapsed": false
   },
   "id": "2316b48f8ce1f5bf"
  },
  {
   "cell_type": "code",
   "execution_count": 3,
   "outputs": [
    {
     "name": "stdout",
     "output_type": "stream",
     "text": [
      "8\n",
      "moneymaker\n"
     ]
    }
   ],
   "source": [
    "print(5 + 3)  # adding integers using '+'\n",
    "print(\"money\" + \"maker\")  # merging strings using '+'"
   ],
   "metadata": {
    "collapsed": false,
    "ExecuteTime": {
     "end_time": "2024-03-06T14:31:10.558465700Z",
     "start_time": "2024-03-06T14:31:10.542001100Z"
    }
   },
   "id": "dc066ef722cf0cdb"
  },
  {
   "cell_type": "markdown",
   "source": [
    "**Przeciążanie operatorów dla użytkownej klasy**\n",
    "Kiedy klasa jest zdefiniowana, jej obiekty mogą współdziałać ze sobą za pomocą operatorów, ale konieczne jest zdefiniowanie zachowania tych operatorów poprzez przeciążanie operatorów.\n",
    "\n",
    "Będziemy implementować klasę reprezentującą liczbę zespoloną. Liczba zespolona składa się z części rzeczywistej i części urojonej.\n",
    "![](img/34_overloading.PNG)\n",
    "\n",
    "Gdy dodajemy liczbę zespoloną, część rzeczywista jest dodawana do części rzeczywistej, a część urojona jest dodawana do części urojonej.\n",
    "\n",
    "Podobnie, gdy odejmujemy liczbę zespoloną, część rzeczywista jest odejmowana od części rzeczywistej, a część urojona jest odejmowana od części urojonej.\n",
    "\n",
    "Przykład tego jest pokazany poniżej:\n",
    "\\begin{align*}\n",
    "a &= 3 + 7i \\\\\n",
    "b &= 2 + 5i \\\\\n",
    "a + b &= (3 + 2) + (7 + 5)i = 5 + 12i \\\\\n",
    "a - b &= (3 - 2) + (7 - 5)i = 1 + 2i \\\\\n",
    "\\end{align*}\n",
    "\n",
    "Teraz zaimplementujmy klasę liczby zespolonej i przeciążmy operatory + i - poniżej:"
   ],
   "metadata": {
    "collapsed": false
   },
   "id": "8cdff42f7dfd7f27"
  },
  {
   "cell_type": "code",
   "execution_count": 4,
   "outputs": [
    {
     "name": "stdout",
     "output_type": "stream",
     "text": [
      "real of obj3: 5\n",
      "imag of obj3: 12\n",
      "real of obj4: 1\n",
      "imag of obj4: 2\n"
     ]
    }
   ],
   "source": [
    "class Com:\n",
    "    def __init__(self, real=0, imag=0):\n",
    "        self.real = real\n",
    "        self.imag = imag\n",
    "\n",
    "    def __add__(self, other):  # overloading the `+` operator\n",
    "        temp = Com(self.real + other.real, self.imag + other.imag)\n",
    "        return temp\n",
    "\n",
    "    def __sub__(self, other):  # overloading the `-` operator\n",
    "        temp = Com(self.real - other.real, self.imag - other.imag)\n",
    "        return temp\n",
    "\n",
    "\n",
    "obj1 = Com(3, 7)\n",
    "obj2 = Com(2, 5)\n",
    "\n",
    "obj3 = obj1 + obj2\n",
    "obj4 = obj1 - obj2\n",
    "\n",
    "print(\"real of obj3:\", obj3.real)\n",
    "print(\"imag of obj3:\", obj3.imag)\n",
    "print(\"real of obj4:\", obj4.real)\n",
    "print(\"imag of obj4:\", obj4.imag)"
   ],
   "metadata": {
    "collapsed": false,
    "ExecuteTime": {
     "end_time": "2024-03-06T14:34:40.302878100Z",
     "start_time": "2024-03-06T14:34:40.283459300Z"
    }
   },
   "id": "b1cd1b2a85dcb559"
  },
  {
   "cell_type": "markdown",
   "source": [
    "W powyższym kodzie przeciążyliśmy wbudowane metody __add__ (linia 6) i __sub__ (linia 10), które są wywoływane, gdy używane są operatory + i -.\n",
    "\n",
    "Za każdym razem, gdy dodawane są dwa obiekty klasy Com za pomocą operatora +, wywoływana jest przeciążona metoda __add__.\n",
    "\n",
    "Ta metoda dodaje osobno właściwość real i osobno właściwość imag, a następnie zwraca nowy obiekt klasy Com, który jest zainicjowany tymi sumami.\n",
    "\n",
    "Należy zauważyć, że metody __add__ i __sub__ mają dwa parametry wejściowe. Pierwszy to self, który jest referencją do samej klasy. Drugi parametr to other. other to referencja do innych obiektów, które współdziałają z obiektem klasy.\n",
    "\n",
    "W linii 18, obj2 będzie uznane za inny obiekt, operator będzie wywoływany na obiekcie obj1, a zwrócony obiekt zostanie przechowywany w obj3.\n",
    "\n",
    "W linii 19, obj2 będzie uznane za inny obiekt, operator będzie wywoływany na obiekcie obj1, a zwrócony obiekt zostanie przechowywany w obj4.\n",
    "\n",
    "other posiada atrybuty klasy Com i w związku z tym posiada właściwości real i imag.\n",
    "![](img/35_overloading.PNG)\n",
    "\n",
    "Możesz nazwać drugi argument dowolnie, ale zgodnie z konwencją będziemy używać słowa other, aby odnieść się do drugiego obiektu.\n",
    "\n",
    "Podobnie, za każdym razem, gdy dwa obiekty klasy Com są odejmowane za pomocą operatora -, wywoływana jest przeciążona metoda __sub__. Ta metoda odejmuje właściwości real i imag osobno, a następnie zwraca nowy obiekt klasy Com, który jest zainicjowany tymi różnicami.\n",
    "\n",
    "Poniżej znajdują się niektóre często używane funkcje specjalne, które można przeciążyć podczas implementowania operatorów dla obiektów klasy.\n",
    "<table>\n",
    "  <thead>\n",
    "    <tr>\n",
    "      <th>Operator</th>\n",
    "      <th>Metoda</th>\n",
    "    </tr>\n",
    "  </thead>\n",
    "  <tbody>\n",
    "    <tr>\n",
    "      <td>+</td>\n",
    "      <td>__add__ (self, other)</td>\n",
    "    </tr>\n",
    "    <tr>\n",
    "      <td>-</td>\n",
    "      <td>__sub__ (self, other)</td>\n",
    "    </tr>\n",
    "    <tr>\n",
    "      <td>/</td>\n",
    "      <td>__truediv__ (self, other)</td>\n",
    "    </tr>\n",
    "    <tr>\n",
    "      <td>*</td>\n",
    "      <td>__mul__ (self, other)</td>\n",
    "    </tr>\n",
    "    <tr>\n",
    "      <td>&lt;</td>\n",
    "      <td>__lt__ (self, other)</td>\n",
    "    </tr>\n",
    "    <tr>\n",
    "      <td>&gt;</td>\n",
    "      <td>__gt__ (self, other)</td>\n",
    "    </tr>\n",
    "    <tr>\n",
    "      <td>==</td>\n",
    "      <td>__eq__ (self, other)</td>\n",
    "    </tr>\n",
    "  </tbody>\n",
    "</table>\n",
    "\n",
    "To użytkownik decyduje, jak chce, aby obiekty współdziałały, gdy operator działa na nich, ale zazwyczaj muszą się upewnić, że te operacje mają sens. Na przykład operator + nie będzie używany do znajdowania iloczynów różnych właściwości klasy."
   ],
   "metadata": {
    "collapsed": false
   },
   "id": "3ffdecef7b4b0e66"
  },
  {
   "cell_type": "markdown",
   "source": [
    "**Wdrożenie polimorfizmu za pomocą Duck Typing**\n",
    "Duck Typing to jedna z najbardziej użytecznych koncepcji w programowaniu obiektowym w języku Python. Za pomocą Duck Typing możemy wdrożyć polimorfizm bez korzystania z dziedziczenia.\n",
    "\n",
    "Czym jest Duck Typing?\n",
    "Mówimy, że jeśli obiekt kwacze jak kaczka, pływa jak kaczka, je jak kaczka lub krótko mówiąc, zachowuje się jak kaczka, to ten obiekt jest kaczką.\n",
    "![](img/36a_duck_typing.PNG)\n",
    "![](img/36b_duck_typing.PNG)\n",
    "![](img/36c_duck_typing.PNG)\n",
    "![](img/36d_duck_typing.PNG)\n",
    "\n",
    "Duck Typing rozszerza koncepcję dynamicznego typowania w Pythonie.\n",
    "Dynamiczne typowanie oznacza, że możemy zmienić typ obiektu później w kodzie.\n",
    "Ze względu na dynamiczną naturę Pythona, Duck Typing pozwala użytkownikowi używać dowolnego obiektu, który zapewnia wymagane zachowanie, bez ograniczenia, że musi to być podklasa. Poniższy kod pokazuje lepsze zrozumienie dynamicznego typowania w Pythonie:"
   ],
   "metadata": {
    "collapsed": false
   },
   "id": "7518f83f05354ed2"
  },
  {
   "cell_type": "code",
   "execution_count": 5,
   "outputs": [
    {
     "name": "stdout",
     "output_type": "stream",
     "text": [
      "<class 'int'>\n",
      "<class 'str'>\n"
     ]
    }
   ],
   "source": [
    "x = 5  # type of x is an integer\n",
    "print(type(x))\n",
    "\n",
    "x = \"University\"  # type of x is now string\n",
    "print(type(x))"
   ],
   "metadata": {
    "collapsed": false,
    "ExecuteTime": {
     "end_time": "2024-03-06T14:54:54.944278600Z",
     "start_time": "2024-03-06T14:54:54.919335500Z"
    }
   },
   "id": "c89938532f52c4bf"
  },
  {
   "cell_type": "markdown",
   "source": [
    "Implementacja"
   ],
   "metadata": {
    "collapsed": false
   },
   "id": "ed521ae0d30257a1"
  },
  {
   "cell_type": "code",
   "execution_count": 6,
   "outputs": [
    {
     "name": "stdout",
     "output_type": "stream",
     "text": [
      "Woof woof\n",
      "Meow meow\n"
     ]
    }
   ],
   "source": [
    "class Dog:\n",
    "    def Speak(self):\n",
    "        print(\"Woof woof\")\n",
    "\n",
    "\n",
    "class Cat:\n",
    "    def Speak(self):\n",
    "        print(\"Meow meow\")\n",
    "\n",
    "\n",
    "class AnimalSound:\n",
    "    def Sound(self, animal):\n",
    "        animal.Speak()\n",
    "\n",
    "\n",
    "sound = AnimalSound()\n",
    "dog = Dog()\n",
    "cat = Cat()\n",
    "\n",
    "sound.Sound(dog)\n",
    "sound.Sound(cat)"
   ],
   "metadata": {
    "collapsed": false,
    "ExecuteTime": {
     "end_time": "2024-03-06T14:55:43.882486400Z",
     "start_time": "2024-03-06T14:55:43.861669700Z"
    }
   },
   "id": "6ecd0bc72ddaba31"
  },
  {
   "cell_type": "markdown",
   "source": [
    "**Wyjaśnienie**\n",
    "W linii 13, typ zwierzęcia nie jest określony w definicji metody Sound.\n",
    "\n",
    "Typ zwierzęcia jest określany podczas wywoływania metody, więc nie ma znaczenia, jaki typ obiektu przekazujesz jako parametr w metodzie Sound(), ważne jest, że metoda Speak() powinna być zdefiniowana we wszystkich klasach, których obiekty są przekazywane w metodzie Sound().\n",
    "\n",
    "Możemy używać dowolnej właściwości lub metody zwierzęcia w klasie AnimalSound, o ile jest ona zadeklarowana w tej klasie.\n",
    "\n",
    "**Wniosek**\n",
    "Teraz wracając do pytania, dlaczego nazywa się to Duck Typing: Jeśli ptak mówi jak kaczka, pływa jak kaczka i je jak kaczka, to ten ptak jest kaczką.\n",
    "\n",
    "Podobnie, w powyższym przykładzie, obiekt zwierzęcia nie ma znaczenia w definicji metody Sound, o ile ma zachowanie związane z mówieniem (Speak()) zdefiniowane w definicji klasy obiektu. W prostych słowach, ponieważ zarówno psy, jak i koty mogą mówić jak zwierzęta, oba są zwierzętami. Tak osiągnęliśmy polimorfizm bez dziedziczenia."
   ],
   "metadata": {
    "collapsed": false
   },
   "id": "bc63c02b5f29433c"
  },
  {
   "cell_type": "markdown",
   "source": [
    "**Abstrakcyjne klasy bazowe**\n",
    "Duck typing jest przydatne, ponieważ upraszcza kod, a użytkownik może implementować funkcje bez konieczności martwienia się o typ danych. Jednakże nie zawsze może to być przypadek. Użytkownik może nie stosować się do instrukcji dotyczących implementacji niezbędnych kroków do Duck typing. Aby rozwiązać ten problem, Python wprowadził koncepcję abstrakcyjnych klas bazowych, czyli ABC.\n",
    "\n",
    "Abstrakcyjne klasy bazowe definiują zestaw metod i właściwości, które klasa musi zaimplementować, aby zostać uznana za instancję Duck typing tej klasy."
   ],
   "metadata": {
    "collapsed": false
   },
   "id": "4ae09932e4bf6b84"
  },
  {
   "cell_type": "code",
   "execution_count": 7,
   "outputs": [],
   "source": [
    "class Shape:  # Shape is a child class of ABC\n",
    "    def area(self):\n",
    "        pass\n",
    "\n",
    "    def perimeter(self):\n",
    "        pass\n",
    "\n",
    "\n",
    "class Square(Shape):\n",
    "    def __init__(self, length):\n",
    "        self.length = length\n",
    "\n",
    "    def area(self):\n",
    "        return (self.length * self.length)\n",
    "\n",
    "    def perimeter(self):\n",
    "        return (4 * self.length)\n",
    "\n",
    "\n",
    "shape = Shape()\n",
    "square = Square(4)"
   ],
   "metadata": {
    "collapsed": false,
    "ExecuteTime": {
     "end_time": "2024-03-06T14:59:50.888641Z",
     "start_time": "2024-03-06T14:59:50.866184600Z"
    }
   },
   "id": "47e29d509af29387"
  },
  {
   "cell_type": "markdown",
   "source": [
    "W powyższym przykładzie widać, że można utworzyć instancję klasy Shape, chociaż obiekt tej klasy nie może istnieć samodzielnie. Klasa Square, będąca klasą potomną klasy Shape, faktycznie implementuje metody area() i perimeter() klasy Shape. Klasa Shape powinna dostarczyć wzorzec dla swoich klas potomnych do implementacji metod w niej. Aby zapobiec użytkownikowi tworzenia obiektu klasy Shape, używamy abstrakcyjnych klas bazowych."
   ],
   "metadata": {
    "collapsed": false
   },
   "id": "fcd9b2b1b5260584"
  },
  {
   "cell_type": "markdown",
   "source": [
    "**Składnia**\n",
    "Aby zdefiniować abstrakcyjną klasę bazową, używamy modułu abc. Abstrakcyjna klasa bazowa dziedziczy po wbudowanej klasie ABC. Musimy użyć dekoratora @abstractmethod nad metodą, którą chcemy zadeklarować jako abstrakcyjną metodę."
   ],
   "metadata": {
    "collapsed": false
   },
   "id": "6987851bee140058"
  },
  {
   "cell_type": "code",
   "execution_count": 8,
   "outputs": [
    {
     "ename": "TypeError",
     "evalue": "Can't instantiate abstract class Shape with abstract methods area, perimeter",
     "output_type": "error",
     "traceback": [
      "\u001B[1;31m---------------------------------------------------------------------------\u001B[0m",
      "\u001B[1;31mTypeError\u001B[0m                                 Traceback (most recent call last)",
      "Cell \u001B[1;32mIn[8], line 19\u001B[0m\n\u001B[0;32m     15\u001B[0m     \u001B[38;5;28;01mdef\u001B[39;00m \u001B[38;5;21m__init__\u001B[39m(\u001B[38;5;28mself\u001B[39m, length):\n\u001B[0;32m     16\u001B[0m         \u001B[38;5;28mself\u001B[39m\u001B[38;5;241m.\u001B[39mlength \u001B[38;5;241m=\u001B[39m length\n\u001B[1;32m---> 19\u001B[0m shape \u001B[38;5;241m=\u001B[39m Shape()\n",
      "\u001B[1;31mTypeError\u001B[0m: Can't instantiate abstract class Shape with abstract methods area, perimeter"
     ]
    }
   ],
   "source": [
    "from abc import ABC, abstractmethod\n",
    "\n",
    "\n",
    "class Shape(ABC):  # Shape is a child class of ABC\n",
    "    @abstractmethod\n",
    "    def area(self):\n",
    "        pass\n",
    "\n",
    "    @abstractmethod\n",
    "    def perimeter(self):\n",
    "        pass\n",
    "\n",
    "\n",
    "class Square(Shape):\n",
    "    def __init__(self, length):\n",
    "        self.length = length\n",
    "\n",
    "\n",
    "shape = Shape() # Error\n",
    "# this code will not compile since Shape has abstract methods without\n",
    "# method definitions in it"
   ],
   "metadata": {
    "collapsed": false,
    "ExecuteTime": {
     "end_time": "2024-03-06T15:43:47.841037400Z",
     "start_time": "2024-03-06T15:43:47.189927900Z"
    }
   },
   "id": "9a271a44ce068228"
  },
  {
   "cell_type": "code",
   "execution_count": 9,
   "outputs": [
    {
     "ename": "TypeError",
     "evalue": "Can't instantiate abstract class Square with abstract methods area, perimeter",
     "output_type": "error",
     "traceback": [
      "\u001B[1;31m---------------------------------------------------------------------------\u001B[0m",
      "\u001B[1;31mTypeError\u001B[0m                                 Traceback (most recent call last)",
      "Cell \u001B[1;32mIn[9], line 19\u001B[0m\n\u001B[0;32m     15\u001B[0m     \u001B[38;5;28;01mdef\u001B[39;00m \u001B[38;5;21m__init__\u001B[39m(\u001B[38;5;28mself\u001B[39m, length):\n\u001B[0;32m     16\u001B[0m         \u001B[38;5;28mself\u001B[39m\u001B[38;5;241m.\u001B[39mlength \u001B[38;5;241m=\u001B[39m length\n\u001B[1;32m---> 19\u001B[0m square \u001B[38;5;241m=\u001B[39m Square(\u001B[38;5;241m4\u001B[39m)\n",
      "\u001B[1;31mTypeError\u001B[0m: Can't instantiate abstract class Square with abstract methods area, perimeter"
     ]
    }
   ],
   "source": [
    "from abc import ABC, abstractmethod\n",
    "\n",
    "\n",
    "class Shape(ABC):  # Shape is a child class of ABC\n",
    "    @abstractmethod\n",
    "    def area(self):\n",
    "        pass\n",
    "\n",
    "    @abstractmethod\n",
    "    def perimeter(self):\n",
    "        pass\n",
    "\n",
    "\n",
    "class Square(Shape):\n",
    "    def __init__(self, length):\n",
    "        self.length = length\n",
    "\n",
    "\n",
    "square = Square(4) # Error\n",
    "# this will code will not compile since abstarct methods have not been\n",
    "# defined in the child class, Square"
   ],
   "metadata": {
    "collapsed": false,
    "ExecuteTime": {
     "end_time": "2024-03-06T15:43:58.000128400Z",
     "start_time": "2024-03-06T15:43:57.966013100Z"
    }
   },
   "id": "696e244e3e17ddc5"
  },
  {
   "cell_type": "markdown",
   "source": [
    "Jak widać powyżej, kod nie kompiluje się, ponieważ nie zdefiniowaliśmy abstrakcyjnych metod, area i perimeter, wewnątrz klasy nadrzędnej Shape lub klasy potomnej Square. Zróbmy to i zobaczmy, co się stanie:"
   ],
   "metadata": {
    "collapsed": false
   },
   "id": "b55c80bf5125e88f"
  },
  {
   "cell_type": "code",
   "execution_count": 10,
   "outputs": [],
   "source": [
    "from abc import ABC, abstractmethod\n",
    "\n",
    "\n",
    "class Shape(ABC):  # Shape is a child class of ABC\n",
    "    @abstractmethod\n",
    "    def area(self):\n",
    "        pass\n",
    "\n",
    "    @abstractmethod\n",
    "    def perimeter(self):\n",
    "        pass\n",
    "\n",
    "\n",
    "class Square(Shape):\n",
    "    def __init__(self, length):\n",
    "        self.length = length\n",
    "\n",
    "    def area(self):\n",
    "        return (self.length * self.length)\n",
    "\n",
    "    def perimeter(self):\n",
    "        return (4 * self.length)\n",
    "\n",
    "\n",
    "square = Square(4) # Works!\n",
    "# this code will not generate an error since abastract methods have been\n",
    "# defined in the child class, Square"
   ],
   "metadata": {
    "collapsed": false,
    "ExecuteTime": {
     "end_time": "2024-03-06T15:44:59.847683900Z",
     "start_time": "2024-03-06T15:44:59.821911400Z"
    }
   },
   "id": "563807c64ae131dc"
  },
  {
   "cell_type": "markdown",
   "source": [
    "Wyjaśnienie\n",
    "Gdy definiujemy metody area i perimeter w klasie potomnej Square, nie można utworzyć obiektu klasy Shape, ale można utworzyć obiekt klasy Square.\n",
    "Pozwalamy użytkownikowi na swobodne zdefiniowanie metod, jednocześnie upewniając się, że metody są zdefiniowane.\n",
    "\n",
    "Uwaga: Metody z dekoratorami @abstractmethod muszą być zdefiniowane w klasie potomnej.\n",
    "\n",
    "Korzystając z abstrakcyjnych klas bazowych, możemy kontrolować, które klasy mogą lub nie mogą mieć tworzone obiekty.\n",
    "Abstrakcyjne metody muszą być zdefiniowane w klasach potomnych dla poprawnej implementacji dziedziczenia."
   ],
   "metadata": {
    "collapsed": false
   },
   "id": "77f9bcbc441bc74f"
  },
  {
   "cell_type": "code",
   "execution_count": null,
   "outputs": [],
   "source": [],
   "metadata": {
    "collapsed": false
   },
   "id": "d304266f2617b68f"
  }
 ],
 "metadata": {
  "kernelspec": {
   "display_name": "Python 3",
   "language": "python",
   "name": "python3"
  },
  "language_info": {
   "codemirror_mode": {
    "name": "ipython",
    "version": 2
   },
   "file_extension": ".py",
   "mimetype": "text/x-python",
   "name": "python",
   "nbconvert_exporter": "python",
   "pygments_lexer": "ipython2",
   "version": "2.7.6"
  }
 },
 "nbformat": 4,
 "nbformat_minor": 5
}

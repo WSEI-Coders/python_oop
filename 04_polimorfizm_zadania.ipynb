{
 "cells": [
  {
   "cell_type": "markdown",
   "source": [
    "**Zadanie 1: Zastąp metodę za pomocą funkcji Super**\n",
    "Opis problemu:\n",
    "Kiedy metoda w klasie pochodnej nadpisuje metodę w klasie bazowej, wciąż istnieje możliwość wywołania nadpisanej metody za pomocą funkcji super().\n",
    "Jeśli napiszesz super().metoda(), zostanie wywołana metoda zdefiniowana w klasie nadrzędnej.\n",
    "\n",
    "Przykładowe wejście\n",
    "circle = XShape(\"Circle\");\n",
    "circle.getName()\n",
    "Przykładowe wyjście\n",
    "\"Shape, Circle\"\n",
    "![](img/37_zadanie1.PNG)"
   ],
   "metadata": {
    "collapsed": false
   },
   "id": "6ff27bb0af01871f"
  },
  {
   "cell_type": "code",
   "execution_count": 2,
   "outputs": [
    {
     "name": "stdout",
     "output_type": "stream",
     "text": [
      "Shape, Circle\n"
     ]
    }
   ],
   "source": [
    "# Parent Class\n",
    "class Shape:\n",
    "    sname = \"Shape\"\n",
    "\n",
    "    def getName(self):\n",
    "        return self.sname\n",
    "\n",
    "\n",
    "# child class\n",
    "class XShape(Shape):\n",
    "    # initializer\n",
    "    def __init__(self, name):\n",
    "        self.xsname = name\n",
    "\n",
    "    def getName(self):  # overriden method\n",
    "        return super().getName() + \", \" + self.xsname\n",
    "\n",
    "\n",
    "circle = XShape(\"Circle\")\n",
    "print(circle.getName())"
   ],
   "metadata": {
    "collapsed": false,
    "ExecuteTime": {
     "end_time": "2024-03-06T15:53:26.122833500Z",
     "start_time": "2024-03-06T15:53:26.107261100Z"
    }
   },
   "id": "3f9afa810dfc09d4"
  },
  {
   "cell_type": "markdown",
   "source": [
    "**Wyjaśnienie**\n",
    "Linia 16: Funkcja super() jest używana do wywołania metody getName() klasy nadrzędnej. Dzięki funkcji super() metoda getName() zwraca sname klasy nadrzędnej, a następnie jest dodawana do niej xsname klasy pochodnej przed zwróceniem wartości."
   ],
   "metadata": {
    "collapsed": false
   },
   "id": "2068b406934a602b"
  },
  {
   "cell_type": "markdown",
   "source": [
    "**Zadanie 2: Zaimplementuj klasę Animal**\n",
    "Klasa nadrzędna o nazwie Animal.\n",
    "Wewnątrz niej zdefiniowano:\n",
    "name\n",
    "sound\n",
    "__init__()\n",
    "Funkcję Animal_details()\n",
    "Wyświetla ona nazwę i dźwięk zwierzęcia.\n",
    "\n",
    "Następnie są dwie klasy pochodne:\n",
    "Klasa Dog\n",
    "Posiada właściwość family\n",
    "Ma konstruktor, który wywołuje konstruktor klasy nadrzędnej wewnątrz za pomocą super()\n",
    "Ma zastąpioną metodę o nazwie Animal_details(), która wyświetla szczegóły psa.\n",
    "\n",
    "Klasa Sheep\n",
    "Posiada właściwość color\n",
    "Ma konstruktor, który wywołuje konstruktor klasy nadrzędnej wewnątrz za pomocą super()\n",
    "Ma zastąpioną metodę o nazwie Animal_details(), która wyświetla szczegóły owcy\n",
    "Klasy pochodne powinny zastąpić metodę Animal_details() zdefiniowaną w klasie Animal.\n",
    "\n",
    "Zastąpiona metoda w klasie Dog powinna wyświetlać wartość family oraz nazwę i dźwięk.\n",
    "Zastąpiona metoda w klasie Sheep powinna wyświetlać wartość color oraz nazwę i dźwięk.\n",
    "\n",
    "Wejście\n",
    "Nazwa Dog ustawiona jest na Pongo, dźwięk na Woof Woof, a rodzina na Carnivore w inicjalizatorze obiektu Dog.\n",
    "Nazwa Sheep ustawiona jest na Billy, dźwięk na Baaa Baaa, a kolor na White w inicjalizatorze obiektu Sheep.\n",
    "\n",
    "Teraz, wywołaj Animal_details() z ich odpowiednich obiektów.\n",
    "\n",
    "Przykładowe wejście\n",
    "d = Dog(\"Pongo\", \"Woof Woof\", \"Husky\")\n",
    "d.Animal_details()\n",
    "print(\" \")\n",
    "s = Sheep(\"Billy\", \"Baaa Baaa\", \"White\")\n",
    "s.Animal_details()\n",
    "\n",
    "Przykładowe wyjście\n",
    "Nazwa: Pongo\n",
    "Dźwięk: Woof Woof\n",
    "Rodzina: Husky\n",
    "\n",
    "Nazwa: Billy\n",
    "Dźwięk: Baa Baa\n",
    "Kolor: White"
   ],
   "metadata": {
    "collapsed": false
   },
   "id": "50effc3c605278ac"
  },
  {
   "cell_type": "code",
   "execution_count": 8,
   "outputs": [
    {
     "name": "stdout",
     "output_type": "stream",
     "text": [
      "Name: Pongo\n",
      "Sound: Woof Woof\n",
      "Family: Husky\n",
      "\n",
      "Name: Billy\n",
      "Sound: Baa Baa\n",
      "Color: White\n"
     ]
    }
   ],
   "source": [
    "class Animal:\n",
    "    def __init__(self, name, sound):\n",
    "        self.name = name\n",
    "        self.sound = sound\n",
    "\n",
    "    def Animal_details(self):\n",
    "        print(\"Name:\", self.name)\n",
    "        print(\"Sound:\", self.sound)\n",
    "\n",
    "\n",
    "class Dog(Animal):\n",
    "    def __init__(self, name, sound, family):\n",
    "        super().__init__(name, sound)\n",
    "        self.family = family\n",
    "\n",
    "    def Animal_details(self):\n",
    "        super().Animal_details()\n",
    "        print(\"Family:\", self.family)\n",
    "\n",
    "\n",
    "class Sheep(Animal):\n",
    "    def __init__(self, name, sound, color):\n",
    "        super().__init__(name, sound)\n",
    "        self.color = color\n",
    "\n",
    "    def Animal_details(self):\n",
    "        super().Animal_details()\n",
    "        print(\"Color:\", self.color)\n",
    "\n",
    "\n",
    "d = Dog(\"Pongo\", \"Woof Woof\", \"Husky\")\n",
    "d.Animal_details()\n",
    "print(\"\")\n",
    "s = Sheep(\"Billy\", \"Baa Baa\", \"White\")\n",
    "s.Animal_details()"
   ],
   "metadata": {
    "collapsed": false,
    "ExecuteTime": {
     "end_time": "2024-03-06T16:26:16.114239100Z",
     "start_time": "2024-03-06T16:26:16.105263500Z"
    }
   },
   "id": "1ceabc0c03f611d9"
  },
  {
   "cell_type": "markdown",
   "source": [
    "**Wyjaśnienie**\n",
    "Zaimplementowaliśmy klasę Animal, która posiada właściwości name i sound oraz metodę Animal_details(), która jest zastąpiona w klasach potomnych.\n",
    "\n",
    "Następnie zaimplementowaliśmy klasy Dog i Sheep, które dziedziczą po klasie Animal.\n",
    "\n",
    "Dog posiada dodatkową właściwość, family, oraz zastąpioną metodę, Animal_details(). Ta metoda wywołuje metodę rodzica za pomocą funkcji super() i dodatkowo wyświetla właściwość family.\n",
    "\n",
    "Sheep posiada dodatkową właściwość, color, oraz zastąpioną metodę, Animal_details(). Ta metoda wywołuje metodę rodzica za pomocą funkcji super() i dodatkowo wyświetla właściwość color.\n",
    "\n",
    "Stworzyliśmy i zainicjowaliśmy obiekty Dog i Sheep oraz wyświetliliśmy ich cechy, wywołując ich odpowiednie metody."
   ],
   "metadata": {
    "collapsed": false
   },
   "id": "34cf097c90fc51fa"
  },
  {
   "cell_type": "code",
   "execution_count": null,
   "outputs": [],
   "source": [],
   "metadata": {
    "collapsed": false
   },
   "id": "d38058b57ec6847f"
  }
 ],
 "metadata": {
  "kernelspec": {
   "display_name": "Python 3",
   "language": "python",
   "name": "python3"
  },
  "language_info": {
   "codemirror_mode": {
    "name": "ipython",
    "version": 2
   },
   "file_extension": ".py",
   "mimetype": "text/x-python",
   "name": "python",
   "nbconvert_exporter": "python",
   "pygments_lexer": "ipython2",
   "version": "2.7.6"
  }
 },
 "nbformat": 4,
 "nbformat_minor": 5
}

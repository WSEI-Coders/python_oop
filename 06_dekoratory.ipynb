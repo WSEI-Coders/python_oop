{
 "cells": [
  {
   "cell_type": "markdown",
   "source": [
    "**Dekoratory w Pythonie**\n",
    "Dekoratory w Pythonie są naprawdę fajne, ale na początku mogą być trochę trudne do zrozumienia. Dekorator w Pythonie to funkcja, która przyjmuje inną funkcję jako argument. Dekorator zazwyczaj modyfikuje lub wzbogaca funkcję, którą przyjął, i zwraca zmodyfikowaną funkcję. Oznacza to, że gdy wywołasz udekorowaną funkcję, otrzymasz funkcję, która może być nieco inna i może mieć dodatkowe funkcje w porównaniu z podstawową definicją. Ale wróćmy na chwilę do tyłu. Prawdopodobnie powinniśmy przejrzeć podstawowy element dekoratora, a mianowicie funkcję.\n",
    "\n",
    "*Prosta funkcja*\n",
    "Funkcja to blok kodu, który zaczyna się od słowa kluczowego Pythona def, a następnie podaje się właściwą nazwę funkcji. Funkcja może przyjmować zero lub więcej argumentów, argumentów kluczowych lub mieszankę obu. Funkcja zawsze zwraca coś. Jeśli nie określisz, co funkcja powinna zwrócić, zwróci wartość None. Oto bardzo prosta funkcja, która po prostu zwraca łańcuch znaków:"
   ],
   "metadata": {
    "collapsed": false
   },
   "id": "94729edeac332416"
  },
  {
   "cell_type": "code",
   "execution_count": 1,
   "outputs": [
    {
     "name": "stdout",
     "output_type": "stream",
     "text": [
      "1+1\n"
     ]
    }
   ],
   "source": [
    "def a_function():\n",
    "    \"\"\"A pretty useless function\"\"\"\n",
    "    return \"1+1\"\n",
    "\n",
    "if __name__ == \"__main__\":\n",
    "    value = a_function()\n",
    "    print(value)"
   ],
   "metadata": {
    "collapsed": false,
    "ExecuteTime": {
     "end_time": "2024-03-07T19:20:06.735548100Z",
     "start_time": "2024-03-07T19:20:06.728087400Z"
    }
   },
   "id": "c304a828a58ba6ee"
  },
  {
   "cell_type": "markdown",
   "source": [
    "W powyższym kodzie jedynie wywołujemy funkcję i drukujemy zwróconą wartość. Stwórzmy teraz inną funkcję:"
   ],
   "metadata": {
    "collapsed": false
   },
   "id": "503f925d81aa81a3"
  },
  {
   "cell_type": "code",
   "execution_count": 2,
   "outputs": [],
   "source": [
    "def another_function(func):\n",
    "    \"\"\"\n",
    "    A function that accepts another function\n",
    "    \"\"\"\n",
    "    def other_func():\n",
    "        val = \"The result of %s is %s\" % (func(), eval(func()))\n",
    "        return val\n",
    "    return other_func"
   ],
   "metadata": {
    "collapsed": false,
    "ExecuteTime": {
     "end_time": "2024-03-07T19:20:45.932922900Z",
     "start_time": "2024-03-07T19:20:45.902894500Z"
    }
   },
   "id": "2b1ff9c1931ab787"
  },
  {
   "cell_type": "markdown",
   "source": [
    "Ta funkcja przyjmuje jeden argument, który musi być funkcją lub obiektem wywoływalnym. W rzeczywistości powinna być ona wywoływana tylko za pomocą wcześniej zdefiniowanej funkcji. Zauważysz, że ta funkcja ma zagnieżdżoną funkcję wewnątrz niej, którą nazywamy other_func. Będzie ona pobierać wynik przekazanej do niej funkcji, oceni go i utworzy łańcuch znaków informujący nas o tym, co zrobiła, który następnie zwróci. Przyjrzyjmy się pełnej wersji kodu:"
   ],
   "metadata": {
    "collapsed": false
   },
   "id": "24625829a5173e8"
  },
  {
   "cell_type": "code",
   "execution_count": 4,
   "outputs": [
    {
     "name": "stdout",
     "output_type": "stream",
     "text": [
      "1+1\n",
      "The result of 1+1 is 2\n"
     ]
    }
   ],
   "source": [
    "def another_function(func):\n",
    "    \"\"\"\n",
    "    A function that accepts another function\n",
    "    \"\"\"\n",
    "\n",
    "    def other_func():\n",
    "        val = \"The result of %s is %s\" % (func(), eval(func()))\n",
    "        return val\n",
    "    return other_func\n",
    "\n",
    "def a_function():\n",
    "    \"\"\"A pretty useless function\"\"\"\n",
    "    return \"1+1\"\n",
    "\n",
    "if __name__ == \"__main__\":\n",
    "    value = a_function()\n",
    "    print(value)\n",
    "    decorator = another_function(a_function)\n",
    "    print(decorator())"
   ],
   "metadata": {
    "collapsed": false,
    "ExecuteTime": {
     "end_time": "2024-03-07T19:22:17.990475600Z",
     "start_time": "2024-03-07T19:22:17.982986200Z"
    }
   },
   "id": "cd6e9a3403f2d39e"
  },
  {
   "cell_type": "markdown",
   "source": [
    "Tak działa dekorator. Tworzymy jedną funkcję, a następnie przekazujemy ją do drugiej funkcji. Druga funkcja to funkcja dekoratora. Dekorator zmodyfikuje lub wzbogaci funkcję, która została do niego przekazana, i zwróci zmodyfikowaną funkcję. Jeśli uruchomisz ten kod, zobaczysz następujący wynik na standardowym wyjściu:\n",
    "```\n",
    "1+1\n",
    "The result of 1+1 is 2\n",
    "```\n",
    "\n",
    "Zmodyfikujmy kod nieco, aby przekształcić funkcję another_function w dekorator:"
   ],
   "metadata": {
    "collapsed": false
   },
   "id": "199d7e5fb8a9709a"
  },
  {
   "cell_type": "code",
   "execution_count": 5,
   "outputs": [
    {
     "name": "stdout",
     "output_type": "stream",
     "text": [
      "The result of 1+1 is 2\n"
     ]
    }
   ],
   "source": [
    "def another_function(func):\n",
    "    \"\"\"\n",
    "    A function that accepts another function\n",
    "    \"\"\"\n",
    "\n",
    "    def other_func():\n",
    "        val = \"The result of %s is %s\" % (func(), eval(func()))\n",
    "        return val\n",
    "    return other_func\n",
    "\n",
    "@another_function\n",
    "def a_function():\n",
    "    \"\"\"A pretty useless function\"\"\"\n",
    "    return \"1+1\"\n",
    "\n",
    "if __name__ == \"__main__\":\n",
    "    value = a_function()\n",
    "    print(value)"
   ],
   "metadata": {
    "collapsed": false,
    "ExecuteTime": {
     "end_time": "2024-03-07T19:24:21.031433800Z",
     "start_time": "2024-03-07T19:24:21.023469100Z"
    }
   },
   "id": "98e62480794e04ef"
  },
  {
   "cell_type": "markdown",
   "source": [
    "Zauważ, że w Pythonie dekorator zaczyna się od symbolu @, a następnie podajemy nazwę funkcji, którą będziemy używać do \"dekorowania\" naszej zwykłej funkcji. Aby zastosować dekorator, wystarczy umieścić go w linii przed definicją funkcji. Teraz, gdy wywołamy funkcję a_function, zostanie ona udekorowana, i otrzymamy następujący wynik:\n",
    "```\n",
    "The result of 1+1 is 2\n",
    "```"
   ],
   "metadata": {
    "collapsed": false
   },
   "id": "9a439708d954349e"
  },
  {
   "cell_type": "markdown",
   "source": [
    "**Tworzenie dekoratora logowania**\n",
    "Czasami będzie taka potrzeba, aby utworzyć dziennik tego, co robi funkcja. Większość czasu prawdopodobnie będziesz logować wewnątrz samej funkcji. Czasami możesz chcieć to zrobić na poziomie funkcji, aby uzyskać wyobrażenie o przepływie programu lub być może w celu spełnienia pewnych reguł biznesowych, jak np. audytowanie. Oto mały dekorator, który możemy użyć do rejestrowania nazwy dowolnej funkcji i tego, co zwraca:"
   ],
   "metadata": {
    "collapsed": false
   },
   "id": "5725c1481fcc1de8"
  },
  {
   "cell_type": "code",
   "execution_count": 11,
   "outputs": [
    {
     "name": "stdout",
     "output_type": "stream",
     "text": [
      "double_function.log file created!\n"
     ]
    }
   ],
   "source": [
    "import logging\n",
    "\n",
    "def log(func):\n",
    "    \"\"\"\n",
    "    Log what function is called\n",
    "    \"\"\"\n",
    "    def wrap_log(*args, **kwargs):\n",
    "        name = func.__name__\n",
    "        logger = logging.getLogger(name)\n",
    "        logger.setLevel(logging.INFO)\n",
    "\n",
    "        # add file handler\n",
    "        fh = logging.FileHandler(\"%s.log\" % name)\n",
    "        fmt = '%(asctime)s - %(name)s - %(levelname)s - %(message)s'\n",
    "        formatter = logging.Formatter(fmt)\n",
    "        fh.setFormatter(formatter)\n",
    "        logger.addHandler(fh)\n",
    "\n",
    "        logger.info(\"Running function: %s\" % name)\n",
    "        result = func(*args, **kwargs)\n",
    "        logger.info(\"Result: %s\" % result)\n",
    "        print(f\"{name}.log file created!\")\n",
    "        return result\n",
    "    return wrap_log\n",
    "\n",
    "@log\n",
    "def double_function(a):\n",
    "    \"\"\"\n",
    "    Double the input parameter\n",
    "    \"\"\"\n",
    "    return a*2\n",
    "\n",
    "if __name__ == \"__main__\":\n",
    "    value = double_function(2)"
   ],
   "metadata": {
    "collapsed": false,
    "ExecuteTime": {
     "end_time": "2024-03-07T19:29:01.526216900Z",
     "start_time": "2024-03-07T19:29:01.502728500Z"
    }
   },
   "id": "dfdd7b37bd3c50fb"
  },
  {
   "cell_type": "markdown",
   "source": [
    "Ten mały skrypt zawiera funkcję log, która przyjmuje funkcję jako swój jedyny argument. Tworzy ona obiekt loggera i nazwę pliku dziennika na podstawie nazwy funkcji. Następnie funkcja log zarejestruje, która funkcja została wywołana i co funkcja zwróciła, jeśli cokolwiek."
   ],
   "metadata": {
    "collapsed": false
   },
   "id": "d33dd5de9bb72c37"
  },
  {
   "cell_type": "markdown",
   "source": [
    "**Dekoratory wbudowane**\n",
    "Python dostarcza kilka wbudowanych dekoratorów. Trzy najważniejsze to:\n",
    "\n",
    "@classmethod\n",
    "@staticmethod\n",
    "@property\n",
    "\n",
    "W różnych częściach standardowej biblioteki Pythona również znajdują się dekoratory. Jednym z przykładów może być functools.wraps. Niemniej jednak ograniczymy się do tych trzech wyżej wymienionych.\n",
    "\n",
    "**@classmethod i @staticmethod**\n",
    "Dekorator *@classmethod* może być wywoływany z instancją klasy lub bezpośrednio przez samą klasę jako swój pierwszy argument. Według dokumentacji Pythona: Można go wywołać zarówno na klasie (np. C.f()), jak i na instancji (np. C().f()). Instancja jest ignorowana z wyjątkiem swojej klasy. Jeśli metoda klasy jest wywoływana dla klasy pochodnej, obiekt klasy pochodnej jest przekazywany jako domyślny pierwszy argument. Głównym przypadkiem użycia dekoratora @classmethod, jest zastępcza konstrukcja lub metoda pomocnicza do inicjalizacji.\n",
    "\n",
    "Dekorator *@staticmethod* to po prostu funkcja wewnątrz klasy. Możesz go wywoływać zarówno z jak i bez instancjonowania klasy. Typowym przypadkiem użycia jest, gdy masz funkcję, która według Ciebie ma związek z klasą. Jest to głównie kwestia stylu.\n",
    "\n",
    "Może pomoże zobaczenie przykładu kodu, jak te dwa dekoratory działają:"
   ],
   "metadata": {
    "collapsed": false
   },
   "id": "896cf27e20691d59"
  },
  {
   "cell_type": "code",
   "execution_count": 12,
   "outputs": [
    {
     "name": "stdout",
     "output_type": "stream",
     "text": [
      "running doubler\n",
      "10\n",
      "running tripler: <class '__main__.DecoratorTest'>\n",
      "9\n",
      "running tripler: <class '__main__.DecoratorTest'>\n",
      "9\n",
      "running quad\n",
      "8\n",
      "running quad\n",
      "12\n",
      "<bound method DecoratorTest.doubler of <__main__.DecoratorTest object at 0x000002A6ECA70D10>>\n",
      "<bound method DecoratorTest.class_tripler of <class '__main__.DecoratorTest'>>\n",
      "<function DecoratorTest.static_quad at 0x000002A6ECA4D8A0>\n"
     ]
    }
   ],
   "source": [
    "class DecoratorTest(object):\n",
    "    \"\"\"\n",
    "    Test regular method vs @classmethod vs @staticmethod\n",
    "    \"\"\"\n",
    "\n",
    "    def __init__(self):\n",
    "        \"\"\"Constructor\"\"\"\n",
    "        pass\n",
    "\n",
    "    def doubler(self, x):\n",
    "        \"\"\"\"\"\"\n",
    "        print(\"running doubler\")\n",
    "        return x*2\n",
    "\n",
    "    @classmethod\n",
    "    def class_tripler(klass, x):\n",
    "        \"\"\"\"\"\"\n",
    "        print(\"running tripler: %s\" % klass)\n",
    "        return x*3\n",
    "\n",
    "    @staticmethod\n",
    "    def static_quad(x):\n",
    "        \"\"\"\"\"\"\n",
    "        print(\"running quad\")\n",
    "        return x*4\n",
    "\n",
    "if __name__ == \"__main__\":\n",
    "    decor = DecoratorTest()\n",
    "    print(decor.doubler(5))\n",
    "    print(decor.class_tripler(3))\n",
    "    print(DecoratorTest.class_tripler(3))\n",
    "    print(DecoratorTest.static_quad(2))\n",
    "    print(decor.static_quad(3))\n",
    "\n",
    "    print(decor.doubler)\n",
    "    print(decor.class_tripler)\n",
    "    print(decor.static_quad)"
   ],
   "metadata": {
    "collapsed": false,
    "ExecuteTime": {
     "end_time": "2024-03-07T19:33:12.476873500Z",
     "start_time": "2024-03-07T19:33:12.458893500Z"
    }
   },
   "id": "9bd2d60e4957762"
  },
  {
   "cell_type": "markdown",
   "source": [
    "Ten przykład demonstruje, że możesz wywołać zwykłą metodę oraz obie udekorowane metody w ten sam sposób. Zauważysz, że możesz wywołać zarówno udekorowane funkcje z @classmethod, jak i @staticmethod bezpośrednio z klasy lub z instancji klasy. Jeśli spróbujesz wywołać zwykłą funkcję z klasą (np. DecoratorTest.doubler(2)), otrzymasz błąd TypeError. Zauważysz również, że ostatnia instrukcja print pokazuje, że decor.static_quad zwraca zwykłą funkcję zamiast metody obiektu."
   ],
   "metadata": {
    "collapsed": false
   },
   "id": "62f8fb81117da88a"
  },
  {
   "cell_type": "markdown",
   "source": [
    "**Własności w Pythonie**\n",
    "Python posiada fajną koncepcję zwaną \"własnością\" (property), która może wykonywać kilka przydatnych rzeczy. Będziemy się przyglądać, jak zrobić następujące rzeczy:\n",
    "1. Konwertować metody klasy na atrybuty tylko do odczytu\n",
    "2. Ponownie implementować settery i gettery dla atrybutu\n",
    "\n",
    "Jednym z najprostszych sposobów korzystania z własności jest użycie jej jako dekoratora metody. Pozwala to zamienić metodę klasy na atrybut klasy. Uważam to za przydatne, gdy potrzebuję wykonać jakieś kombinacje wartości. Inni znaleźli zastosowanie dla pisania metod konwersji, do których chcą mieć dostęp jako metod. Spójrzmy na prosty przykład:"
   ],
   "metadata": {
    "collapsed": false
   },
   "id": "11e787aea301bf77"
  },
  {
   "cell_type": "code",
   "execution_count": 13,
   "outputs": [],
   "source": [
    "class Person(object):\n",
    "    \"\"\"\"\"\"\n",
    "\n",
    "    def __init__(self, first_name, last_name):\n",
    "        \"\"\"Constructor\"\"\"\n",
    "        self.first_name = first_name\n",
    "        self.last_name = last_name\n",
    "\n",
    "    @property\n",
    "    def full_name(self):\n",
    "        \"\"\"\n",
    "        Return the full name\n",
    "        \"\"\"\n",
    "        return \"%s %s\" % (self.first_name, self.last_name)"
   ],
   "metadata": {
    "collapsed": false,
    "ExecuteTime": {
     "end_time": "2024-03-07T19:35:54.870341600Z",
     "start_time": "2024-03-07T19:35:54.841414600Z"
    }
   },
   "id": "6cf5665172deb73f"
  },
  {
   "cell_type": "markdown",
   "source": [
    "W powyższym kodzie tworzymy dwie atrybuty klasy lub własności: self.first_name i self.last_name. Następnie tworzymy metodę full_name, która ma przypisany dekorator *@property*. Pozwala to na wykonanie następującego w sesji interpretera:"
   ],
   "metadata": {
    "collapsed": false
   },
   "id": "d72f89199df0d636"
  },
  {
   "cell_type": "code",
   "execution_count": 15,
   "outputs": [
    {
     "name": "stdout",
     "output_type": "stream",
     "text": [
      "Mike Driscoll\n",
      "Mike\n"
     ]
    },
    {
     "ename": "AttributeError",
     "evalue": "property 'full_name' of 'Person' object has no setter",
     "output_type": "error",
     "traceback": [
      "\u001B[1;31m---------------------------------------------------------------------------\u001B[0m",
      "\u001B[1;31mAttributeError\u001B[0m                            Traceback (most recent call last)",
      "Cell \u001B[1;32mIn[15], line 8\u001B[0m\n\u001B[0;32m      5\u001B[0m \u001B[38;5;28mprint\u001B[39m(person\u001B[38;5;241m.\u001B[39mfirst_name)\n\u001B[0;32m      6\u001B[0m \u001B[38;5;66;03m#'Mike'\u001B[39;00m\n\u001B[1;32m----> 8\u001B[0m person\u001B[38;5;241m.\u001B[39mfull_name \u001B[38;5;241m=\u001B[39m \u001B[38;5;124m\"\u001B[39m\u001B[38;5;124mJackalope\u001B[39m\u001B[38;5;124m\"\u001B[39m\n",
      "\u001B[1;31mAttributeError\u001B[0m: property 'full_name' of 'Person' object has no setter"
     ]
    }
   ],
   "source": [
    "person = Person(\"Mike\", \"Driscoll\")\n",
    "print(person.full_name)\n",
    "#'Mike Driscoll'\n",
    "\n",
    "print(person.first_name)\n",
    "#'Mike'\n",
    "\n",
    "person.full_name = \"Jackalope\""
   ],
   "metadata": {
    "collapsed": false,
    "ExecuteTime": {
     "end_time": "2024-03-07T19:36:33.895484100Z",
     "start_time": "2024-03-07T19:36:33.876534800Z"
    }
   },
   "id": "95ee6bfb65e5bffe"
  },
  {
   "cell_type": "markdown",
   "source": [
    "Jak widzisz, ponieważ zamieniliśmy metodę na własność, możemy uzyskać do niej dostęp za pomocą normalnej notacji za pomocą kropki. Jednakże, jeśli spróbujemy ustawić własność na coś innego, spowodujemy zgłoszenie błędu AttributeError. Jedynym sposobem zmiany właściwości full_name jest zrobienie tego pośrednio:"
   ],
   "metadata": {
    "collapsed": false
   },
   "id": "88e5fe22a9dcd590"
  },
  {
   "cell_type": "code",
   "execution_count": 16,
   "outputs": [
    {
     "name": "stdout",
     "output_type": "stream",
     "text": [
      "Dan Driscoll\n"
     ]
    }
   ],
   "source": [
    "person = Person(\"Mike\", \"Driscoll\")\n",
    "\n",
    "person.first_name = \"Dan\"\n",
    "print(person.full_name)"
   ],
   "metadata": {
    "collapsed": false,
    "ExecuteTime": {
     "end_time": "2024-03-07T19:37:31.456182600Z",
     "start_time": "2024-03-07T19:37:31.417712900Z"
    }
   },
   "id": "ef928444ec3ac3c7"
  },
  {
   "cell_type": "markdown",
   "source": [
    "**Zastępowanie setterów i getterów właściwością w Pythonie**\n",
    "Udajmy, że mamy do czynienia ze starym kodem, który napisał ktoś, kto niezbyt dobrze znał Pythona:"
   ],
   "metadata": {
    "collapsed": false
   },
   "id": "71b7e784a0e0028f"
  },
  {
   "cell_type": "code",
   "execution_count": 1,
   "outputs": [],
   "source": [
    "from decimal import Decimal\n",
    "\n",
    "class Fees(object):\n",
    "    \"\"\"\"\"\"\n",
    "\n",
    "    def __init__(self):\n",
    "        \"\"\"Constructor\"\"\"\n",
    "        self._fee = None\n",
    "\n",
    "    def get_fee(self):\n",
    "        \"\"\"\n",
    "        Return the current fee\n",
    "        \"\"\"\n",
    "        return self._fee\n",
    "\n",
    "    def set_fee(self, value):\n",
    "        \"\"\"\n",
    "        Set the fee\n",
    "        \"\"\"\n",
    "        if isinstance(value, str):\n",
    "            self._fee = Decimal(value)\n",
    "        elif isinstance(value, Decimal):\n",
    "            self._fee = value"
   ],
   "metadata": {
    "collapsed": false,
    "ExecuteTime": {
     "end_time": "2024-03-08T20:03:02.052753200Z",
     "start_time": "2024-03-08T20:03:02.036144200Z"
    }
   },
   "id": "b5091fd440ced24b"
  },
  {
   "cell_type": "markdown",
   "source": [
    "Aby korzystać z tej klasy, musimy użyć zdefiniowanych setterów i getterów.:"
   ],
   "metadata": {
    "collapsed": false
   },
   "id": "d91670a9f8901da"
  },
  {
   "cell_type": "code",
   "execution_count": 2,
   "outputs": [
    {
     "name": "stdout",
     "output_type": "stream",
     "text": [
      "1\n"
     ]
    }
   ],
   "source": [
    "f = Fees()\n",
    "f.set_fee(\"1\")\n",
    "value = f.get_fee()\n",
    "print(value)"
   ],
   "metadata": {
    "collapsed": false,
    "ExecuteTime": {
     "end_time": "2024-03-08T20:03:14.162160500Z",
     "start_time": "2024-03-08T20:03:14.132730200Z"
    }
   },
   "id": "73b12ce0c789c0a7"
  },
  {
   "cell_type": "markdown",
   "source": [
    "Jeśli chcesz umożliwić dostęp do atrybutów tej klasy za pomocą kropki (dot notation), nie psując przy tym wszystkich aplikacji korzystających z tego kodu, możesz to łatwo zmienić dodając właściwość (property)."
   ],
   "metadata": {
    "collapsed": false
   },
   "id": "1ea6a2229db5d67"
  },
  {
   "cell_type": "code",
   "execution_count": 3,
   "outputs": [],
   "source": [
    "from decimal import Decimal\n",
    "\n",
    "class Fees(object):\n",
    "    \"\"\"\"\"\"\n",
    "\n",
    "    def __init__(self):\n",
    "        \"\"\"Constructor\"\"\"\n",
    "        self._fee = None\n",
    "\n",
    "    def get_fee(self):\n",
    "        \"\"\"\n",
    "        Return the current fee\n",
    "        \"\"\"\n",
    "        return self._fee\n",
    "\n",
    "    def set_fee(self, value):\n",
    "        \"\"\"\n",
    "        Set the fee\n",
    "        \"\"\"\n",
    "        if isinstance(value, str):\n",
    "            self._fee = Decimal(value)\n",
    "        elif isinstance(value, Decimal):\n",
    "            self._fee = value\n",
    "\n",
    "    fee = property(get_fee, set_fee)"
   ],
   "metadata": {
    "collapsed": false,
    "ExecuteTime": {
     "end_time": "2024-03-08T20:04:08.202442Z",
     "start_time": "2024-03-08T20:04:08.178507700Z"
    }
   },
   "id": "575d28f9081ace6e"
  },
  {
   "cell_type": "markdown",
   "source": [
    " Dodaliśmy jedną linię kodu na końcu. Teraz możemy wykonywać operacje w następujący sposób:"
   ],
   "metadata": {
    "collapsed": false
   },
   "id": "6f491702507322cb"
  },
  {
   "cell_type": "code",
   "execution_count": 4,
   "outputs": [
    {
     "name": "stdout",
     "output_type": "stream",
     "text": [
      "1\n",
      "2\n"
     ]
    }
   ],
   "source": [
    "f = Fees()\n",
    "f.set_fee(\"1\")\n",
    "print(f.fee)\n",
    "\n",
    "f.fee = \"2\"\n",
    "value = f.get_fee()\n",
    "print(value)"
   ],
   "metadata": {
    "collapsed": false,
    "ExecuteTime": {
     "end_time": "2024-03-08T20:04:54.205038100Z",
     "start_time": "2024-03-08T20:04:54.173433800Z"
    }
   },
   "id": "4ea244322dcf4fb4"
  },
  {
   "cell_type": "markdown",
   "source": [
    "Jak widać, użycie słowa kluczowego property w taki sposób pozwala na automatyczne ustawianie i pobieranie wartości atrybutu fee bez naruszania istniejącego kodu. Przepiszmy teraz ten kod, korzystając z dekoratora property i sprawdźmy, czy umożliwi on również ustawianie wartości."
   ],
   "metadata": {
    "collapsed": false
   },
   "id": "cc449de67b4c4587"
  },
  {
   "cell_type": "code",
   "execution_count": 5,
   "outputs": [],
   "source": [
    "from decimal import Decimal\n",
    "\n",
    "class Fees(object):\n",
    "    \"\"\"\"\"\"\n",
    "\n",
    "    def __init__(self):\n",
    "        \"\"\"Constructor\"\"\"\n",
    "        self._fee = None\n",
    "\n",
    "    @property\n",
    "    def fee(self):\n",
    "        \"\"\"\n",
    "        The fee property - the getter\n",
    "        \"\"\"\n",
    "        return self._fee\n",
    "\n",
    "    @fee.setter\n",
    "    def fee(self, value):\n",
    "        \"\"\"\n",
    "        The setter of the fee property\n",
    "        \"\"\"\n",
    "        if isinstance(value, str):\n",
    "            self._fee = Decimal(value)\n",
    "        elif isinstance(value, Decimal):\n",
    "            self._fee = value\n",
    "\n",
    "if __name__ == \"__main__\":\n",
    "    f = Fees()"
   ],
   "metadata": {
    "collapsed": false,
    "ExecuteTime": {
     "end_time": "2024-03-08T20:05:35.584864800Z",
     "start_time": "2024-03-08T20:05:35.559424900Z"
    }
   },
   "id": "53a0f33bc5e9e07a"
  },
  {
   "cell_type": "markdown",
   "source": [
    "Kod powyższy pokazuje, jak utworzyć \"setter\" dla właściwości fee. Można to zrobić, dekorując drugą metodę o nazwie również fee za pomocą dekoratora @fee.setter. Setter jest wywoływany, gdy robimy coś takiego jak:"
   ],
   "metadata": {
    "collapsed": false
   },
   "id": "6a0fdcc8e4b24f12"
  },
  {
   "cell_type": "code",
   "execution_count": 6,
   "outputs": [],
   "source": [
    "f = Fees()\n",
    "f.fee = \"1\""
   ],
   "metadata": {
    "collapsed": false,
    "ExecuteTime": {
     "end_time": "2024-03-08T20:06:13.715745500Z",
     "start_time": "2024-03-08T20:06:13.686820900Z"
    }
   },
   "id": "4bb13617664123da"
  },
  {
   "cell_type": "markdown",
   "source": [
    "Jeśli przyjrzysz się parametrom dekoratora property, zobaczysz, że posiada on fget (funkcja pobierania), fset (funkcja ustawiania), fdel (funkcja usuwania) oraz doc (dokumentacja). Możesz utworzyć kolejną metodę z tą samą nazwą za pomocą dekoratora @fee.deleter, aby przechwycić polecenie del użyte na tym atrybucie."
   ],
   "metadata": {
    "collapsed": false
   },
   "id": "3a0b318ac35cad47"
  },
  {
   "cell_type": "code",
   "execution_count": null,
   "outputs": [],
   "source": [],
   "metadata": {
    "collapsed": false
   },
   "id": "ee1747196689ce35"
  }
 ],
 "metadata": {
  "kernelspec": {
   "display_name": "Python 3",
   "language": "python",
   "name": "python3"
  },
  "language_info": {
   "codemirror_mode": {
    "name": "ipython",
    "version": 2
   },
   "file_extension": ".py",
   "mimetype": "text/x-python",
   "name": "python",
   "nbconvert_exporter": "python",
   "pygments_lexer": "ipython2",
   "version": "2.7.6"
  }
 },
 "nbformat": 4,
 "nbformat_minor": 5
}

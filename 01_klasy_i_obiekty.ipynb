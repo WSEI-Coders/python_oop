{
 "cells": [
  {
   "cell_type": "markdown",
   "source": [
    "Opanowanie technik programowania zorientowanego obiektowo pomaga programistom i programistom pisać czystszy, bardziej modułowy i bardziej skalowalny kod. Programowanie obiektowe istnieje już od kilkudziesięciu lat. Programistom, którzy mają podstawową wiedzę o Pythonie i są zainteresowani podnoszeniem swoich umiejętności, ten moduł właśnie w tym pomoże. Moduł rozpoczyna się od podstaw programowania obiektowego i przechodzi do bardziej zaawansowanych koncepcji, takich jak dziedziczenie, ukrywanie informacji i polimorfizm. Po drodze dowiemy się, w jaki sposób poszczególne koncepcje odnoszą się konkretnie do Pythona i jak różne funkcje Pythona czynią go szczególnie wygodnym w programowaniu obiektowym."
   ],
   "metadata": {
    "collapsed": false
   },
   "id": "f84e4f9c611be093"
  },
  {
   "cell_type": "markdown",
   "source": [
    "**Krótkie wprowadzenie**\n",
    "\n",
    "**Programowanie proceduralne**\n",
    "Jeśli tu jesteś, prawdopodobnie znasz już podstawy programowania i stosowałeś kiedyś metody w swoich programach.\n",
    "Programowanie proceduralne jest jednym z wielu paradygmatów programowania.\n",
    "W programowaniu proceduralnym program dzieli się na mniejsze części zwane metodami. Metody te są podstawowymi jednostkami używanymi do konstruowania programu. Jedną z głównych zalet programowania proceduralnego jest możliwość ponownego użycia kodu. Jednakże wdrożenie złożonego scenariusza w świecie rzeczywistym staje się zadaniem trudnym i nieporęcznym.\n",
    "\n",
    "**Programowanie obiektowe**\n",
    "Programowanie obiektowe, określane również jako OOP, to paradygmat programowania obejmujący lub opierający się na koncepcji klas i obiektów.\n",
    "Podstawowymi bytami w programowaniu obiektowym są klasy i obiekty.\n",
    "Programowanie nie na wiele się przyda, jeśli nie można modelować rzeczywistych scenariuszy za pomocą kodu. Tutaj właśnie pojawia się programowanie obiektowe.\n",
    "Podstawową ideą OOP jest podzielenie zaawansowanego programu na pewną liczbę obiektów, które ze sobą rozmawiają.\n",
    "Obiekty w programie często reprezentują obiekty ze świata rzeczywistego.\n",
    "![](img/01_oop.PNG)\n",
    "Możliwe jest również, że obiekty służą logice aplikacji i nie mają bezpośrednich odpowiedników w świecie rzeczywistym. Zarządzają takimi kwestiami, jak uwierzytelnianie, obsługa żądań i inne niezliczone funkcje potrzebne w praktycznej aplikacji.\n",
    "\n",
    "**Anatomia obiektów i klas**\n",
    "Obiekty mogą zawierać dane w postaci pól (zmiennych) oraz metod operowania na tych danych.\n",
    "Pomyśl o otaczających cię obiektach ze świata rzeczywistego. Jakie są cechy tych obiektów? Weźmy przykład żarówki. Ma stan, co oznacza, że jest albo włączony, albo wyłączony. Ma również pewne zachowanie, co oznacza, że gdy jest włączony, świeci, a gdy jest wyłączony, nie wytwarza żadnego światła. Podsumowując, można powiedzieć:\n",
    "Obiekty to zbiór danych i ich zachowań.\n",
    "Ale skąd pochodzą te obiekty?\n",
    "Odpowiedzią na powyższe pytanie są klasy.\n",
    "Klasę można traktować jako plan tworzenia obiektów.\n",
    "Poniższa ilustracja pokazuje, jak powinna wyglądać klasa LightBulb:\n",
    "![](img/02_oop.PNG)\n",
    "Z powyższej ilustracji widać, że stan obiektu jest ogólnie modelowany za pomocą zmiennych w klasie, a zachowanie jest modelowane za pomocą metod.\n",
    "Może istnieć wiele różnych obiektów tej samej klasy. Każdy z nich może znajdować się w niezależnym stanie, ale wszystkie będą miały takie same cechy i zachowanie.\n",
    "\n",
    "**Typy danych zdefiniowane przez użytkownika**\n",
    "Z powyższej dyskusji można wywnioskować, że klasy to typy danych zdefiniowane przez użytkownika, implementowane przy użyciu prymitywnych typów danych, np. boolean, int, char itp. Podczas gdy prymitywne typy danych skupiają się jedynie na modelowaniu stanu obiektu, dane zdefiniowane przez użytkownika typy mogą hermetyzować stan i jego zachowania w jednostce.\n",
    "![](img/03_oop.PNG)"
   ],
   "metadata": {
    "collapsed": false
   },
   "id": "cf643f7589a57416"
  },
  {
   "cell_type": "markdown",
   "source": [
    "**Wprowadzenie do obiektów i klas**\n",
    "Widzimy obiekty wszędzie w naszym otoczeniu. Obiekty te mają pewne właściwości, które je definiują. Istnieją pewne zachowania, które te obiekty wykonują samodzielnie i istnieją akcje, które można na nich wykonać.\n",
    "Weźmy przykład pracownika firmy. Pracownik ma następujące właściwości lub atrybuty:\n",
    "- ID\n",
    "- Wynagrodzenie\n",
    "- Dział\n",
    "Na pracowniku można zastosować następujące działania lub zachowania:\n",
    "- Obliczanie podatku od wynagrodzenia\n",
    "- Obliczanie dziennego wynagrodzenia\n",
    "\n",
    "![](img/04_class.PNG)\n",
    "W firmie każdy pracownik ma inne imię i nazwisko, wynagrodzenie i dział, ale typem każdego pracownika jest pracownik. Istnieje więc ogólny schemat dla każdego pracownika pracującego w firmie, ale każdy z nich ma inne atrybuty.\n",
    "Klasa ma pojedynczy plan, a obiekty są częścią klasy i różnią się od siebie odrębnymi właściwościami.\n",
    "\n",
    "**Obiekty i klasy**\n",
    "Załóżmy, że w firmie jest dwóch pracowników: Mark i Chris. Właściwości Marka i Chrisa przedstawiono na poniższym obrazku:\n",
    "![](img/05_objects.PNG)\n",
    "\n",
    "**Właściwości**\n",
    "Właściwości to zmienne zawierające informacje dotyczące obiektu klasy. Obiekt pracownika będzie miał jako właściwości identyfikator, wynagrodzenie i dział. Można dodać nowe właściwości, aby stać się częścią obiektu klasy pracownika.\n",
    "Atrybuty są również nazywane właściwościami lub elementami. Dla spójności będziemy używać właściwości.\n",
    "\n",
    "**Metody**\n",
    "Metody są jak funkcje, które mają dostęp do właściwości (i innych metod) klasy. Metody mogą akceptować parametry i zwracać wartości. Służą do wykonywania akcji na obiekcie klasy. W powyższym przykładzie mamy tax() i SalaryPerDay() jako metody klasowe.\n",
    "Zachowania są również nazywane funkcjami lub metodami. Dla zachowania spójności będziemy używać metod.\n",
    "\n",
    "**Korzyści z obiektów i klas**\n",
    "Obiekty i klasy pozwalają nam tworzyć złożone aplikacje w Pythonie. Dlatego są uważane za elementy składowe zasad OOP.\n",
    "Obiekty i klasy odgrywają również kluczową rolę w dzieleniu kodu na przedziały. Różne komponenty mogą stać się oddzielnymi klasami, które będą oddziaływać poprzez interfejsy. Te gotowe komponenty będą również dostępne do wykorzystania w przyszłych zastosowaniach.\n",
    "Użycie klas ułatwia utrzymanie różnych części aplikacji, ponieważ łatwiej jest wprowadzać zmiany w klasach."
   ],
   "metadata": {
    "collapsed": false
   },
   "id": "b08af6bc3f9bf553"
  },
  {
   "cell_type": "markdown",
   "source": [
    "**Deklarowanie klasy w Pythonie**\n",
    "Słowo kluczowe class informuje kompilator, że tworzymy klasę niestandardową, po której następuje nazwa klasy i znak :.\n",
    "Wszystkie właściwości i metody klasy zostaną zdefiniowane w zasięgu klasy.\n",
    "\n",
    "*Zasady nazewnictwa*\n",
    "Przy nazewnictwie klas należy przestrzegać następujących zasad:\n",
    "1. Musi zaczynać się od litery lub podkreślenia\n",
    "2. Powinien składać się wyłącznie z cyfr, liter i znaków podkreślenia\n",
    "\n",
    "**Tworzenie obiektu klasy**\n",
    "Nazwa klasy MyClass zostanie użyta do utworzenia instancji obiektu klasy w naszym głównym programie. Możemy utworzyć obiekt klasy, po prostu używając nazwy klasy, po której następuje para nawiasów. Wygląda to podobnie do wywołania funkcji, ale Python potrafi rozróżnić jedno i drugie i tworzy nowy obiekt odpowiedniej klasy. Przykład tego podano poniżej:"
   ],
   "metadata": {
    "collapsed": false
   },
   "id": "af99f1165ebaf0d3"
  },
  {
   "cell_type": "code",
   "execution_count": 1,
   "outputs": [
    {
     "name": "stdout",
     "output_type": "stream",
     "text": [
      "<__main__.MyClass object at 0x000001EB1B26B3D0>\n"
     ]
    }
   ],
   "source": [
    "class MyClass:\n",
    "    pass\n",
    "\n",
    "\n",
    "obj = MyClass()  # Budowanie obiektu MyClass\n",
    "print(obj)"
   ],
   "metadata": {
    "collapsed": false,
    "ExecuteTime": {
     "end_time": "2023-10-13T17:31:21.032803200Z",
     "start_time": "2023-10-13T17:31:20.852509900Z"
    }
   },
   "id": "fd6643684692b906"
  },
  {
   "cell_type": "markdown",
   "source": [
    "**Implementowanie właściwości w klasie**\n",
    "Zaimplementujmy klasę Pracownik przedstawioną poniżej. Zaczniemy od dodania właściwości klasy.\n",
    "![](img/06_oop.PNG)"
   ],
   "metadata": {
    "collapsed": false
   },
   "id": "c1292105121f6dde"
  },
  {
   "cell_type": "code",
   "execution_count": 2,
   "outputs": [],
   "source": [
    "# Użycie None jako wartości początkowe\n",
    "class Employee:\n",
    "    # zdefiniowanie właściwości i przypisanie im żadnego\n",
    "    ID = None\n",
    "    salary = None\n",
    "    department = None"
   ],
   "metadata": {
    "collapsed": false,
    "ExecuteTime": {
     "end_time": "2023-10-13T17:31:21.034797600Z",
     "start_time": "2023-10-13T17:31:20.859439700Z"
    }
   },
   "id": "55a6940a723aa96e"
  },
  {
   "cell_type": "markdown",
   "source": [
    "Zdefiniowaliśmy trzy właściwości jako zmienne klasy ID, wynagrodzenie i dział dla klasy Pracownik.\n",
    "Pamiętaj, że nie inicjujesz wartości właściwości, kod Pythona nie zostanie skompilowany. Konieczne jest zainicjowanie wartości właściwości wewnątrz klasy."
   ],
   "metadata": {
    "collapsed": false
   },
   "id": "96b98fd29f30b4c7"
  },
  {
   "cell_type": "markdown",
   "source": [
    "**Dostęp do właściwości i przypisywanie wartości**\n",
    "Aby uzyskać dostęp do właściwości obiektu, stosuje się notację z kropką.\n",
    "Istnieją dwa sposoby przypisywania wartości do właściwości klasy.\n",
    "1. Przypisz wartości podczas definiowania klasy.\n",
    "2. Przypisz wartości w kodzie głównym."
   ],
   "metadata": {
    "collapsed": false
   },
   "id": "200f8025c5de73"
  },
  {
   "cell_type": "code",
   "execution_count": 3,
   "outputs": [
    {
     "name": "stdout",
     "output_type": "stream",
     "text": [
      "ID = 3789\n",
      "Salary 2500\n",
      "Department: Human Resources\n"
     ]
    }
   ],
   "source": [
    "class Employee:\n",
    "    # definiowanie właściwości i przypisywanie im wartości\n",
    "    ID = 3789\n",
    "    salary = 2500\n",
    "    department = \"Human Resources\"\n",
    "\n",
    "\n",
    "# utworzenie obiektu klasy Pracownik\n",
    "Steve = Employee()\n",
    "\n",
    "# wyświetlenie obiektu klasy Pracownik\n",
    "print(\"ID =\", Steve.ID)\n",
    "print(\"Salary\", Steve.salary)\n",
    "print(\"Department:\", Steve.department)"
   ],
   "metadata": {
    "collapsed": false,
    "ExecuteTime": {
     "end_time": "2023-10-13T17:31:21.035795200Z",
     "start_time": "2023-10-13T17:31:20.865795100Z"
    }
   },
   "id": "ba5b075409ed2b23"
  },
  {
   "cell_type": "code",
   "execution_count": 4,
   "outputs": [
    {
     "name": "stdout",
     "output_type": "stream",
     "text": [
      "ID = 3789\n",
      "Salary 2500\n",
      "Department: Human Resources\n"
     ]
    }
   ],
   "source": [
    "class Employee:\n",
    "    # definiowanie właściwości i przypisywanie None\n",
    "    ID = None\n",
    "    salary = None\n",
    "    department = None\n",
    "\n",
    "\n",
    "# utworzenie obiektu klasy Pracownik\n",
    "Steve = Employee()\n",
    "\n",
    "# przypisanie wartości właściwości Steve'a - obiektu klasy Employee\n",
    "Steve.ID = 3789\n",
    "Steve.salary = 2500\n",
    "Steve.department = \"Human Resources\"\n",
    "\n",
    "# wyświetlenie obiektu klasy Pracownik\n",
    "print(\"ID =\", Steve.ID)\n",
    "print(\"Salary\", Steve.salary)\n",
    "print(\"Department:\", Steve.department)"
   ],
   "metadata": {
    "collapsed": false,
    "ExecuteTime": {
     "end_time": "2023-10-13T17:31:21.047763600Z",
     "start_time": "2023-10-13T17:31:20.870785200Z"
    }
   },
   "id": "e8b59be72e50f75a"
  },
  {
   "cell_type": "markdown",
   "source": [
    "**Tworzenie właściwości poza klasą**\n",
    "Python, będąc językiem szczególnie przyjaznym dla użytkownika, zapewnia użytkownikowi funkcję, której zwykle nie ma większość języków. Oznacza to tworzenie właściwości obiektu poza klasą."
   ],
   "metadata": {
    "collapsed": false
   },
   "id": "f65e6b35849053b9"
  },
  {
   "cell_type": "code",
   "execution_count": 5,
   "outputs": [
    {
     "name": "stdout",
     "output_type": "stream",
     "text": [
      "ID = 3789\n",
      "Salary 2500\n",
      "Department: Human Resources\n",
      "Title: Manager\n"
     ]
    }
   ],
   "source": [
    "class Employee:\n",
    "    # definiowanie właściwości i przypisywanie None\n",
    "    ID = None\n",
    "    salary = None\n",
    "    department = None\n",
    "\n",
    "\n",
    "# utworzenie obiektu klasy Pracownik\n",
    "Steve = Employee()\n",
    "\n",
    "# przypisanie wartości właściwości Steve'a - obiektu klasy Employee\n",
    "Steve.ID = 3789\n",
    "Steve.salary = 2500\n",
    "Steve.department = \"Human Resources\"\n",
    "# utworzenie nowego atrybutu dla Steve'a\n",
    "Steve.title = \"Manager\"\n",
    "\n",
    "# wyświetlenie obiektu klasy Pracownik\n",
    "print(\"ID =\", Steve.ID)\n",
    "print(\"Salary\", Steve.salary)\n",
    "print(\"Department:\", Steve.department)\n",
    "print(\"Title:\", Steve.title)"
   ],
   "metadata": {
    "collapsed": false,
    "ExecuteTime": {
     "end_time": "2023-10-13T17:31:21.047763600Z",
     "start_time": "2023-10-13T17:31:20.877632400Z"
    }
   },
   "id": "2d293e45cd32422"
  },
  {
   "cell_type": "markdown",
   "source": [
    "Uwaga: Właściwość title zostanie dodana tylko do Steve'a, a wszystkie inne przyszłe obiekty będą miały tylko właściwości zadeklarowane w klasie."
   ],
   "metadata": {
    "collapsed": false
   },
   "id": "f712544452edd268"
  },
  {
   "cell_type": "markdown",
   "source": [
    "**Inicjowanie obiektów**\n",
    "Jak sama nazwa wskazuje, inicjator służy do inicjowania obiektu klasy. Jest to specjalna metoda, która opisuje kroki, które są wykonywane, gdy w programie tworzony jest obiekt klasy. Służy do definiowania i przypisywania wartości do zmiennych instancji.\n",
    "Metoda inicjalizacji jest podobna do innych metod, ale ma wstępnie zdefiniowaną nazwę __init__.\n",
    "Podwójne podkreślenie oznacza, że jest to specjalna metoda, którą interpreter Pythona potraktuje jako przypadek specjalny.\n",
    "Inicjator jest metodą specjalną, ponieważ nie ma typu zwracanego. Pierwszym parametrem __init__ jest self, będący sposobem odniesienia się do inicjowanego obiektu.\n",
    "Zawsze dobrą praktyką jest zdefiniowanie jej jako pierwszej metody składowej w definicji klasy."
   ],
   "metadata": {
    "collapsed": false
   },
   "id": "de5dfbc5a9732be8"
  },
  {
   "cell_type": "code",
   "execution_count": 6,
   "outputs": [
    {
     "name": "stdout",
     "output_type": "stream",
     "text": [
      "ID : 3789\n",
      "Salary : 2500\n",
      "Department : Human Resources\n"
     ]
    }
   ],
   "source": [
    "class Employee:\n",
    "    # definiowanie właściwości i przypisywanie None\n",
    "    def __init__(self, ID, salary, department):\n",
    "        self.ID = ID\n",
    "        self.salary = salary\n",
    "        self.department = department\n",
    "\n",
    "\n",
    "# utworzenie obiektu klasy Pracownik z domyślnymi parametrami\n",
    "Steve = Employee(3789, 2500, \"Human Resources\")\n",
    "\n",
    "# wyświetlenie obiektu klasy Pracownik\n",
    "print(\"ID :\", Steve.ID)\n",
    "print(\"Salary :\", Steve.salary)\n",
    "print(\"Department :\", Steve.department)\n"
   ],
   "metadata": {
    "collapsed": false,
    "ExecuteTime": {
     "end_time": "2023-10-13T17:31:21.048760400Z",
     "start_time": "2023-10-13T17:31:20.880589700Z"
    }
   },
   "id": "d95d85127f72e7f4"
  },
  {
   "cell_type": "markdown",
   "source": [
    "Inicjator jest wywoływany automatycznie podczas tworzenia obiektu klasy. Teraz, gdy będziemy używać inicjatorów do tworzenia obiektów, dobrą praktyką byłoby zainicjowanie wszystkich właściwości obiektu podczas definiowania inicjatora.\n",
    "Aby uniknąć błędów, ważne jest zdefiniowanie inicjatora z pełnymi parametrami. Podobnie jak metody, inicjatory również udostępniają parametry opcjonalne.\n",
    "\n",
    "**Inicjator z opcjonalnymi parametrami**\n",
    "Podobnie jak w przypadku metod, możemy również definiować inicjatory z opcjonalnymi parametrami. Podczas definiowania klasy konieczne jest przypisanie wartości początkowych do właściwości klasy. Zatem definiując inicjator z opcjonalnymi parametrami, istotne jest przypisanie wartości domyślnych do właściwości.\n",
    "Możesz także mieć domyślny inicjator, który ma wszystkie właściwości jako opcjonalne. W takim przypadku wszystkie nowe obiekty zostaną utworzone przy użyciu właściwości zainicjowanych w definicji inicjatora.\n",
    "Poniżej znajduje się przykład, w którym tworzony jest jeden obiekt klasy Employee bez parametrów inicjatora, a drugi z parametrami inicjatora."
   ],
   "metadata": {
    "collapsed": false
   },
   "id": "69a32acf3e566a91"
  },
  {
   "cell_type": "code",
   "execution_count": 7,
   "outputs": [
    {
     "name": "stdout",
     "output_type": "stream",
     "text": [
      "Steve\n",
      "ID : None\n",
      "Salary : 0\n",
      "Department : None\n",
      "Mark\n",
      "ID : 3789\n",
      "Salary : 2500\n",
      "Department : Human Resources\n"
     ]
    }
   ],
   "source": [
    "class Employee:\n",
    "    # definiowanie właściwości i przypisywanie None\n",
    "    def __init__(self, ID=None, salary=0, department=None):\n",
    "        self.ID = ID\n",
    "        self.salary = salary\n",
    "        self.department = department\n",
    "\n",
    "\n",
    "# utworzenie obiektu klasy Pracownik z domyślnymi parametrami\n",
    "Steve = Employee()\n",
    "Mark = Employee(\"3789\", 2500, \"Human Resources\")\n",
    "\n",
    "# wyświetlenie obiektu klasy Pracownik\n",
    "print(\"Steve\")\n",
    "print(\"ID :\", Steve.ID)\n",
    "print(\"Salary :\", Steve.salary)\n",
    "print(\"Department :\", Steve.department)\n",
    "print(\"Mark\")\n",
    "print(\"ID :\", Mark.ID)\n",
    "print(\"Salary :\", Mark.salary)\n",
    "print(\"Department :\", Mark.department)"
   ],
   "metadata": {
    "collapsed": false,
    "ExecuteTime": {
     "end_time": "2023-10-13T17:31:21.048760400Z",
     "start_time": "2023-10-13T17:31:20.889854300Z"
    }
   },
   "id": "aa8fe3b49ad5b420"
  },
  {
   "cell_type": "markdown",
   "source": [
    "**Zmienne klas i instancji**\n",
    "W Pythonie właściwości można zdefiniować w dwóch częściach:\n",
    "1. Zmienne klasowe\n",
    "2. Zmienne instancji\n",
    "\n",
    "![](img/07_oop.PNG)\n",
    "\n",
    "**Zmienne klasowe**\n",
    "Zmienne klas są wspólne dla wszystkich instancji lub obiektów klas. Zmiana zmiennej klasy spowoduje zmianę wartości tej właściwości we wszystkich obiektach klasy.\n",
    "\n",
    "**Zmienne instancji**\n",
    "Zmienne instancji są unikalne dla każdej instancji lub obiektu klasy. Zmiana zmiennej instancji spowoduje zmianę wartości właściwości tylko w tym konkretnym obiekcie."
   ],
   "metadata": {
    "collapsed": false
   },
   "id": "7cef1102bbc0bb76"
  },
  {
   "cell_type": "markdown",
   "source": [
    "**Definiowanie zmiennych klas i zmiennych instancji**\n",
    "Zmienne klas są definiowane poza inicjatorem, a zmienne instancji są definiowane wewnątrz inicjatora."
   ],
   "metadata": {
    "collapsed": false
   },
   "id": "6475995ffcb35ecd"
  },
  {
   "cell_type": "code",
   "execution_count": 8,
   "outputs": [
    {
     "name": "stdout",
     "output_type": "stream",
     "text": [
      "Name: Mark\n",
      "Team Name: Liverpool\n",
      "Name: Steve\n",
      "Team Name: Liverpool\n"
     ]
    }
   ],
   "source": [
    "class Player:\n",
    "    teamName = 'Liverpool'  # zmienne klasowe\n",
    "\n",
    "    def __init__(self, name):\n",
    "        self.name = name  # tworzenie zmiennych instancji\n",
    "\n",
    "\n",
    "p1 = Player('Mark')\n",
    "p2 = Player('Steve')\n",
    "\n",
    "print(\"Name:\", p1.name)\n",
    "print(\"Team Name:\", p1.teamName)\n",
    "print(\"Name:\", p2.name)\n",
    "print(\"Team Name:\", p2.teamName)"
   ],
   "metadata": {
    "collapsed": false,
    "ExecuteTime": {
     "end_time": "2023-10-13T17:31:21.049758300Z",
     "start_time": "2023-10-13T17:31:20.895348900Z"
    }
   },
   "id": "de2db193e4c81bd6"
  },
  {
   "cell_type": "markdown",
   "source": [
    "W linii 2 utworzyliśmy zmienną klasy, a w linii 5 zmienną instancji.\n",
    "\n",
    "**Błędne użycie zmiennych klasowych**\n",
    "Konieczne jest prawidłowe użycie zmiennych klasowych, ponieważ są one wspólne dla wszystkich obiektów klas i można je modyfikować przy użyciu dowolnego z nich. Poniżej znajduje się przykład błędnego użycia zmiennych klasowych:"
   ],
   "metadata": {
    "collapsed": false
   },
   "id": "a9dfa29bb060bb7c"
  },
  {
   "cell_type": "code",
   "execution_count": 9,
   "outputs": [
    {
     "name": "stdout",
     "output_type": "stream",
     "text": [
      "Name: Mark\n",
      "Team Name: Liverpool\n",
      "['Barcelona', 'Chelsea']\n",
      "Name: Steve\n",
      "Team Name: Liverpool\n",
      "['Barcelona', 'Chelsea']\n"
     ]
    }
   ],
   "source": [
    "class Player:\n",
    "    formerTeams = []  # zmienne klasowe\n",
    "    teamName = 'Liverpool'\n",
    "    def __init__(self, name):\n",
    "        self.name = name  # tworzenie zmiennych instancji\n",
    "\n",
    "\n",
    "p1 = Player('Mark')\n",
    "p2 = Player('Steve')\n",
    "\n",
    "p1 = Player('Mark')\n",
    "p1.formerTeams.append('Barcelona') # błędne użycie zmiennej klasy\n",
    "p2 = Player('Steve')\n",
    "p2.formerTeams.append('Chelsea') # błędne użycie zmiennej klasy\n",
    "\n",
    "print(\"Name:\", p1.name)\n",
    "print(\"Team Name:\", p1.teamName)\n",
    "print(p1.formerTeams)\n",
    "print(\"Name:\", p2.name)\n",
    "print(\"Team Name:\", p2.teamName)\n",
    "print(p2.formerTeams)"
   ],
   "metadata": {
    "collapsed": false,
    "ExecuteTime": {
     "end_time": "2023-10-13T17:31:21.049758300Z",
     "start_time": "2023-10-13T17:31:20.901709400Z"
    }
   },
   "id": "e6d825527e43f28f"
  },
  {
   "cell_type": "markdown",
   "source": [
    "W powyższym przykładzie, chociaż nazwa zmiennej instancji jest unikalna dla każdego obiektu klasy Player, zmienna klasy formerTeams jest dostępna dla dowolnego obiektu klasy i jest cały czas aktualizowana. Przechowujemy wszystkich graczy obecnie grających w tej samej drużynie, ale każdy zawodnik w drużynie mógł grać w różnych byłych drużynach. Aby uniknąć tego problemu, poprawna implementacja powyższego przykładu będzie następująca:"
   ],
   "metadata": {
    "collapsed": false
   },
   "id": "1e40bf30bd04bec4"
  },
  {
   "cell_type": "code",
   "execution_count": 10,
   "outputs": [
    {
     "name": "stdout",
     "output_type": "stream",
     "text": [
      "Name: Mark\n",
      "Team Name: Liverpool\n",
      "['Barcelona']\n",
      "Name: Steve\n",
      "Team Name: Liverpool\n",
      "['Chelsea']\n"
     ]
    }
   ],
   "source": [
    "class Player:\n",
    "    teamName = 'Liverpool'\n",
    "\n",
    "    def __init__(self, name):\n",
    "        self.name = name\n",
    "        self.formerTeams = []\n",
    "\n",
    "\n",
    "p1 = Player('Mark')\n",
    "p1.formerTeams.append('Barcelona')\n",
    "p2 = Player('Steve')\n",
    "p2.formerTeams.append('Chelsea')\n",
    "\n",
    "print(\"Name:\", p1.name)\n",
    "print(\"Team Name:\", p1.teamName)\n",
    "print(p1.formerTeams)\n",
    "print(\"Name:\", p2.name)\n",
    "print(\"Team Name:\", p2.teamName)\n",
    "print(p2.formerTeams)"
   ],
   "metadata": {
    "collapsed": false,
    "ExecuteTime": {
     "end_time": "2023-10-13T17:31:21.050755200Z",
     "start_time": "2023-10-13T17:31:20.906683Z"
    }
   },
   "id": "96a92fe7e720b108"
  },
  {
   "cell_type": "markdown",
   "source": [
    "Teraz właściwość formerTeams jest unikalna dla każdego obiektu klasy Player i dostęp do niej może uzyskać tylko ten unikalny obiekt."
   ],
   "metadata": {
    "collapsed": false
   },
   "id": "223e49ea9eb5195e"
  },
  {
   "cell_type": "markdown",
   "source": [
    "**Inteligentne używanie zmiennych klasowych**\n",
    "Zmienne klasowe są przydatne podczas implementowania właściwości, które powinny być wspólne i dostępne dla wszystkich obiektów klas. Zobaczmy taki przykład:"
   ],
   "metadata": {
    "collapsed": false
   },
   "id": "89ad9f43a4d2cdb7"
  },
  {
   "cell_type": "code",
   "execution_count": 11,
   "outputs": [
    {
     "name": "stdout",
     "output_type": "stream",
     "text": [
      "Name: Mark\n",
      "Team Members:\n",
      "['Mark', 'Steve']\n",
      "\n",
      "Name: Steve\n",
      "Team Members:\n",
      "['Mark', 'Steve']\n"
     ]
    }
   ],
   "source": [
    "class Player:\n",
    "    teamName = 'Liverpool'      \n",
    "    teamMembers = []\n",
    "\n",
    "    def __init__(self, name):\n",
    "        self.name = name        \n",
    "        self.formerTeams = []\n",
    "        self.teamMembers.append(self.name)\n",
    "\n",
    "\n",
    "p1 = Player('Mark')\n",
    "p2 = Player('Steve')\n",
    "\n",
    "print(\"Name:\", p1.name)\n",
    "print(\"Team Members:\")\n",
    "print(p1.teamMembers)\n",
    "print(\"\")\n",
    "print(\"Name:\", p2.name)\n",
    "print(\"Team Members:\")\n",
    "print(p2.teamMembers)"
   ],
   "metadata": {
    "collapsed": false,
    "ExecuteTime": {
     "end_time": "2023-10-13T17:31:21.050755200Z",
     "start_time": "2023-10-13T17:31:20.915004300Z"
    }
   },
   "id": "a0d4a8723c45d6f5"
  },
  {
   "cell_type": "markdown",
   "source": [
    "W powyższym przykładzie zdefiniowaliśmy zmienną klasową teamMembers, która jest listą, która będzie współdzielona przez wszystkie obiekty klasy Player.\n",
    "\n",
    "Ta lista teamMembers będzie zawierać nazwy wszystkich instancji utworzonych dla klasy Player.\n",
    "\n",
    "Jak widać w linii 8, za każdym razem, gdy tworzony jest nowy obiekt, jego nazwa jest dodawana do elementu teamMembers.\n",
    "\n",
    "W liniach 16 i 20 widzimy, że dostęp do członków zespołu uzyskuje się odpowiednio poprzez p1 i p2, przy czym oba dają ten sam wynik."
   ],
   "metadata": {
    "collapsed": false
   },
   "id": "84c9c300d1878265"
  },
  {
   "cell_type": "markdown",
   "source": [
    "**Implementowanie metod w klasie**\n",
    "Na tej lekcji nauczymy się o interakcji pomiędzy właściwościami i innymi obiektami. Tutaj w grę wchodzą metody. W Pythonie istnieją trzy typy metod:\n",
    "1. metody instancji\n",
    "2. metody klasowe\n",
    "3. metody statyczne\n",
    "\n",
    "W tej lekcji omówimy metody instancji, ponieważ są one najczęściej używane w Pythonie OOP.\n",
    "Uwaga: będziemy używać terminu metody na przykład metody, ponieważ są one najczęściej używane. Metody klasowe i metody statyczne zostaną nazwane jawnie takimi, jakie są.\n",
    "\n",
    "**Cel metod**\n",
    "Metody pełnią rolę interfejsu pomiędzy programem a właściwościami klasy w programie.\n",
    "Metody te mogą albo zmieniać zawartość właściwości, albo wykorzystywać ich wartości do wykonywania określonych obliczeń.\n",
    "\n",
    "**Definicja i deklaracja**\n",
    "Metoda to grupa instrukcji, która wykonuje pewne operacje i może, ale nie musi, zwracać wynik.\n",
    "Rozbudujemy przykładową klasę Pracownik, dodając do niej metody.\n",
    "![](img/08_oop.PNG)\n",
    "\n",
    "**Parametry metody**\n",
    "Parametry metody umożliwiają przekazywanie wartości do metody. W Pythonie pierwszym parametrem metody ZAWSZE powinien być self (omówiony poniżej), a po nim powinny znajdować się pozostałe parametry.\n",
    "\n",
    "**return**\n",
    "Instrukcja return umożliwia pobranie wartości z metody.\n",
    "Nie ma potrzeby określania typu zwracanego, ponieważ typy danych nie są określone w Pythonie.\n",
    "Po instrukcji return musi bezpośrednio następować wartość zwracana.\n",
    "\n",
    "**self**\n",
    "Jedną z głównych różnic pomiędzy funkcjami i metodami w Pythonie jest pierwszy argument w definicji metody. Konwencjonalnie nazywa się to self. Użytkownik może również używać różnych nazw, ale prawie wszyscy programiści pracujący w Pythonie używają nazwy self. Będziemy również używać tej konwencji, aby ułatwić zrozumienie.\n",
    "\n",
    "Ta pseudozmienna dostarcza referencję do obiektu wywołującego, czyli obiektu, do którego należy dana metoda lub właściwość. Jeśli użytkownik nie poda self jako pierwszego argumentu, pierwszy parametr zostanie potraktowany jako odniesienie do obiektu.\n",
    "\n",
    "Uwaga: Argument self należy przekazać tylko w definicji metody, a nie podczas wywoływania metody."
   ],
   "metadata": {
    "collapsed": false
   },
   "id": "aa5ba4e989d7bee0"
  },
  {
   "cell_type": "code",
   "execution_count": 12,
   "outputs": [
    {
     "name": "stdout",
     "output_type": "stream",
     "text": [
      "ID = 3789\n",
      "Salary 2500\n",
      "Department: Human Resources\n",
      "Tax paid by Steve: 500.0\n",
      "Salary per day of Steve 83.33333333333333\n"
     ]
    }
   ],
   "source": [
    "class Employee:\n",
    "    # zdefiniowanie inicjatora\n",
    "    def __init__(self, ID=None, salary=None, department=None):\n",
    "        self.ID = ID\n",
    "        self.salary = salary\n",
    "        self.department = department\n",
    "\n",
    "    def tax(self):\n",
    "        return (self.salary * 0.2)\n",
    "\n",
    "    def salaryPerDay(self):\n",
    "        return (self.salary / 30)\n",
    "\n",
    "\n",
    "# inicjalizacja obiektu klasy Pracownik\n",
    "Steve = Employee(3789, 2500, \"Human Resources\")\n",
    "\n",
    "# wyświetlenie obiektu klasy Pracownik\n",
    "print(\"ID =\", Steve.ID)\n",
    "print(\"Salary\", Steve.salary)\n",
    "print(\"Department:\", Steve.department)\n",
    "print(\"Tax paid by Steve:\", Steve.tax())\n",
    "print(\"Salary per day of Steve\", Steve.salaryPerDay())\n"
   ],
   "metadata": {
    "collapsed": false,
    "ExecuteTime": {
     "end_time": "2023-10-13T17:31:21.051753900Z",
     "start_time": "2023-10-13T17:31:20.918276300Z"
    }
   },
   "id": "e47e7a27074e987a"
  },
  {
   "cell_type": "markdown",
   "source": [
    "**Przeciążanie metody**\n",
    "Przeciążanie odnosi się do zmuszania metody do wykonywania różnych operacji w zależności od charakteru jej argumentów.\n",
    "W przeciwieństwie do innych języków programowania, w Pythonie metod nie można jawnie przeciążać, ale można je przeciążać niejawnie.\n",
    "Aby uwzględnić opcjonalne argumenty, przypisujemy im wartości domyślne, zamiast tworzyć zduplikowaną metodę o tej samej nazwie. Jeśli użytkownik nie zdecyduje się na przypisanie wartości do opcjonalnego parametru, do zmiennej zostanie automatycznie przypisana wartość domyślna."
   ],
   "metadata": {
    "collapsed": false
   },
   "id": "604da732cc96f9b6"
  },
  {
   "cell_type": "code",
   "execution_count": 13,
   "outputs": [
    {
     "name": "stdout",
     "output_type": "stream",
     "text": [
      "Demo 1\n",
      "a = 1\n",
      "b = 2\n",
      "c = 3\n",
      "d = 5\n",
      "e = None\n",
      "\n",
      "\n",
      "Demo 2\n",
      "a = 1\n",
      "b = 2\n",
      "c = 3\n",
      "d = 4\n",
      "e = None\n",
      "\n",
      "\n",
      "Demo 3\n",
      "a = 1\n",
      "b = 2\n",
      "c = 3\n",
      "d = 4\n",
      "e = 5\n"
     ]
    }
   ],
   "source": [
    "class Employee:\n",
    "    # zdefiniowanie właściwości i przypisanie None\n",
    "    def __init__(self, ID=None, salary=None, department=None):\n",
    "        self.ID = ID\n",
    "        self.salary = salary\n",
    "        self.department = department\n",
    "\n",
    "    # Przeciążenie metody\n",
    "    def demo(self, a, b, c, d=5, e=None):\n",
    "        print(\"a =\", a)\n",
    "        print(\"b =\", b)\n",
    "        print(\"c =\", c)\n",
    "        print(\"d =\", d)\n",
    "        print(\"e =\", e)\n",
    "\n",
    "    def tax(self, title=None):\n",
    "        return (self.salary * 0.2)\n",
    "\n",
    "    def salaryPerDay(self):\n",
    "        return (self.salary / 30)\n",
    "\n",
    "\n",
    "# inicjalizacja obiektu klasy Pracownik\n",
    "Steve = Employee()\n",
    "\n",
    "# wyświetlenie obiektu klasy Pracownik\n",
    "print(\"Demo 1\")\n",
    "Steve.demo(1, 2, 3)\n",
    "print(\"\\n\")\n",
    "\n",
    "print(\"Demo 2\")\n",
    "Steve.demo(1, 2, 3, 4)\n",
    "print(\"\\n\")\n",
    "\n",
    "print(\"Demo 3\")\n",
    "Steve.demo(1, 2, 3, 4, 5)"
   ],
   "metadata": {
    "collapsed": false,
    "ExecuteTime": {
     "end_time": "2023-10-13T17:31:21.051753900Z",
     "start_time": "2023-10-13T17:31:20.928446700Z"
    }
   },
   "id": "2c7689a70850c38"
  },
  {
   "cell_type": "markdown",
   "source": [
    "W powyższym kodzie widzimy, że ta sama metoda zachowuje się inaczej w przypadku napotkania różnych typów danych wejściowych.\n",
    "Jeśli przedefiniujemy metodę kilka razy i podamy jej różne argumenty, Python do swojej implementacji użyje najnowszej definicji metody.\n",
    "\n",
    "**Zalety przeciążania metod**\n",
    "Można się zastanawiać, czy moglibyśmy po prostu stworzyć nowe metody wykonywania różnych zadań, zamiast przeciążać tę samą metodę. Jednak pod maską przeciążenie oszczędza nam pamięć w systemie. Tworzenie nowych metod jest droższe w porównaniu do przeciążania jednej.\n",
    "Ponieważ oszczędzają pamięć, przeciążone metody są kompilowane szybciej w porównaniu do innych metod, zwłaszcza jeśli lista metod jest długa.\n",
    "Oczywistą korzyścią jest to, że kod staje się prosty i czysty. Nie musimy śledzić różnych metod.\n",
    "Polimorfizm jest bardzo ważnym pojęciem w programowaniu obiektowym. Przeciążanie metod odgrywa kluczową rolę w jej implementacji.\n",
    "![](img/09_overload.PNG)"
   ],
   "metadata": {
    "collapsed": false
   },
   "id": "cac61c96322271dc"
  },
  {
   "cell_type": "markdown",
   "source": [
    "**Metody klasy i metody statyczne**\n",
    "W klasach Pythona mamy trzy typy metod: metody instancji, metody klasy i metody statyczne. W tej lekcji skupimy się na metodach klasy i metodach statycznych.\n",
    "![](img/10_metody.PNG)\n",
    "\n",
    "**Metody klasy**\n",
    "Metody klasy współpracują ze zmiennymi klasowymi i są dostępne poprzez nazwę klasy, a nie jej obiekt. Ponieważ wszystkie obiekty klas współdzielą zmienne klasy, metody klasy służą do uzyskiwania dostępu do zmiennych klasy i ich modyfikowania.\n",
    "Dostęp do metod klasy uzyskuje się poprzez nazwę klasy i można uzyskać do nich dostęp bez tworzenia obiektu klasy.\n",
    "\n",
    "Aby zadeklarować metodę jako metodę klasy, używamy dekoratora @classmethod. cls jest używane w odniesieniu do klasy, tak jak self jest używane w odniesieniu do obiektu klasy. Zamiast cls możesz użyć dowolnej innej nazwy, ale cls jest używane zgodnie z konwencją i będziemy nadal używać tej konwencji.\n",
    "Uwaga: Podobnie jak metody instancji, wszystkie metody klasy mają co najmniej jeden argument, cls."
   ],
   "metadata": {
    "collapsed": false
   },
   "id": "12f5867726cbc567"
  },
  {
   "cell_type": "code",
   "execution_count": 14,
   "outputs": [
    {
     "name": "stdout",
     "output_type": "stream",
     "text": [
      "Liverpool\n"
     ]
    }
   ],
   "source": [
    "class Player:\n",
    "    teamName = 'Liverpool'  # zmienne klasowa\n",
    "\n",
    "    def __init__(self, name):\n",
    "        self.name = name  # tworzenie zmiennych instancji\n",
    "\n",
    "    @classmethod\n",
    "    def getTeamName(cls):\n",
    "        return cls.teamName\n",
    "\n",
    "\n",
    "print(Player.getTeamName())"
   ],
   "metadata": {
    "collapsed": false,
    "ExecuteTime": {
     "end_time": "2023-10-13T17:59:28.397109Z",
     "start_time": "2023-10-13T17:59:28.366371900Z"
    }
   },
   "id": "629f35a8d039ae74"
  },
  {
   "cell_type": "markdown",
   "source": [
    "W linii 7 użyliśmy dekoratora @classmethod, aby zdefiniować getTeamName jako metodę klasy, a w linii 12 wywołujemy tę metodę, używając nazwy klasy.\n",
    "\n",
    "**Metody statyczne**\n",
    "Metody statyczne to metody, które zwykle ograniczają się tylko do klas, a nie do ich obiektów. Nie mają one bezpośredniego związku ze zmiennymi klasowymi ani zmiennymi instancji. Używa się ich jako funkcji użytkowych wewnątrz klasy lub gdy nie chcemy, aby klasy dziedziczone modyfikowały definicję metody.\n",
    "Dostęp do metod statycznych można uzyskać za pomocą nazwy klasy lub nazwy obiektu.\n",
    "\n",
    "Aby zadeklarować metodę jako metodę statyczną, używamy dekoratora @staticmethod. Nie używa odniesienia do obiektu lub klasy, więc nie musimy używać self ani cls. Możemy przekazać dowolną liczbę argumentów i użyć tej metody do wykonania dowolnej funkcji bez zakłócania instancji lub zmiennych klasy."
   ],
   "metadata": {
    "collapsed": false
   },
   "id": "959dbf5692cfab3e"
  },
  {
   "cell_type": "code",
   "execution_count": 15,
   "outputs": [
    {
     "name": "stdout",
     "output_type": "stream",
     "text": [
      "I am a static method.\n",
      "I am a static method.\n"
     ]
    }
   ],
   "source": [
    "class Player:\n",
    "    teamName = 'Liverpool'  # zmienne klasy\n",
    "\n",
    "    def __init__(self, name):\n",
    "        self.name = name  # tworzenie zmiennych instancji\n",
    "\n",
    "    @staticmethod\n",
    "    def demo():\n",
    "        print(\"I am a static method.\")\n",
    "\n",
    "\n",
    "p1 = Player('lol')\n",
    "p1.demo()\n",
    "Player.demo()"
   ],
   "metadata": {
    "collapsed": false,
    "ExecuteTime": {
     "end_time": "2023-10-13T18:24:37.505561600Z",
     "start_time": "2023-10-13T18:24:37.462288500Z"
    }
   },
   "id": "3d04e689daa9bbb3"
  },
  {
   "cell_type": "markdown",
   "source": [
    "Metody statyczne nie wiedzą nic o stanie klasy, tj. nie mogą modyfikować atrybutów klasy. Celem metody statycznej jest wykorzystanie jej parametrów i uzyskanie użytecznego wyniku."
   ],
   "metadata": {
    "collapsed": false
   },
   "id": "3b4b03a6a4ea741f"
  },
  {
   "cell_type": "markdown",
   "source": [
    "**Modyfikatory dostępu**\n",
    "W Pythonie możemy nałożyć ograniczenia dostępu na różne elementy danych i funkcje składowe. Ograniczenia są określane za pomocą modyfikatorów dostępu. Modyfikatory dostępu to znaczniki, które możemy powiązać z każdym elementem w celu zdefiniowania, które części programu mogą uzyskać do niego bezpośredni dostęp.\n",
    "W Pythonie istnieją dwa typy modyfikatorów dostępu. Przyjrzyjmy się im jeden po drugim.\n",
    "\n",
    "**Atrybuty publiczne**\n",
    "Atrybuty publiczne to te, do których można uzyskać dostęp wewnątrz klasy i poza nią.\n",
    "Technicznie rzecz biorąc, w Pythonie wszystkie metody i właściwości w klasie są domyślnie dostępne publicznie. Jeśli chcemy zasugerować, że metody nie należy używać publicznie, musimy jawnie zadeklarować ją jako prywatną.\n",
    "Poniżej znajduje się przykład implementacji atrybutów publicznych:"
   ],
   "metadata": {
    "collapsed": false
   },
   "id": "99914f9867efe0a"
  },
  {
   "cell_type": "code",
   "execution_count": 16,
   "outputs": [
    {
     "name": "stdout",
     "output_type": "stream",
     "text": [
      "ID: 3789\n",
      "2500\n"
     ]
    }
   ],
   "source": [
    "class Employee:\n",
    "    def __init__(self, ID, salary):\n",
    "        # wszystkie właściwości są publiczne\n",
    "        self.ID = ID\n",
    "        self.salary = salary\n",
    "\n",
    "    def displayID(self):\n",
    "        print(\"ID:\", self.ID)\n",
    "\n",
    "\n",
    "Steve = Employee(3789, 2500)\n",
    "Steve.displayID()\n",
    "print(Steve.salary)"
   ],
   "metadata": {
    "collapsed": false,
    "ExecuteTime": {
     "end_time": "2023-10-13T18:26:34.557820700Z",
     "start_time": "2023-10-13T18:26:34.524976500Z"
    }
   },
   "id": "7091d5e8e0ad2841"
  },
  {
   "cell_type": "markdown",
   "source": [
    "W powyższym kodzie właściwości ID i wynagrodzenie oraz metoda displayID() są publiczne, ponieważ można uzyskać do nich dostęp w klasie i poza nią.\n",
    "![](img/11_atrybuty.PNG)\n",
    "\n",
    "**Prywatne atrybuty**\n",
    "Do atrybutów prywatnych nie można uzyskać dostępu bezpośrednio spoza klasy, ale można uzyskać do nich dostęp z wnętrza klasy.\n",
    "Celem jest ukrycie go przed użytkownikami i innymi klasami. W przeciwieństwie do wielu różnych języków, w Pythonie nie jest powszechną praktyką utrzymywanie prywatności elementów danych, ponieważ nie chcemy stwarzać przeszkód dla użytkowników. Możemy ustawić członków jako prywatnych, używając przedrostka __ z podwójnym podkreśleniem"
   ],
   "metadata": {
    "collapsed": false
   },
   "id": "eb500d8f2c591781"
  },
  {
   "cell_type": "code",
   "execution_count": 17,
   "outputs": [
    {
     "name": "stdout",
     "output_type": "stream",
     "text": [
      "ID: 3789\n"
     ]
    },
    {
     "ename": "AttributeError",
     "evalue": "'Employee' object has no attribute '__salary'",
     "output_type": "error",
     "traceback": [
      "\u001B[1;31m---------------------------------------------------------------------------\u001B[0m",
      "\u001B[1;31mAttributeError\u001B[0m                            Traceback (most recent call last)",
      "Cell \u001B[1;32mIn[17], line 9\u001B[0m\n\u001B[0;32m      7\u001B[0m Steve \u001B[38;5;241m=\u001B[39m Employee(\u001B[38;5;241m3789\u001B[39m, \u001B[38;5;241m2500\u001B[39m)\n\u001B[0;32m      8\u001B[0m \u001B[38;5;28mprint\u001B[39m(\u001B[38;5;124m\"\u001B[39m\u001B[38;5;124mID:\u001B[39m\u001B[38;5;124m\"\u001B[39m, Steve\u001B[38;5;241m.\u001B[39mID)\n\u001B[1;32m----> 9\u001B[0m \u001B[38;5;28mprint\u001B[39m(\u001B[38;5;124m\"\u001B[39m\u001B[38;5;124mSalary:\u001B[39m\u001B[38;5;124m\"\u001B[39m, Steve\u001B[38;5;241m.\u001B[39m__salary)\n",
      "\u001B[1;31mAttributeError\u001B[0m: 'Employee' object has no attribute '__salary'"
     ]
    }
   ],
   "source": [
    "class Employee:\n",
    "    def __init__(self, ID, salary):\n",
    "        self.ID = ID\n",
    "        self.__salary = salary  # wynagrodzenie jest własnością prywatną\n",
    "\n",
    "\n",
    "Steve = Employee(3789, 2500)\n",
    "print(\"ID:\", Steve.ID)\n",
    "print(\"Salary:\", Steve.__salary)  # spowoduje to błąd"
   ],
   "metadata": {
    "collapsed": false,
    "ExecuteTime": {
     "end_time": "2023-10-13T18:28:33.570435200Z",
     "start_time": "2023-10-13T18:28:33.091478900Z"
    }
   },
   "id": "bfb9eaf826dba32a"
  },
  {
   "cell_type": "markdown",
   "source": [
    "W powyższym kodzie identyfikator jest właściwością publiczną, ale __salary jest własnością prywatną, więc nie można uzyskać do niego dostępu poza klasą.\n",
    "Przy próbie uzyskania dostępu poza klasą generowany jest następujący błąd:\n",
    "Obiekt „Pracownik” nie ma atrybutu „__wynagrodzenie”\n",
    "Aby nikt z zewnątrz nie dowiedział się o tej prywatnej własności, błąd nie ujawnia jej tożsamości.\n",
    "![](img/12_atrybuty.PNG)"
   ],
   "metadata": {
    "collapsed": false
   },
   "id": "89a3bc098be5bcf4"
  },
  {
   "cell_type": "code",
   "execution_count": 18,
   "outputs": [
    {
     "name": "stdout",
     "output_type": "stream",
     "text": [
      "Salary: 2500\n"
     ]
    },
    {
     "ename": "AttributeError",
     "evalue": "'Employee' object has no attribute '__displayID'",
     "output_type": "error",
     "traceback": [
      "\u001B[1;31m---------------------------------------------------------------------------\u001B[0m",
      "\u001B[1;31mAttributeError\u001B[0m                            Traceback (most recent call last)",
      "Cell \u001B[1;32mIn[18], line 15\u001B[0m\n\u001B[0;32m     13\u001B[0m Steve \u001B[38;5;241m=\u001B[39m Employee(\u001B[38;5;241m3789\u001B[39m, \u001B[38;5;241m2500\u001B[39m)\n\u001B[0;32m     14\u001B[0m Steve\u001B[38;5;241m.\u001B[39mdisplaySalary()\n\u001B[1;32m---> 15\u001B[0m Steve\u001B[38;5;241m.\u001B[39m__displayID()\n",
      "\u001B[1;31mAttributeError\u001B[0m: 'Employee' object has no attribute '__displayID'"
     ]
    }
   ],
   "source": [
    "class Employee:\n",
    "    def __init__(self, ID, salary):\n",
    "        self.ID = ID\n",
    "        self.__salary = salary  # wynagrodzenie jest własnością prywatną\n",
    "\n",
    "    def displaySalary(self):  # displaySalary jest metodą publiczną\n",
    "        print(\"Salary:\", self.__salary)\n",
    "\n",
    "    def __displayID(self):  # displayID jest metodą prywatną\n",
    "        print(\"ID:\", self.ID)\n",
    "\n",
    "\n",
    "Steve = Employee(3789, 2500)\n",
    "Steve.displaySalary()\n",
    "Steve.__displayID()  # spowoduje to wygenerowanie błędu"
   ],
   "metadata": {
    "collapsed": false,
    "ExecuteTime": {
     "end_time": "2023-10-13T18:30:09.561476300Z",
     "start_time": "2023-10-13T18:30:09.524756200Z"
    }
   },
   "id": "c8251cd6e3f207d4"
  },
  {
   "cell_type": "markdown",
   "source": [
    "Identyfikator jest własnością publiczną, więc można uzyskać do niego dostęp zarówno z zewnątrz, jak i wewnątrz klasy.\n",
    "__salary jest własnością prywatną, więc nie można uzyskać do niej dostępu spoza klasy, ale można uzyskać do niej dostęp z wnętrza klasy.\n",
    "Metoda displaySalary() jest metodą publiczną, więc można uzyskać do niej dostęp spoza klasy. Ta metoda umożliwia również dostęp do własności prywatnej __salary.\n",
    "Metoda __displayID() jest metodą prywatną, więc nie można uzyskać do niej dostępu spoza klasy.\n",
    "Próba uzyskania dostępu do displayID() spoza klasy powoduje wygenerowanie następującego błędu:\n",
    "Obiekt „Pracownik” nie ma atrybutu „__displayID()”\n",
    "Aby nikt z zewnątrz nie dowiedział się o tej prywatnej własności, błąd nie ujawnia jej tożsamości.\n",
    "![](img/13_atrybuty.PNG)\n",
    "Uwaga: Metody są zwykle publiczne, ponieważ zapewniają interfejs dla właściwości klasy i głównego kodu, aby mogły ze sobą współdziałać.\n",
    "\n",
    "**Dostęp do atrybutów prywatnych w kodzie głównym**\n",
    "Jak omówiono powyżej, zmienne prywatne w Pythonie nie są powszechne.\n",
    "Właściwości i metody z przedrostkiem __ są zwykle obecne, aby mieć pewność, że użytkownik nie uzyska do nich nieostrożnego dostępu. Python daje użytkownikowi wolną rękę, aby uniknąć przyszłych komplikacji w kodzie. Jeśli użytkownik uważa, że dostęp do prywatnej właściwości lub metody jest absolutnie konieczny, może uzyskać do nich dostęp, używając przedrostka _<ClassName> dla właściwości lub metody. Przykład tego pokazano poniżej:"
   ],
   "metadata": {
    "collapsed": false
   },
   "id": "49be806463ef1024"
  },
  {
   "cell_type": "code",
   "execution_count": 19,
   "outputs": [
    {
     "name": "stdout",
     "output_type": "stream",
     "text": [
      "2500\n"
     ]
    }
   ],
   "source": [
    "class Employee:\n",
    "    def __init__(self, ID, salary):\n",
    "        self.ID = ID\n",
    "        self.__salary = salary  # wynagrodzenie jest własnością prywatną\n",
    "\n",
    "\n",
    "Steve = Employee(3789, 2500)\n",
    "print(Steve._Employee__salary)  # dostęp do własności prywatnej"
   ],
   "metadata": {
    "collapsed": false,
    "ExecuteTime": {
     "end_time": "2023-10-13T18:32:21.253784400Z",
     "start_time": "2023-10-13T18:32:21.200582300Z"
    }
   },
   "id": "552dd9449242d080"
  },
  {
   "cell_type": "markdown",
   "source": [
    "**Nie tak chroniony**\n",
    "Dostęp do chronionych właściwości i metod w innych językach mają klasy i ich podklasy. W Pythonie nie ma ścisłych reguł dostępu do właściwości i metod, dlatego nie ma modyfikatora chronionego dostępu."
   ],
   "metadata": {
    "collapsed": false
   },
   "id": "c2f47f499d38a1f1"
  },
  {
   "cell_type": "code",
   "execution_count": null,
   "outputs": [],
   "source": [],
   "metadata": {
    "collapsed": false
   },
   "id": "8c474bb477f08b06"
  }
 ],
 "metadata": {
  "kernelspec": {
   "display_name": "Python 3",
   "language": "python",
   "name": "python3"
  },
  "language_info": {
   "codemirror_mode": {
    "name": "ipython",
    "version": 2
   },
   "file_extension": ".py",
   "mimetype": "text/x-python",
   "name": "python",
   "nbconvert_exporter": "python",
   "pygments_lexer": "ipython2",
   "version": "2.7.6"
  }
 },
 "nbformat": 4,
 "nbformat_minor": 5
}

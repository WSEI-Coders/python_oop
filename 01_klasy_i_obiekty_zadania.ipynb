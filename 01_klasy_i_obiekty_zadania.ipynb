{
 "cells": [
  {
   "cell_type": "markdown",
   "source": [
    "**Zadanie 1: Kwadrat liczb i zwrócenie ich sumy**\n",
    "Treść zadania:\n",
    "Zaimplementuj klasę Point, która będzie posiadała trzy właściwości oraz jedną metodę. Wszystkie te atrybuty (właściwości i metody) powinny być publiczne. Ten problem można podzielić na dwie zadania:\n",
    "\n",
    "*Czynność 1:*\n",
    "Zaimplementuj konstruktor, który zainicjuje wartości trzech właściwości: x, y i z.\n",
    "\n",
    "*Czynność 2:*\n",
    "Zaimplementuj metodę sqSum() w klasie Point, która podnosi do kwadratu x, y i z, a następnie zwraca ich sumę.\n",
    "\n",
    "Przykładowe dane wejściowe:\n",
    "1, 3, 5\n",
    "\n",
    "Przykładowy wynik:\n",
    "35"
   ],
   "metadata": {
    "collapsed": false
   },
   "id": "a418bfe1b6753bbd"
  },
  {
   "cell_type": "code",
   "execution_count": 1,
   "outputs": [
    {
     "name": "stdout",
     "output_type": "stream",
     "text": [
      "35\n"
     ]
    }
   ],
   "source": [
    "class Point:\n",
    "    def __init__(self, x, y, z):\n",
    "        self.x = x\n",
    "        self.y = y\n",
    "        self.z = z\n",
    "\n",
    "    def sqSum(self):\n",
    "        return self.x**2 + self.y**2 + self.z**2\n",
    "    \n",
    "\n",
    "p1 = Point(1, 3, 5)\n",
    "result = p1.sqSum()\n",
    "print(result)"
   ],
   "metadata": {
    "collapsed": false,
    "ExecuteTime": {
     "end_time": "2024-03-05T12:33:58.821460Z",
     "start_time": "2024-03-05T12:33:58.815633700Z"
    }
   },
   "id": "8a503bc2f1237f48"
  },
  {
   "cell_type": "markdown",
   "source": [
    "**Wyjaśnienie:**\n",
    "Przyjrzyjmy się rozwiązaniu każdej czynności pojedynczo.\n",
    "\n",
    "*Czynność 1:*\n",
    "Przekazaliśmy parametry i przypisaliśmy je do odpowiadających im właściwości.\n",
    "*Czynność 2:*\n",
    "Obliczyliśmy kwadraty właściwości.\n",
    "Następnie dodaliśmy wszystkie podniesione do kwadratu liczby.\n",
    "W końcu zwróciliśmy ich sumę."
   ],
   "metadata": {
    "collapsed": false
   },
   "id": "6a7f24910a669749"
  },
  {
   "cell_type": "markdown",
   "source": [
    "**Zadanie 2: Oblicz wyniki studenta**\n",
    "Zaimplementuj klasę - Student - która będzie posiadała cztery właściwości oraz dwie metody. Wszystkie te atrybuty (właściwości i metody) powinny być publiczne. Ten problem można podzielić na trzy zadania.\n",
    "\n",
    "Czynność 1:\n",
    "Zaimplementuj konstruktor, który zainicjuje wartości czterech właściwości: name, phy, chem i bio.\n",
    "\n",
    "Czynność 2:\n",
    "Zaimplementuj metodę - totalObtained - w klasie Student, która oblicza łączną liczbę punktów studenta.\n",
    "\n",
    "Przykładowe dane wejściowe:\n",
    "name = Mark\n",
    "phy = 80\n",
    "chem = 90\n",
    "bio = 40\n",
    "\n",
    "Przykładowy wynik:\n",
    "obj1.Total()=210\n",
    "\n",
    "Czynność 3:\n",
    "Korzystając z metody totalObtained, zaimplementuj inną metodę, percentage, w klasie Student, która oblicza procentowe wyniki studenta. Załóż, że maksymalna liczba punktów z każdego przedmiotu wynosi 100. Łączna liczba punktów z trzech przedmiotów to 300.\n",
    "\n",
    "Poniżej przedstawiono wzór na obliczenie procentu.\n",
    "Procent = (Otrzymane punkty / Łączna liczba punktów) × 100\n",
    "\n",
    "Przykładowe dane wejściowe:\n",
    "phy = 80\n",
    "chem = 90\n",
    "bio = 40\n",
    "\n",
    "Przykładowy wynik:\n",
    "70"
   ],
   "metadata": {
    "collapsed": false
   },
   "id": "99748ed938ce4fa0"
  },
  {
   "cell_type": "code",
   "execution_count": 2,
   "outputs": [
    {
     "name": "stdout",
     "output_type": "stream",
     "text": [
      "210\n",
      "70.0\n"
     ]
    }
   ],
   "source": [
    "class Student:\n",
    "    def __init__(self, name, phy, chem, bio):\n",
    "        self.name = name\n",
    "        self.phy = phy\n",
    "        self.chem = chem\n",
    "        self.bio = bio\n",
    "\n",
    "    def totalObtained(self):\n",
    "        return self.phy + self.chem + self.bio\n",
    "\n",
    "    def percentage(self):\n",
    "        return self.totalObtained() / 300 * 100\n",
    "    \n",
    "    \n",
    "s1 = Student(\"Mark\", 80, 90, 40)\n",
    "print(s1.totalObtained())\n",
    "print(s1.percentage())"
   ],
   "metadata": {
    "collapsed": false,
    "ExecuteTime": {
     "end_time": "2024-03-05T12:42:45.200160600Z",
     "start_time": "2024-03-05T12:42:45.175677700Z"
    }
   },
   "id": "494a1b127ac2fa39"
  },
  {
   "cell_type": "markdown",
   "source": [
    "**Wyjaśnienie:**\n",
    "W liniach 3 - 6 zainicjowaliśmy właściwości name, phy, chem i bio jako publiczne właściwości w inicjalizatorze klasy.\n",
    "\n",
    "W linii 9 zdefiniowaliśmy metodę totalObtained(). W tej metodzie dodaliśmy indywidualne punkty z wszystkich przedmiotów i zwróciliśmy ich sumę.\n",
    "\n",
    "Na koniec w linii 12 zdefiniowaliśmy metodę percentage(). W tej metodzie wywołaliśmy totalObtained() i użyliśmy jego wartości do obliczenia procentu. 300 to całkowita liczba punktów dla studenta."
   ],
   "metadata": {
    "collapsed": false
   },
   "id": "857b75afd1b526e8"
  },
  {
   "cell_type": "markdown",
   "source": [
    "**Zadanie 3: Zaimplementuj klasę kalkulator**\n",
    "Treść zadania:\n",
    "Napisz klasę w języku Python o nazwie Calculator, wykonując poniższe zadania:\n",
    "\n",
    "Czynność 1:\n",
    "Inicjalizator\n",
    "Zaimplementuj inicjalizator, który zainicjuje wartości num1 i num2.\n",
    "\n",
    "Właściwości\n",
    "num1\n",
    "num2\n",
    "\n",
    "Czynność 2:\n",
    "Metody\n",
    "add() - metoda, która zwraca sumę num1 i num2.\n",
    "subtract() - metoda, która zwraca różnicę num1 od num2.\n",
    "multiply() - metoda, która zwraca iloczyn num1 i num2.\n",
    "divide() - metoda, która zwraca iloraz num2 przez num1.\n",
    "\n",
    "Wejście\n",
    "Przekazuj liczby (liczby całkowite lub zmiennoprzecinkowe) w inicjalizatorze.\n",
    "\n",
    "Wyjście\n",
    "dodawanie, odejmowanie, dzielenie i mnożenie\n",
    "\n",
    "Przykładowe dane wejściowe\n",
    "obj = Calculator(10, 94);\n",
    "obj.add()\n",
    "obj.subtract()\n",
    "obj.multiply()\n",
    "obj.divide()\n",
    "\n",
    "Przykładowy wynik\n",
    "104\n",
    "84\n",
    "940\n",
    "9.4"
   ],
   "metadata": {
    "collapsed": false
   },
   "id": "fa264032ecb1594f"
  },
  {
   "cell_type": "code",
   "execution_count": 3,
   "outputs": [
    {
     "name": "stdout",
     "output_type": "stream",
     "text": [
      "104\n",
      "84\n",
      "940\n",
      "9.4\n"
     ]
    }
   ],
   "source": [
    "class Calculator:\n",
    "    def __init__(self, num1, num2):\n",
    "        self.num1 = num1\n",
    "        self.num2 = num2\n",
    "\n",
    "    def add(self):\n",
    "        return self.num1 + self.num2\n",
    "\n",
    "    def subtract(self):\n",
    "        return self.num2 - self.num1\n",
    "\n",
    "    def multiply(self):\n",
    "        return self.num1 * self.num2\n",
    "\n",
    "    def divide(self):\n",
    "        return self.num2 / self.num1\n",
    "    \n",
    "    \n",
    "c1 = Calculator(10, 94)\n",
    "print(c1.add())\n",
    "print(c1.subtract())\n",
    "print(c1.multiply())\n",
    "print(c1.divide())"
   ],
   "metadata": {
    "collapsed": false,
    "ExecuteTime": {
     "end_time": "2024-03-05T12:49:30.105787200Z",
     "start_time": "2024-03-05T12:49:30.080344900Z"
    }
   },
   "id": "bb4538477736e246"
  },
  {
   "cell_type": "markdown",
   "source": [
    "**Wyjaśnienie:**\n",
    "Zaimplementowaliśmy klasę Calculator, która ma dwie właściwości, num1 i num2.\n",
    "\n",
    "W inicjalizatorze, w liniach 3 - 4, zainicjowaliśmy obie właściwości, num1 i num2.\n",
    "\n",
    "W linii 7 zaimplementowaliśmy add(), metodę, która zwraca sumę, num1 + num2, obu właściwości.\n",
    "\n",
    "W linii 10 zaimplementowaliśmy subtract(), metodę, która zwraca różnicę num1 od num2.\n",
    "\n",
    "W linii 13 zaimplementowaliśmy multiply(), metodę, która zwraca iloczyn, num2 × num1, obu właściwości.\n",
    "\n",
    "W linii 16 zaimplementowaliśmy divide(), metodę, która zwraca dzielenie num2 przez num1."
   ],
   "metadata": {
    "collapsed": false
   },
   "id": "bcb115539f7b7b27"
  },
  {
   "cell_type": "code",
   "execution_count": null,
   "outputs": [],
   "source": [],
   "metadata": {
    "collapsed": false
   },
   "id": "6e5d75a64e3c3fd"
  }
 ],
 "metadata": {
  "kernelspec": {
   "display_name": "Python 3",
   "language": "python",
   "name": "python3"
  },
  "language_info": {
   "codemirror_mode": {
    "name": "ipython",
    "version": 2
   },
   "file_extension": ".py",
   "mimetype": "text/x-python",
   "name": "python",
   "nbconvert_exporter": "python",
   "pygments_lexer": "ipython2",
   "version": "2.7.6"
  }
 },
 "nbformat": 4,
 "nbformat_minor": 5
}

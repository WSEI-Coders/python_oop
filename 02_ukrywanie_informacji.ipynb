{
 "cells": [
  {
   "cell_type": "markdown",
   "source": [
    "**Co to jest ukrywanie informacji?**\n",
    "\n",
    "*Wprowadzenie*\n",
    "W programowaniu obiektowym (OOP), obiekty i klasy są fundamentalnymi jednostkami. Obiekty są tworzone przy użyciu klas. Można zauważyć, że klasy zawierają właściwości, a obiekty są tworzone, aby manipulować i uzyskiwać dostęp do tych właściwości. Aby uczynić ten system obiektowy niezawodnym i wolnym od błędów, dobrym zwyczajem jest czasami ograniczanie dostępu do elementów klasy.\n",
    "\n",
    "Ukrywanie informacji odnosi się do koncepcji ukrywania wewnętrznych mechanizmów działania klasy i po prostu dostarczania interfejsu, za pomocą którego świat zewnętrzny może oddziaływać z klasą, nie wiedząc, co się dzieje wewnątrz.\n",
    "\n",
    "Celem jest implementacja klas w taki sposób, aby instancje (obiekty) tych klas nie mogły powodować żadnego nieautoryzowanego dostępu lub zmiany w oryginalnych zawartościach klasy. Jedna klasa nie musi nic wiedzieć o podstawowych algorytmach innej klasy. Jednakże dwie klasy mogą nadal komunikować się ze sobą.\n",
    "\n",
    "*Przykład z życia codziennego*\n",
    "Zastosujmy to do scenariusza z życia rzeczywistego. Weźmy model lekarz-pacjent. W przypadku choroby pacjent konsultuje się z lekarzem, po czym jest przepisany odpowiedni lek.\n",
    "\n",
    "Pacjent zna jedynie proces udania się do lekarza. Logika i rozumowanie lekarza za zaleceniem są nieznane dla pacjenta. Pacjent nie będzie rozumiał szczegółów medycznych, których lekarz używa, aby podjąć decyzję o leczeniu.\n",
    "\n",
    "To klasyczny przykład interakcji klasy pacjenta z klasą lekarza, nie znając wewnętrznych mechanizmów klasy lekarza.\n",
    "![](img/14a_lekarz.PNG)\n",
    "![](img/14b_lekarz.PNG)\n",
    "![](img/14c_lekarz.PNG)\n",
    "![](img/14d_lekarz.PNG)\n",
    "![](img/14e_lekarz.PNG)\n",
    "\n",
    "*Składniki ukrywania danych*\n",
    "Ukrywanie danych można podzielić na dwie podstawowe składniki:\n",
    "1. Enkapsulacja\n",
    "2. Abstrakcja\n",
    "\n",
    "![](img/15_ukrywanie_informacji.PNG)"
   ],
   "metadata": {
    "collapsed": false
   },
   "id": "cdec2f4c60efd50"
  },
  {
   "cell_type": "markdown",
   "source": [
    "**Enkapsulacja**\n",
    "\n",
    "*Ważna uwaga! Inne stosowane nazwy to: Hermetyzacja i Kapsułkowanie*\n",
    "\n",
    "*Definicja*\n",
    "Enkapsulacja jest podstawową techniką programowania wykorzystywaną do osiągnięcia ukrywania danych w programowaniu obiektowym.\n",
    "\n",
    "Enkapsulacja w programowaniu obiektowym odnosi się do wiązania danych i metod do manipulacji tymi danymi w jednostkę, która jest klasą.\n",
    "\n",
    "Na podstawie tej jednostki tworzone są obiekty. Enkapsulacja jest zazwyczaj stosowana w celu ukrycia stanu i reprezentacji obiektu na zewnątrz. Klasę można traktować jako kapsułę, która zawiera w sobie metody i właściwości.\n",
    "![](img/16_kapsułka.PNG)\n",
    "\n",
    "Podczas enkapsulacji klas dobrą praktyką jest deklarowanie wszystkich zmiennych klasy jako prywatne. Ograniczy to bezpośredni dostęp przez kod znajdujący się poza tą klasą.\n",
    "\n",
    "W tym momencie można zadać pytanie: Jeśli metody i zmienne są enkapsulowane w klasie, to jak można ich używać poza tą klasą?\n",
    "Odpowiedź na to pytanie jest prosta. Należy zaimplementować publiczne metody, aby umożliwić światu zewnętrznemu komunikację z tą klasą. Te metody nazywane są getterami i setterami. Możemy również zaimplementować inne niestandardowe metody.\n",
    "![](img/17_podstawy_kapsułkowania.PNG)\n",
    "\n",
    "*Zalety enkapsulacji:*\n",
    "1. Ułatwia zmianę i utrzymanie kodu: Enkapsulacja umożliwia grupowanie danych i metod manipulujących tymi danymi w jednej jednostce, co ułatwia zrozumienie, modyfikację i rozwijanie kodu. Ponieważ logika i dane są zgrupowane razem, zmiany w jednym miejscu mogą być łatwo wprowadzane bez konieczności zmiany wielu fragmentów kodu.\n",
    "\n",
    "2. Łatwe określenie właściwości do ukrycia: Enkapsulacja umożliwia wygodne określenie, które właściwości klasy mają być ukryte przed światem zewnętrznym. Dzięki temu można kontrolować, które dane są dostępne dla innych klas i funkcji, a które powinny pozostać prywatne i niedostępne.\n",
    "\n",
    "3. Decyzja, które zewnętrzne klasy lub funkcje mogą uzyskać dostęp do właściwości klasy: Enkapsulacja pozwala programiście kontrolować dostęp do danych poprzez określenie, które metody i funkcje są publiczne (dostępne dla innych klas) i które są prywatne (dostępne tylko w obrębie klasy). To daje większą kontrolę nad bezpieczeństwem i integralnością danych."
   ],
   "metadata": {
    "collapsed": false
   },
   "id": "34f395bf5ec169d"
  },
  {
   "cell_type": "markdown",
   "source": [
    "**Gettery i settery**\n",
    "\n",
    "*Pobierz i ustaw*\n",
    "Aby umożliwić kontrolowany dostęp do właściwości spoza klasy, używane są metody getter i setter.\n",
    "Metoda getter umożliwia odczyt wartości właściwości.\n",
    "Metoda setter umożliwia modyfikację wartości właściwości.\n",
    "Powszechną konwencją jest zapisywanie nazwy odpowiadających polom członkowskim z poleceniem get lub set.\n",
    "![](img/18_getter_setter.PNG)"
   ],
   "metadata": {
    "collapsed": false
   },
   "id": "15dcd851bb8ef509"
  },
  {
   "cell_type": "code",
   "execution_count": 1,
   "outputs": [
    {
     "name": "stdout",
     "output_type": "stream",
     "text": [
      "Before setting: steve1\n",
      "After setting: steve2\n"
     ]
    }
   ],
   "source": [
    "# Przykład\n",
    "class User:\n",
    "    def __init__(self, username=None):\n",
    "        self.__username = username\n",
    "\n",
    "    def setUsername(self, x):\n",
    "        self.__username = x\n",
    "\n",
    "    def getUsername(self):\n",
    "        return (self.__username)\n",
    "\n",
    "\n",
    "Steve = User('steve1')\n",
    "print('Before setting:', Steve.getUsername())\n",
    "Steve.setUsername('steve2')\n",
    "print('After setting:', Steve.getUsername())"
   ],
   "metadata": {
    "collapsed": false,
    "ExecuteTime": {
     "end_time": "2024-03-05T17:59:39.497858700Z",
     "start_time": "2024-03-05T17:59:39.488096400Z"
    }
   },
   "id": "7dc1b5720946017b"
  },
  {
   "cell_type": "markdown",
   "source": [
    "W powyższej klasie, User, zdefiniowaliśmy prywatną właściwość o nazwie __username, do której główny kod nie może uzyskać dostępu. Zauważ również, że zaczęliśmy nazwę tej prywatnej właściwości od __.\n",
    "\n",
    "Aby ta właściwość mogła komunikować się z jakimkolwiek zewnętrznym środowiskiem, musimy użyć funkcji get i set. Funkcja get, getUsername(), zwraca wartość __username, a setUsername(x) ustawia wartość __username na wartość parametru x przekazanego."
   ],
   "metadata": {
    "collapsed": false
   },
   "id": "9b4b219eb5ee0927"
  },
  {
   "cell_type": "markdown",
   "source": [
    "**Zrozumienie enkapsulacji na przykładach**\n",
    "Enkapsulacja odnosi się do koncepcji wiązania danych i metod operujących na tych danych w jednostce, która jest również nazywana klasą.\n",
    "\n",
    "Celem jest zapobieżenie dostępowi do tych powiązanych danych z kodu znajdującego się poza tą klasą. Zrozumiejmy to na przykładzie bardzo podstawowej klasy użytkownika.\n",
    "\n",
    "Załóżmy, że projektujemy aplikację i pracujemy nad modelowaniem części logowania tej aplikacji. Wiemy, że użytkownik potrzebuje nazwy użytkownika i hasła, aby zalogować się do aplikacji.\n",
    "\n",
    "Elementarna klasa User będzie modelowana jako:\n",
    "- Posiadanie właściwości userName\n",
    "- Posiadanie właściwości hasła\n",
    "- Metoda o nazwie login() w celu udzielenia dostępu\n",
    "\n",
    "Zawsze, gdy pojawia się nowy użytkownik, można utworzyć nowy obiekt, przekazując nazwę użytkownika i hasło do konstruktora tej klasy.\n",
    "![](img/19_enkapsulacja_klasa_user.PNG)\n",
    "\n",
    "Teraz nadszedł czas, aby zaimplementować omawianą powyżej klasę User (zła praktyka programistyczna)."
   ],
   "metadata": {
    "collapsed": false
   },
   "id": "35d7de22c7ac3ff0"
  },
  {
   "cell_type": "code",
   "execution_count": 2,
   "outputs": [
    {
     "name": "stdout",
     "output_type": "stream",
     "text": [
      "Access Granted!\n",
      "Invalid Credentials!\n",
      "Access Granted!\n"
     ]
    }
   ],
   "source": [
    "# Kod powyższej ilustracji podano poniżej:\n",
    "class User:\n",
    "    def __init__(self, userName=None, password=None):\n",
    "        self.userName = userName\n",
    "        self.password = password\n",
    "\n",
    "    def login(self, userName, password):\n",
    "        if ((self.userName.lower() == userName.lower())\n",
    "                and (self.password == password)):\n",
    "            print(\"Access Granted!\")\n",
    "        else:\n",
    "            print(\"Invalid Credentials!\")\n",
    "\n",
    "\n",
    "Steve = User(\"Steve\", \"12345\")\n",
    "Steve.login(\"steve\", \"12345\")\n",
    "Steve.login(\"steve\", \"6789\")\n",
    "Steve.password = \"6789\"\n",
    "Steve.login(\"steve\", \"6789\")"
   ],
   "metadata": {
    "collapsed": false,
    "ExecuteTime": {
     "end_time": "2024-03-05T18:04:57.879828900Z",
     "start_time": "2024-03-05T18:04:57.861878500Z"
    }
   },
   "id": "1a1b66e1045fc130"
  },
  {
   "cell_type": "markdown",
   "source": [
    "W powyższym przykładzie kodowania możemy zauważyć, że każdy może bezpośrednio uzyskać dostęp, zmienić lub wydrukować pola password i userName z głównego kodu. Jest to niebezpieczne w przypadku tej klasy User, ponieważ nie ma enkapsulacji danych uwierzytelniających użytkownika, co oznacza, że każdy może uzyskać dostęp do ich konta, manipulując przechowywanymi danymi. Dlatego powyższy kod nie stosuje dobrych praktyk programistycznych.\n",
    "\n",
    "Przejdźmy teraz do lepszej implementacji klasy User.\n",
    "![](img/20_lepszy_user.PNG)\n",
    "\n",
    "W poniższym kodzie zostanie zgłoszony błąd AttributeError, ponieważ kod poza klasą User próbował uzyskać dostęp do prywatnej właściwości."
   ],
   "metadata": {
    "collapsed": false
   },
   "id": "b2ce978a70d70a5"
  },
  {
   "cell_type": "code",
   "execution_count": 3,
   "outputs": [
    {
     "name": "stdout",
     "output_type": "stream",
     "text": [
      "Access Granted against username: steve and password: 12345\n",
      "Invalid Credentials!\n"
     ]
    },
    {
     "ename": "AttributeError",
     "evalue": "'User' object has no attribute '__password'",
     "output_type": "error",
     "traceback": [
      "\u001B[1;31m---------------------------------------------------------------------------\u001B[0m",
      "\u001B[1;31mAttributeError\u001B[0m                            Traceback (most recent call last)",
      "Cell \u001B[1;32mIn[3], line 24\u001B[0m\n\u001B[0;32m     22\u001B[0m \u001B[38;5;66;03m# does not grant access since the credentails are invalid\u001B[39;00m\n\u001B[0;32m     23\u001B[0m Steve\u001B[38;5;241m.\u001B[39mlogin(\u001B[38;5;124m\"\u001B[39m\u001B[38;5;124msteve\u001B[39m\u001B[38;5;124m\"\u001B[39m, \u001B[38;5;124m\"\u001B[39m\u001B[38;5;124m6789\u001B[39m\u001B[38;5;124m\"\u001B[39m)\n\u001B[1;32m---> 24\u001B[0m Steve\u001B[38;5;241m.\u001B[39m__password\n",
      "\u001B[1;31mAttributeError\u001B[0m: 'User' object has no attribute '__password'"
     ]
    }
   ],
   "source": [
    "class User:\n",
    "    def __init__(self, userName=None, password=None):\n",
    "        self.__userName = userName\n",
    "        self.__password = password\n",
    "\n",
    "    def login(self, userName, password):\n",
    "        if ((self.__userName.lower() == userName.lower())\n",
    "                and (self.__password == password)):\n",
    "            print(\n",
    "                \"Access Granted against username:\",\n",
    "                self.__userName.lower(),\n",
    "                \"and password:\",\n",
    "                self.__password)\n",
    "        else:\n",
    "            print(\"Invalid Credentials!\")\n",
    "\n",
    "\n",
    "# created a new User object and stored the password and username\n",
    "Steve = User(\"Steve\", \"12345\")\n",
    "Steve.login(\"steve\", \"12345\")  # Grants access because credentials are valid\n",
    "\n",
    "# does not grant access since the credentails are invalid\n",
    "Steve.login(\"steve\", \"6789\")\n",
    "Steve.__password  # compilation error will occur due to this line"
   ],
   "metadata": {
    "collapsed": false,
    "ExecuteTime": {
     "end_time": "2024-03-05T18:11:02.337999800Z",
     "start_time": "2024-03-05T18:11:01.847408100Z"
    }
   },
   "id": "71e69321aaae40b5"
  },
  {
   "cell_type": "markdown",
   "source": [
    "W powyższym przykładzie pola __userName i __password są deklarowane jako prywatne za pomocą przedrostka __.\n",
    "\n",
    "Możemy zauważyć, że nikt nie może uzyskać dostępu, zmienić ani wydrukować pól __password i __userName bezpośrednio z głównego kodu. Jest to właściwa implementacja enkapsulacji.\n",
    "\n",
    "Uwaga: Aby hermetyzować klasę, wszystkie właściwości powinny być prywatne, a dostęp do nich powinien odbywać się za pomocą metod, takich jak gettery i settery.\n",
    "\n",
    "To jest właśnie koncepcja hermetyzacji. Wszystkie właściwości zawierające dane są prywatne, a metody dostarczają interfejs do dostępu do tych prywatnych właściwości."
   ],
   "metadata": {
    "collapsed": false
   },
   "id": "cf8571e0e381806a"
  },
  {
   "cell_type": "code",
   "execution_count": null,
   "outputs": [],
   "source": [],
   "metadata": {
    "collapsed": false
   },
   "id": "43ccd6f04e6f49da"
  }
 ],
 "metadata": {
  "kernelspec": {
   "display_name": "Python 3",
   "language": "python",
   "name": "python3"
  },
  "language_info": {
   "codemirror_mode": {
    "name": "ipython",
    "version": 2
   },
   "file_extension": ".py",
   "mimetype": "text/x-python",
   "name": "python",
   "nbconvert_exporter": "python",
   "pygments_lexer": "ipython2",
   "version": "2.7.6"
  }
 },
 "nbformat": 4,
 "nbformat_minor": 5
}

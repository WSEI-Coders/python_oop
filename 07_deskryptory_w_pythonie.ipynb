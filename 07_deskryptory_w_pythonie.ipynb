{
 "cells": [
  {
   "cell_type": "markdown",
   "source": [
    "**Przegląd deskryptorów**\n",
    "Deskryptory zostały wprowadzone do języka Python w wersji 2.2. Umożliwiają deweloperom dodawanie zarządzanych atrybutów do obiektów. Metody potrzebne do utworzenia deskryptora to __get__, __set__ i __delete__. Zdefiniowanie dowolnej z tych metod oznacza utworzenie deskryptora.\n",
    "\n",
    "Idea deskryptora polega na pobieraniu, ustawianiu lub usuwaniu atrybutów ze słownika naszego obiektu. Kiedy uzyskujemy dostęp do atrybutu klasy, rozpoczyna się łańcuch wyszukiwania. Jeśli uzyskana wartość jest obiektem z jedną ze zdefiniowanych metod deskryptora, to ta metoda deskryptora zostanie wywołana.\n",
    "\n",
    "Deskryptory odpowiadają za wiele magicznych aspektów wewnętrznego działania Pythona. To dzięki nim działają właściwości, metody, a nawet funkcja super. Deskryptory są również wykorzystywane do implementacji klas w nowym stylu, które również zostały wprowadzone w Pythonie 2.2.\n",
    "\n",
    "**Protokół deskryptorów w Pythonie**\n",
    "Protokół tworzenia deskryptora jest naprawdę prosty. Wystarczy zdefiniować jedną lub więcej z następujących metod:\n",
    "- __get__ (self, obj, type=None): zwraca wartość atrybutu\n",
    "- __set__ (self, obj, value): zwraca None (ustawia wartość atrybutu)\n",
    "- __delete__ (self, obj): zwraca None (usuwa atrybut)\n",
    "\n",
    "Zdefiniowanie co najmniej jednej z tych metod oznacza utworzenie deskryptora.\n",
    "\n",
    "Jeśli uda nam się zdefiniować zarówno __get__, jak i __set__, utworzymy deskryptor danych (data descriptor). Deskryptor posiadający tylko zdefiniowaną metodę __get__ nazywany jest deskryptorem bez danych (non-data descriptor) i zwykle jest używany do metod. Powodem tego rozróżnienia typów deskryptorów jest to, że jeśli słownik instancji posiada deskryptor danych, to deskryptor ten będzie miał pierwszeństwo podczas wyszukiwania. Natomiast jeśli słownik instancji posiada wpis odpowiadający deskryptorowi bez danych, to pierwszeństwo będzie miał wpis słownika, a nie deskryptor.\n",
    "\n",
    "Możemy również utworzyć deskryptor tylko do odczytu, jeśli zdefiniujemy zarówno __get__, jak i __set__, ale wywołamy wyjątek AttributeError w momencie wywołania metody __set__.\n",
    "\n",
    "**Jak wywoływane są deskryptory**\n",
    "Najczęstszym sposobem wywołania deskryptora jest automatyczne jego uruchomienie podczas uzyskiwania dostępu do atrybutu. Typowy przykład to moj_obiekt.nazwa_atrybutu. Spowoduje to, że nasz obiekt będzie szukał nazwa_atrybutu w obiekcie moj_obiekt. Jeśli nazwa_atrybutu posiada zdefiniowaną metodę __get__(), zostanie wywołana nazwa_atrybutu.__get__(moj_obiekt). Wszystko to zależy od tego, czy nasza instancja jest obiektem, czy klasą.\n",
    "\n",
    "Magia za tym kryje się w magicznej metodzie __getattribute__, która zamieni moj_obiekt.a na: type(moj_obiekt).__dict__['a'].__get__(a, type(a)). Więcej na temat implementacji można przeczytać w dokumentacji języka Python.\n",
    "\n",
    "Zgodnie z dokumentacją, należy pamiętać o kilku kwestiach dotyczących wywoływania deskryptorów:\n",
    "- Deskryptor jest wywoływany za pomocą domyślnej implementacji metody __getattribute__.\n",
    "- Jeśli przesłonimy __getattribute__, uniemożliwi to automatyczne wywołanie deskryptora.\n",
    "- object.__getattribute__() i type.__getattribute__() nie wywołują __get__() w ten sam sposób.\n",
    "- Deskryptor danych zawsze, ZAWSZE będzie miał pierwszeństwo przed słownikiem instancji.\n",
    "- Deskryptor bez danych może zostać nadpisany przez słownik instancji."
   ],
   "metadata": {
    "collapsed": false
   },
   "id": "f6fabb373e57892d"
  },
  {
   "cell_type": "markdown",
   "source": [
    "**Przykłady Deskryptorów**\n",
    "W tym momencie możemy być zdezorientowani, do czego w ogóle służą deskryptory. Podczas nauki nowych zagadnień zawsze przydatne są przykłady, które pokazują działanie w praktyce. Dlatego w tej lekcji przyjrzymy się kilku przykładom, abyśmy wiedzieli, jak wykorzystywać deskryptory we własnym kodzie!\n",
    "\n",
    "**Prosty przykład deskryptora danych**\n",
    "Zacznijmy od napisania naprawdę prostego deskryptora danych, a następnie wykorzystania go w klasie. Poniższy przykład opiera się na dokumentacji języka Python:"
   ],
   "metadata": {
    "collapsed": false
   },
   "id": "552594a143e52c90"
  },
  {
   "cell_type": "code",
   "execution_count": 1,
   "outputs": [
    {
     "name": "stdout",
     "output_type": "stream",
     "text": [
      "Getting desc\n",
      "Mike\n",
      "10\n",
      "Setting desc to 100\n",
      "Getting desc\n",
      "100\n"
     ]
    }
   ],
   "source": [
    "class MyDescriptor():\n",
    "    \"\"\"\n",
    "    A simple demo descriptor\n",
    "    \"\"\"\n",
    "    def __init__(self, initial_value=None, name='my_var'):\n",
    "        self.var_name = name\n",
    "        self.value = initial_value\n",
    "\n",
    "    def __get__(self, obj, objtype):\n",
    "        print('Getting', self.var_name)\n",
    "        return self.value\n",
    "\n",
    "    def __set__(self, obj, value):\n",
    "        msg = 'Setting {name} to {value}'\n",
    "        print(msg.format(name=self.var_name, value=value))\n",
    "        self.value = value\n",
    "\n",
    "class MyClass():\n",
    "    desc = MyDescriptor(initial_value='Mike', name='desc')\n",
    "    normal = 10\n",
    "\n",
    "if __name__ == '__main__':\n",
    "    c = MyClass()\n",
    "    print(c.desc)\n",
    "    print(c.normal)\n",
    "    c.desc = 100\n",
    "    print(c.desc)"
   ],
   "metadata": {
    "collapsed": false,
    "ExecuteTime": {
     "end_time": "2024-03-08T20:27:11.670009700Z",
     "start_time": "2024-03-08T20:27:11.661435100Z"
    }
   },
   "id": "898461dd3f4bbba8"
  },
  {
   "cell_type": "markdown",
   "source": [
    "Tutaj tworzymy klasę i definiujemy trzy magiczne metody:\n",
    "- __init__: nasz konstruktor, który przyjmuje wartość i nazwę naszej zmiennej (linie 5-7)\n",
    "- __get__: wypisuje bieżącą nazwę zmiennej i zwraca wartość (linie 9-11)\n",
    "- __set__: wypisuje nazwę naszej zmiennej i wartość, którą właśnie przypisaliśmy, a następnie ustawia samą wartość (linie 13-16)\n",
    "\n",
    "Następnie tworzymy klasę, która tworzy instancję naszego deskryptora jako atrybut klasy, a także tworzy zwykły atrybut klasy (linie 18-20). Następnie uruchamiamy kilka \"testów\", tworząc instancję naszej normalnej klasy i uzyskując dostęp do atrybutów klasy.\n",
    "\n",
    "Jak widać, gdy uzyskujemy dostęp do c.desc, wypisuje się komunikat \"Pobieranie\" i drukujemy to, co zwraca, czyli \"Mike\". Następnie drukujemy wartość zwykłego atrybutu klasy. Na koniec zmieniamy wartość zmiennej deskryptora, co powoduje wydrukowanie komunikatu \"Ustawianie\". Sprawdzamy również dwukrotnie bieżącą wartość, aby upewnić się, że została faktycznie ustawiona, dlatego widzimy ten ostatni komunikat \"Pobieranie\".\n",
    "\n",
    "Python używa deskryptorów wewnętrznie do tworzenia właściwości, metod związanych/niezwiązanych i metod klasowych. Jeśli zajrzymy do dokumentacji klasy property w dokumentacji języka Python, zobaczymy, że ściśle przestrzega ona protokołu deskryptorów:\n",
    "\n",
    "```\n",
    "property(fget=None, fset=None, fdel=None, doc=None)\n",
    "```\n",
    "\n",
    "Powyższe wyraźnie pokazuje, że klasa property posiada metodę pobierającą, ustawiającą i usuwającą."
   ],
   "metadata": {
    "collapsed": false
   },
   "id": "904aee24bb2e7adc"
  },
  {
   "cell_type": "markdown",
   "source": [
    "**Walidacja przy użyciu deskryptora**\n",
    "Spójrzmy na kolejny przykład, w którym wykorzystamy deskryptor do walidacji:"
   ],
   "metadata": {
    "collapsed": false
   },
   "id": "7853445bda25e0ff"
  },
  {
   "cell_type": "code",
   "execution_count": 2,
   "outputs": [
    {
     "name": "stdout",
     "output_type": "stream",
     "text": [
      "Miguel can legally drink in the USA\n"
     ]
    },
    {
     "ename": "Exception",
     "evalue": "Niki is too young to legally imbibe",
     "output_type": "error",
     "traceback": [
      "\u001B[1;31m---------------------------------------------------------------------------\u001B[0m",
      "\u001B[1;31mException\u001B[0m                                 Traceback (most recent call last)",
      "Cell \u001B[1;32mIn[2], line 32\u001B[0m\n\u001B[0;32m     28\u001B[0m         \u001B[38;5;28mself\u001B[39m\u001B[38;5;241m.\u001B[39mdrinker_age \u001B[38;5;241m=\u001B[39m age\n\u001B[0;32m     31\u001B[0m p \u001B[38;5;241m=\u001B[39m Person(\u001B[38;5;124m'\u001B[39m\u001B[38;5;124mMiguel\u001B[39m\u001B[38;5;124m'\u001B[39m, \u001B[38;5;241m30\u001B[39m)\n\u001B[1;32m---> 32\u001B[0m p \u001B[38;5;241m=\u001B[39m Person(\u001B[38;5;124m'\u001B[39m\u001B[38;5;124mNiki\u001B[39m\u001B[38;5;124m'\u001B[39m, \u001B[38;5;241m13\u001B[39m)\n",
      "Cell \u001B[1;32mIn[2], line 28\u001B[0m, in \u001B[0;36mPerson.__init__\u001B[1;34m(self, name, age)\u001B[0m\n\u001B[0;32m     26\u001B[0m \u001B[38;5;28;01mdef\u001B[39;00m \u001B[38;5;21m__init__\u001B[39m(\u001B[38;5;28mself\u001B[39m, name, age):\n\u001B[0;32m     27\u001B[0m     \u001B[38;5;28mself\u001B[39m\u001B[38;5;241m.\u001B[39mname \u001B[38;5;241m=\u001B[39m name\n\u001B[1;32m---> 28\u001B[0m     \u001B[38;5;28mself\u001B[39m\u001B[38;5;241m.\u001B[39mdrinker_age \u001B[38;5;241m=\u001B[39m age\n",
      "Cell \u001B[1;32mIn[2], line 14\u001B[0m, in \u001B[0;36mDrinker.__set__\u001B[1;34m(self, instance, new_age)\u001B[0m\n\u001B[0;32m     12\u001B[0m \u001B[38;5;28;01mif\u001B[39;00m new_age \u001B[38;5;241m<\u001B[39m \u001B[38;5;241m21\u001B[39m:\n\u001B[0;32m     13\u001B[0m     msg \u001B[38;5;241m=\u001B[39m \u001B[38;5;124m'\u001B[39m\u001B[38;5;132;01m{name}\u001B[39;00m\u001B[38;5;124m is too young to legally imbibe\u001B[39m\u001B[38;5;124m'\u001B[39m\n\u001B[1;32m---> 14\u001B[0m     \u001B[38;5;28;01mraise\u001B[39;00m \u001B[38;5;167;01mException\u001B[39;00m(msg\u001B[38;5;241m.\u001B[39mformat(name\u001B[38;5;241m=\u001B[39minstance\u001B[38;5;241m.\u001B[39mname))\n\u001B[0;32m     15\u001B[0m \u001B[38;5;28mself\u001B[39m\u001B[38;5;241m.\u001B[39mage[instance] \u001B[38;5;241m=\u001B[39m new_age\n\u001B[0;32m     16\u001B[0m \u001B[38;5;28mprint\u001B[39m(\u001B[38;5;124m'\u001B[39m\u001B[38;5;132;01m{name}\u001B[39;00m\u001B[38;5;124m can legally drink in the USA\u001B[39m\u001B[38;5;124m'\u001B[39m\u001B[38;5;241m.\u001B[39mformat(\n\u001B[0;32m     17\u001B[0m     name\u001B[38;5;241m=\u001B[39minstance\u001B[38;5;241m.\u001B[39mname))\n",
      "\u001B[1;31mException\u001B[0m: Niki is too young to legally imbibe"
     ]
    }
   ],
   "source": [
    "from weakref import WeakKeyDictionary\n",
    "\n",
    "class Drinker:\n",
    "    def __init__(self):\n",
    "        self.req_age = 21\n",
    "        self.age = WeakKeyDictionary()\n",
    "\n",
    "    def __get__(self, instance_obj, objtype):\n",
    "        return self.age.get(instance_obj, self.req_age)\n",
    "\n",
    "    def __set__(self, instance, new_age):\n",
    "        if new_age < 21:\n",
    "            msg = '{name} is too young to legally imbibe'\n",
    "            raise Exception(msg.format(name=instance.name))\n",
    "        self.age[instance] = new_age\n",
    "        print('{name} can legally drink in the USA'.format(\n",
    "            name=instance.name))\n",
    "\n",
    "    def __delete__(self, instance):\n",
    "        del self.age[instance]\n",
    "\n",
    "\n",
    "class Person:\n",
    "    drinker_age = Drinker()\n",
    "\n",
    "    def __init__(self, name, age):\n",
    "        self.name = name\n",
    "        self.drinker_age = age\n",
    "\n",
    "\n",
    "p = Person('Miguel', 30)\n",
    "p = Person('Niki', 13)"
   ],
   "metadata": {
    "collapsed": false,
    "ExecuteTime": {
     "end_time": "2024-03-08T20:33:09.299166700Z",
     "start_time": "2024-03-08T20:33:08.804518Z"
    }
   },
   "id": "a8b917a89058bba"
  },
  {
   "cell_type": "markdown",
   "source": [
    "Tworzymy ponownie klasę deskryptora. W tym przypadku korzystamy z biblioteki weakref Pythona, a konkretnie z klasy WeakKeyDictionary. Jest to sprytna klasa, która tworzy słownik mapujący klucze słabo (weakly). Oznacza to, że gdy w słowniku nie ma silnych odwołań do klucza, to klucz i jego wartość zostaną odrzucone. W tym przykładzie wykorzystujemy to, aby zapobiec wiszeniu w pamięci instancji klasy Person w nieskończoność.\n",
    "\n",
    "Jednak najważniejsza część deskryptora znajduje się w metodzie __set__. Tutaj sprawdzamy, czy parametr wiek instancji jest większy niż 21 lat, co jest wymagane w USA do spożywania napojów alkoholowych. Jeśli nasz wiek jest niższy, zostanie zgłoszony wyjątek. W przeciwnym razie zostanie wydrukowane imię osoby i komunikat. Aby przetestować nasz deskryptor, tworzymy dwie instancje, jedną z wiekiem powyżej 21 lat, a drugą z wiekiem poniżej.\n",
    "\n",
    "Oczywiście wszystko działało tak, jak powinno, ale nie jest do końca jasne, jak to działa. Dzieje się tak, ponieważ gdy ustawiamy wartość drinker_age, Python zauważa, że jest to deskryptor. Python wie, że drinker_age jest deskryptorem, ponieważ zdefiniowaliśmy go jako atrybut klasy:\n",
    "\n",
    "```\n",
    "drinker_age = Drinker()\n",
    "```\n",
    "\n",
    "Tak więc, gdy ustawiamy wartość, wywołujemy faktycznie metodę __set__ naszego deskryptora, która przekazuje instancję i wiek, który próbujemy ustawić. Jeśli wiek jest mniejszy niż 21, zgłaszamy wyjątek z własną wiadomością. W przeciwnym razie wypisujemy komunikat, że jesteśmy wystarczająco dorośli.\n",
    "\n",
    "Wracając do tego, jak to wszystko działa, jeśli spróbujemy wydrukować drinker_age, Python wykona Person.drinker_age.__get__. Ponieważ drinker_age jest deskryptorem, to jego metoda __get__ jest faktycznie wywoływana.\n",
    "\n",
    "Jeśli chcielibyśmy ustawić wartość drinker_age, zrobilibyśmy to tak:\n",
    "\n",
    "```\n",
    "p.drinker_age = 32\n",
    "```\n",
    "\n",
    "Wtedy Python wywołałby Person.drinker_age.__set__, a ponieważ ta metoda jest również zaimplementowana w naszym deskryptorze, to właśnie metoda deskryptora zostanie wywołana. Po kilkukrotnym prześledzeniu kodu szybko zrozumiemy, jak to wszystko działa.\n",
    "\n",
    "Najważniejszą rzeczą do zapamiętania jest to, że deskryptory są powiązane z klasami, a nie z instancjami."
   ],
   "metadata": {
    "collapsed": false
   },
   "id": "c79d7ac3e8192ce8"
  },
  {
   "cell_type": "code",
   "execution_count": null,
   "outputs": [],
   "source": [],
   "metadata": {
    "collapsed": false
   },
   "id": "614d7a309b7206d1"
  }
 ],
 "metadata": {
  "kernelspec": {
   "display_name": "Python 3",
   "language": "python",
   "name": "python3"
  },
  "language_info": {
   "codemirror_mode": {
    "name": "ipython",
    "version": 2
   },
   "file_extension": ".py",
   "mimetype": "text/x-python",
   "name": "python",
   "nbconvert_exporter": "python",
   "pygments_lexer": "ipython2",
   "version": "2.7.6"
  }
 },
 "nbformat": 4,
 "nbformat_minor": 5
}

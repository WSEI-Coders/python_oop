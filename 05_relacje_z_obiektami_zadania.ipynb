{
 "cells": [
  {
   "cell_type": "markdown",
   "source": [
    "**Zadanie 1: Samochody i silniki!**\n",
    "Musisz zaimplementować klasę Sedan, która dziedziczy po klasie Car i zawiera obiekt SedanEngine.\n",
    "\n",
    "Uwaga: W takiej relacji kompozycji klasa Sedan będzie odpowiedzialna za czas życia obiektu SedanEngine.\n",
    "\n",
    "Rozważ ten diagram dla odniesienia:\n",
    "![](img/42_relacje_między_obiektami_zadanie1.PNG)\n",
    "\n",
    "Czynność 1\n",
    "Konstruktor klasy Car powinien przyjmować argumenty w kolejności Car(model, kolor).\n",
    "Klasa Car powinna mieć dwie właściwości:\n",
    "model\n",
    "kolor\n",
    "Klasa Car powinna mieć jedną metodę:\n",
    "printDetails(), która będzie drukować model i kolor obiektu Car.\n",
    "\n",
    "Czynność 2\n",
    "Klasa SedanEngine będzie miała dwie metody:\n",
    "start(), która będzie drukować:\n",
    "Samochód został uruchomiony.\n",
    "stop(), która będzie drukować:\n",
    "Samochód został zatrzymany.\n",
    "\n",
    "Czynność 3\n",
    "Konstruktor klasy Sedan powinien przyjmować argumenty w kolejności Sedan(model, kolor).\n",
    "Klasa Sedan będzie miała jedną właściwość:\n",
    "engine, która jest obiektem klasy SedanEngine i powinna zostać utworzona podczas inicjalizacji obiektu.\n",
    "\n",
    "Klasa Sedan będzie miała dwie metody:\n",
    "setStart(), która wywoła metodę start() klasy SedanEngine.\n",
    "setStop(), która wywoła metodę stop() klasy SedanEngine.\n",
    "\n",
    "Przykładowe dane wejściowe\n",
    "car1 = Sedan(\"Toyota\", \"Szary\")\n",
    "car1.setStart()\n",
    "car1.printDetails()\n",
    "car1.setStop()\n",
    "\n",
    "Przykładowe dane wyjściowe\n",
    "Po zaimplementowaniu Twoich klas, poniższy kod powinien wygenerować następujący wynik:\n",
    "Car has started.\n",
    "Model: Toyota\n",
    "Color: Grey\n",
    "Car has stopped."
   ],
   "metadata": {
    "collapsed": false
   },
   "id": "a66838e935f86fa7"
  },
  {
   "cell_type": "code",
   "execution_count": 1,
   "outputs": [
    {
     "name": "stdout",
     "output_type": "stream",
     "text": [
      "Car has started.\n",
      "Model: Toyota\n",
      "Color: Grey\n",
      "Car has stopped.\n"
     ]
    }
   ],
   "source": [
    "class Car:\n",
    "    def __init__(self, model, color):\n",
    "        self.model = model\n",
    "        self.color = color\n",
    "\n",
    "    def printDetails(self):\n",
    "        print(\"Model:\", self.model)\n",
    "        print(\"Color:\", self.color)\n",
    "\n",
    "\n",
    "class SedanEngine:\n",
    "    def start(self):\n",
    "        print(\"Car has started.\")\n",
    "\n",
    "    def stop(self):\n",
    "        print(\"Car has stopped.\")\n",
    "\n",
    "\n",
    "class Sedan(Car):\n",
    "    def __init__(self, model, color):\n",
    "        super().__init__(model, color)\n",
    "        self.engine = SedanEngine()\n",
    "\n",
    "    def setStart(self):\n",
    "        self.engine.start()\n",
    "\n",
    "    def setStop(self):\n",
    "        self.engine.stop()\n",
    "\n",
    "\n",
    "car1 = Sedan(\"Toyota\", \"Grey\")\n",
    "car1.setStart()\n",
    "car1.printDetails()\n",
    "car1.setStop()"
   ],
   "metadata": {
    "collapsed": false,
    "ExecuteTime": {
     "end_time": "2024-03-06T18:11:15.312854Z",
     "start_time": "2024-03-06T18:11:15.305168300Z"
    }
   },
   "id": "1ff005411da5d9d6"
  },
  {
   "cell_type": "markdown",
   "source": [
    "**Wyjaśnienie**\n",
    "Linie 2–4: Zainicjowane właściwości samochodu.\n",
    "\n",
    "Linie 6–8: Metoda printDetails() drukuje właściwości samochodu.\n",
    "\n",
    "Linie 12–16: Zdefiniowane funkcje start() i stop() z odpowiednimi wynikami.\n",
    "\n",
    "Linie 20–22: Zdefiniowany konstruktor dla klasy Sedan, który odnosi się również do konstruktora klasy nadrzędnej za pomocą super().\n",
    "\n",
    "Utworzony obiekt SedanEngine i przypisano go do właściwości engine obiektu Sedan.\n",
    "\n",
    "Linie 24–25: Wywołana metoda start() obiektu SedanEngine, aby uruchomić samochód.\n",
    "\n",
    "Linie 27–28: Wywołana metoda stop() obiektu SedanEngine, aby zatrzymać samochód."
   ],
   "metadata": {
    "collapsed": false
   },
   "id": "3944d64b9f0ca112"
  },
  {
   "cell_type": "markdown",
   "source": [
    "**Zadanie 2: Implementacja drużyny sportowej!**\n",
    "*Uwaga! To zadanie jest dość skomplikowane. W razie problemów możemy je omówić!*\n",
    "Opis problemu\n",
    "Musisz zaimplementować 3 klasy: School (Szkoła), Team (Drużyna) i Player (Gracz), tak aby instancja Szkoły zawierała instancje obiektów klasy Drużyna. Podobnie, obiekt klasy Drużyna może zawierać instancje klasy Gracz.\n",
    "\n",
    "Rozważ ten diagram dla lepszego zrozumienia:\n",
    "![](img/43_relacje_między_obiektami_zadanie2.PNG)\n",
    "\n",
    "Musisz zaimplementować klasę School zawierającą listę obiektów klasy Team oraz klasę Team, która będzie zawierała listę obiektów klasy Player.\n",
    "\n",
    "Czynność 1\n",
    "Klasa Player powinna mieć trzy właściwości ustawiane za pomocą konstruktora:\n",
    "ID\n",
    "name\n",
    "teamName\n",
    "\n",
    "Czynność 2\n",
    "Klasa Team będzie miała dwie właściwości ustawiane za pomocą konstruktora:\n",
    "name\n",
    "players: lista z obiektami klasy Player\n",
    "Będzie posiadać dwie metody:\n",
    "addPlayer(), która będzie dodawała nowe obiekty klasy Player do listy players\n",
    "getNumberOfPlayers(), która zwróci całkowitą liczbę graczy na liście players\n",
    "\n",
    "Czynność 3\n",
    "Klasa School będzie zawierała dwie właściwości ustawiane za pomocą konstruktora:\n",
    "teams: lista obiektów klasy Team\n",
    "name\n",
    "Będzie posiadała dwie metody:\n",
    "addTeam(), która będzie dodawała nowe obiekty klasy Team do listy teams\n",
    "getTotalPlayersInSchool(), która policzy wszystkich graczy we wszystkich drużynach w Szkole i zwróci ich liczbę\n",
    "\n",
    "Więc twoja szkoła powinna mieć tych graczy w ich odpowiednich drużynach:\n",
    "<table border=\"1\">\n",
    "  <tr>\n",
    "    <th>ID graczy</th>\n",
    "    <th>Nazwy graczy</th>\n",
    "    <th>Drużyny</th>\n",
    "  </tr>\n",
    "  <tr>\n",
    "    <td>1</td>\n",
    "    <td>Harris</td>\n",
    "    <td>Czerwona</td>\n",
    "  </tr>\n",
    "  <tr>\n",
    "    <td>2</td>\n",
    "    <td>Carol</td>\n",
    "    <td>Czerwona</td>\n",
    "  </tr>\n",
    "  <tr>\n",
    "    <td>1</td>\n",
    "    <td>Johnny</td>\n",
    "    <td>Niebieska</td>\n",
    "  </tr>\n",
    "  <tr>\n",
    "    <td>2</td>\n",
    "    <td>Sarah</td>\n",
    "    <td>Niebieska</td>\n",
    "  </tr>\n",
    "</table>\n"
   ],
   "metadata": {
    "collapsed": false
   },
   "id": "19a457683f221a91"
  },
  {
   "cell_type": "code",
   "execution_count": 2,
   "outputs": [
    {
     "name": "stdout",
     "output_type": "stream",
     "text": [
      "Total players in mySchool: 4\n"
     ]
    }
   ],
   "source": [
    "# Player class\n",
    "class Player:\n",
    "    def __init__(self, id, name, teamName):\n",
    "        self.id = id\n",
    "        self.name = name\n",
    "        self.teamName = teamName\n",
    "\n",
    "\n",
    "# Team class contains a list of Player\n",
    "# Objects\n",
    "class Team:\n",
    "    def __init__(self, name):\n",
    "        self.players = []\n",
    "        self.name = name\n",
    "        \n",
    "    def addPlayer(self, p):\n",
    "        self.players.append(p)\n",
    "        \n",
    "    def getNumberOfPlayers(self):\n",
    "        return len(self.players)\n",
    "\n",
    "\n",
    "# School class contains a list of Team\n",
    "# objects.\n",
    "class School:\n",
    "    def __init__(self, schoolName):\n",
    "        self.schoolName = schoolName\n",
    "        self.teams = []\n",
    "        \n",
    "    def addTeam(self, t):\n",
    "        self.teams.append(t)\n",
    "\n",
    "    def getTotalPlayersInSchool(self):\n",
    "        return sum([e.getNumberOfPlayers() for e in self.teams])\n",
    "\n",
    "\n",
    "p1 = Player(1, \"Harris\", \"Red\")\n",
    "p2 = Player(2, \"Carol\", \"Red\")\n",
    "p3 = Player(1, \"Johnny\", \"Blue\")\n",
    "p4 = Player(2, \"Sarah\", \"Blue\")\n",
    "\n",
    "red_team = Team(\"Red Team\")\n",
    "red_team.addPlayer(p1)\n",
    "red_team.addPlayer(p2)\n",
    "\n",
    "blue_team = Team(\"Blue Team\")\n",
    "blue_team.addPlayer(p2)\n",
    "blue_team.addPlayer(p3)\n",
    "\n",
    "mySchool = School(\"My School\")\n",
    "mySchool.addTeam(red_team)\n",
    "mySchool.addTeam(blue_team)\n",
    "\n",
    "print(\"Total players in mySchool:\", mySchool.getTotalPlayersInSchool())"
   ],
   "metadata": {
    "collapsed": false,
    "ExecuteTime": {
     "end_time": "2024-03-06T18:25:32.350606700Z",
     "start_time": "2024-03-06T18:25:32.336646Z"
    }
   },
   "id": "a2d9cc00e0c3c7a2"
  },
  {
   "cell_type": "code",
   "execution_count": null,
   "outputs": [],
   "source": [],
   "metadata": {
    "collapsed": false
   },
   "id": "6392ea090fe02a6c"
  }
 ],
 "metadata": {
  "kernelspec": {
   "display_name": "Python 3",
   "language": "python",
   "name": "python3"
  },
  "language_info": {
   "codemirror_mode": {
    "name": "ipython",
    "version": 2
   },
   "file_extension": ".py",
   "mimetype": "text/x-python",
   "name": "python",
   "nbconvert_exporter": "python",
   "pygments_lexer": "ipython2",
   "version": "2.7.6"
  }
 },
 "nbformat": 4,
 "nbformat_minor": 5
}

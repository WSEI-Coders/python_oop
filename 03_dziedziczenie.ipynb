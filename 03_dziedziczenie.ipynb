{
 "cells": [
  {
   "cell_type": "markdown",
   "source": [
    "**Co to jest dziedziczenie?**\n",
    "\n",
    "*Definicja*\n",
    "Dziedziczenie dostarcza sposobu na utworzenie nowej klasy z istniejącej klasy. Nowa klasa jest specjalną wersją istniejącej klasy, w taki sposób, że dziedziczy wszystkie nieprywatne pola (zmienne) i metody istniejącej klasy. Istniejąca klasa jest używana jako punkt wyjścia lub jako baza do tworzenia nowej klasy.\n",
    "\n",
    "*Relacja JEST RELACJĄ*\n",
    "Po przeczytaniu powyższej definicji pojawia się pytanie: kiedy używamy dziedziczenia? Gdziekolwiek napotkamy relację JEST RELACJĄ (IS A) między obiektami, możemy użyć dziedziczenia.\n",
    "![](img/21_is_a.PNG)\n",
    "\n",
    "W powyższej ilustracji możemy zauważyć, że obiekty mają między nimi relację JEST RELACJĄ. Możemy to zapisać jako:\n",
    "1. Kwadrat (Square) JEST Kształtem (Shape)\n",
    "2. Python JEST Językiem programowania (Programming language)\n",
    "3. Samochód (Car) JEST Pojazdem (Vehicle)\n",
    "\n",
    "Z powyższych opisów dziedziczenia możemy wnioskować, że możemy budować nowe klasy, rozszerzając istniejące klasy.\n",
    "\n",
    "<table>\n",
    "  <tr>\n",
    "    <th>Klasa Bazowa</th>\n",
    "    <th>Klasa Pochodna</th>\n",
    "  </tr>\n",
    "  <tr>\n",
    "    <td>Kształt (Shape)</td>\n",
    "    <td>Kwadrat (Square)</td>\n",
    "  </tr>\n",
    "  <tr>\n",
    "    <td>Język Programowania (Programming Language)</td>\n",
    "    <td>Python</td>\n",
    "  </tr>\n",
    "  <tr>\n",
    "    <td>Pojazd (Vehicle)</td>\n",
    "    <td>Samochód (Car)</td>\n",
    "  </tr>\n",
    "</table>\n",
    "\n",
    "\n",
    "Sprawdźmy, gdzie nie istnieje ta relacja.\n",
    "![](img/22_not_is_a.PNG)\n",
    "\n",
    "\n",
    "Powyższa ilustracja pokazuje, że nie możemy używać dziedziczenia, kiedy nie istnieje relacja \"JEST\" między klasami.\n",
    "\n",
    "*Klasa obiektów w Pythonie*\n",
    "Głównym celem programowania zorientowanego obiektowo jest umożliwienie programiście modelowania obiektów rzeczywistego świata za pomocą języka programowania.\n",
    "\n",
    "W Pythonie, za każdym razem gdy tworzymy klasę, domyślnie jest ona podklasą wbudowanej klasy obiektu Pythona. Jest to doskonały przykład dziedziczenia w Pythonie. Ta klasa ma bardzo niewiele właściwości i metod, ale zapewnia ona solidną podstawę do programowania zorientowanego obiektowo w Pythonie."
   ],
   "metadata": {
    "collapsed": false
   },
   "id": "2f1748570675cd00"
  },
  {
   "cell_type": "markdown",
   "source": [
    "**Składnia i terminologia**\n",
    "\n",
    "*Terminologia:*\n",
    "W dziedziczeniu, aby utworzyć nową klasę na podstawie istniejącej klasy, używamy następującej terminologii:\n",
    "Klasa Nadrzędna (Super Class lub Base Class): Ta klasa umożliwia ponowne wykorzystanie swoich publicznych właściwości w innej klasie.\n",
    "Klasa Potomna (Sub Class lub Derived Class): Ta klasa dziedziczy lub rozszerza nadklasę. Klasa potomna ma wszystkie publiczne atrybuty klasy nadrzędnej.\n",
    "\n",
    "*Składnia:*\n",
    "W Pythonie, aby zaimplementować dziedziczenie, składnia jest dość podobna do podstawowej definicji klasy. Poniżej podana jest składnia:\n",
    "```\n",
    "class ParentClass:\n",
    "    # attributes of the parent class\n",
    "\n",
    "\n",
    "class ChildClass(ParentClass):\n",
    "    # attributes of the child class\n",
    "```\n",
    "Nazwa klasy nadrzędnej jest zapisywana w nawiasach okrągłych po nazwie klasy potomnej, która jest następnie poprzedzona treścią klasy potomnej.\n",
    "\n",
    "*Przykład*\n",
    "Przyjrzyjmy się przykładowej klasie Vehicle jako klasie nadrzędnej i zaimplementujmy klasę Car, która będzie rozszerzać tę klasę Vehicle. Ponieważ Samochód JEST pojazdem, implementacja relacji dziedziczenia między tymi klasami będzie poprawna."
   ],
   "metadata": {
    "collapsed": false
   },
   "id": "313cdca8ed28cbe8"
  },
  {
   "cell_type": "code",
   "execution_count": 1,
   "outputs": [
    {
     "name": "stdout",
     "output_type": "stream",
     "text": [
      "Manufacturer: Suzuki\n",
      "Color: Grey\n",
      "Model: 2015\n",
      "Doors: 4\n"
     ]
    }
   ],
   "source": [
    "class Vehicle:\n",
    "    def __init__(self, make, color, model):\n",
    "        self.make = make\n",
    "        self.color = color\n",
    "        self.model = model\n",
    "\n",
    "    def printDetails(self):\n",
    "        print(\"Manufacturer:\", self.make)\n",
    "        print(\"Color:\", self.color)\n",
    "        print(\"Model:\", self.model)\n",
    "\n",
    "\n",
    "class Car(Vehicle):\n",
    "    def __init__(self, make, color, model, doors):\n",
    "        # calling the constructor from parent class\n",
    "        Vehicle.__init__(self, make, color, model)\n",
    "        self.doors = doors\n",
    "\n",
    "    def printCarDetails(self):\n",
    "        self.printDetails()\n",
    "        print(\"Doors:\", self.doors)\n",
    "\n",
    "\n",
    "obj1 = Car(\"Suzuki\", \"Grey\", \"2015\", 4)\n",
    "obj1.printCarDetails()"
   ],
   "metadata": {
    "collapsed": false,
    "ExecuteTime": {
     "end_time": "2024-03-05T19:54:53.711047600Z",
     "start_time": "2024-03-05T19:54:53.705060Z"
    }
   },
   "id": "6899b8478b2813d2"
  },
  {
   "cell_type": "markdown",
   "source": [
    "**Wyjaśnienie**\n",
    "W powyższym kodzie zdefiniowaliśmy klasę nadrzędną, Vehicle, w linii 1 oraz klasę potomną, Car, w linii 13.\n",
    "Klasa Car dziedziczy wszystkie właściwości i metody klasy Vehicle i może je odczytywać i modyfikować.\n",
    "Na przykład, w linii 20 klasy Car, wywołaliśmy metodę printDetails(), która została faktycznie zdefiniowana w klasie Vehicle w metodzie printCarDetails()."
   ],
   "metadata": {
    "collapsed": false
   },
   "id": "2faf29b4f65ee667"
  },
  {
   "cell_type": "markdown",
   "source": [
    "**Funkcja super()**\n",
    "Funkcja super() jest używana przy implementacji dziedziczenia. Wykorzystuje się ją w klasie potomnej, aby odwołać się do klasy nadrzędnej bez konieczności bezpośredniego podawania jej nazwy. Ułatwia to zarządzanie kodem, nie ma potrzeby znać nazwy klasy nadrzędnej, aby uzyskać dostęp do jej atrybutów.\n",
    "Uwaga: Upewnij się, że dodajesz nawiasy na końcu, aby uniknąć błędu kompilacji.\n",
    "\n",
    "*Przypadki użycia funkcji super()*\n",
    "Funkcję super() używa się w trzech istotnych kontekstach:\n",
    "\n",
    "I. Dostęp do właściwości klasy nadrzędnej\n",
    "Rozważmy pole o nazwie fuelCap zdefiniowane wewnątrz klasy Vehicle, które śledzi pojemność paliwa pojazdu. Inna klasa o nazwie Car rozszerza tę klasę Vehicle. Deklarujemy właściwość klasy wewnątrz klasy Car o tej samej nazwie, tj. fuelCap, ale z inną wartością. Teraz, jeśli chcemy odwołać się do pola fuelCap klasy nadrzędnej wewnątrz klasy potomnej, będziemy musieli użyć funkcji super().\n",
    "\n",
    "Zrozummy to na przykładzie poniżej:"
   ],
   "metadata": {
    "collapsed": false
   },
   "id": "fcf04438b895a381"
  },
  {
   "cell_type": "code",
   "execution_count": 2,
   "outputs": [
    {
     "name": "stdout",
     "output_type": "stream",
     "text": [
      "Fuel cap from the Vehicle Class: 90\n",
      "Fuel cap from the Car Class: 50\n"
     ]
    }
   ],
   "source": [
    "class Vehicle:  # defining the parent class\n",
    "    fuelCap = 90\n",
    "\n",
    "\n",
    "class Car(Vehicle):  # defining the child class\n",
    "    fuelCap = 50\n",
    "\n",
    "    def display(self):\n",
    "        # accessing fuelCap from the Vehicle class using super()\n",
    "        print(\"Fuel cap from the Vehicle Class:\", super().fuelCap)\n",
    "\n",
    "        # accessing fuelCap from the Car class using self\n",
    "        print(\"Fuel cap from the Car Class:\", self.fuelCap)\n",
    "\n",
    "\n",
    "obj1 = Car()  # creating a car object\n",
    "obj1.display()  # calling the Car class method display()"
   ],
   "metadata": {
    "collapsed": false,
    "ExecuteTime": {
     "end_time": "2024-03-05T19:59:05.979461200Z",
     "start_time": "2024-03-05T19:59:05.971025600Z"
    }
   },
   "id": "63de9a8a7fb9b1b9"
  },
  {
   "cell_type": "markdown",
   "source": [
    "II. Wywoływanie metod klasy nadrzędnej\n",
    "Tak jak właściwości, funkcja super() jest również używana z metodami. Gdy zarówno klasa nadrzędna, jak i bezpośrednia klasa potomna mają metody o tej samej nazwie, używamy super() do uzyskania dostępu do metod z klasy nadrzędnej wewnątrz klasy potomnej. Przejdźmy przez przykład:"
   ],
   "metadata": {
    "collapsed": false
   },
   "id": "9354be168a61ae91"
  },
  {
   "cell_type": "code",
   "execution_count": 3,
   "outputs": [
    {
     "name": "stdout",
     "output_type": "stream",
     "text": [
      "I am from the Vehicle Class\n",
      "I am from the Car Class\n"
     ]
    }
   ],
   "source": [
    "class Vehicle:  # defining the parent class\n",
    "    def display(self):  # defining display method in the parent class\n",
    "        print(\"I am from the Vehicle Class\")\n",
    "\n",
    "\n",
    "class Car(Vehicle):  # defining the child class\n",
    "    # defining display method in the child class\n",
    "    def display(self):\n",
    "        super().display()\n",
    "        print(\"I am from the Car Class\")\n",
    "\n",
    "\n",
    "obj1 = Car()  # creating a car object\n",
    "obj1.display()  # calling the Car class method display()"
   ],
   "metadata": {
    "collapsed": false,
    "ExecuteTime": {
     "end_time": "2024-03-05T20:01:36.876804700Z",
     "start_time": "2024-03-05T20:01:36.867893500Z"
    }
   },
   "id": "737ab7f824a8e22"
  },
  {
   "cell_type": "markdown",
   "source": [
    "III. Użycie z inicjalizatorami\n",
    "Kolejnym istotnym zastosowaniem funkcji super() jest wywołanie inicjalizatora klasy nadrzędnej z inicjalizatora klasy potomnej.\n",
    "\n",
    "Uwaga: Nie jest konieczne, aby wywołanie super() w metodzie lub inicjalizatorze odbywało się w pierwszej linii metody.\n",
    "\n",
    "Poniżej znajduje się przykład użycia super() w inicjalizatorze wewnątrz klasy potomnej."
   ],
   "metadata": {
    "collapsed": false
   },
   "id": "45613070f5880355"
  },
  {
   "cell_type": "code",
   "execution_count": 4,
   "outputs": [
    {
     "name": "stdout",
     "output_type": "stream",
     "text": [
      "1\n",
      "2\n",
      "3\n"
     ]
    }
   ],
   "source": [
    "class ParentClass():\n",
    "    def __init__(self, a, b):\n",
    "        self.a = a\n",
    "        self.b = b\n",
    "\n",
    "\n",
    "class ChildClass(ParentClass):\n",
    "    def __init__(self, a, b, c):\n",
    "        super().__init__(a, b)\n",
    "        self.c = c\n",
    "\n",
    "\n",
    "obj = ChildClass(1, 2, 3)\n",
    "print(obj.a)\n",
    "print(obj.b)\n",
    "print(obj.c)"
   ],
   "metadata": {
    "collapsed": false,
    "ExecuteTime": {
     "end_time": "2024-03-05T20:03:18.047791700Z",
     "start_time": "2024-03-05T20:03:18.033864400Z"
    }
   },
   "id": "7fbe1b2272e88f1c"
  },
  {
   "cell_type": "code",
   "execution_count": 5,
   "outputs": [
    {
     "name": "stdout",
     "output_type": "stream",
     "text": [
      "1\n",
      "2\n",
      "3\n"
     ]
    }
   ],
   "source": [
    "class ParentClass():\n",
    "    def __init__(self, a, b):\n",
    "        self.a = a\n",
    "        self.b = b\n",
    "\n",
    "\n",
    "class ChildClass(ParentClass):\n",
    "    def __init__(self, a, b, c):\n",
    "        self.c = c\n",
    "        super().__init__(a, b)\n",
    "\n",
    "\n",
    "obj = ChildClass(1, 2, 3)\n",
    "print(obj.a)\n",
    "print(obj.b)\n",
    "print(obj.c)"
   ],
   "metadata": {
    "collapsed": false,
    "ExecuteTime": {
     "end_time": "2024-03-05T20:06:19.896330700Z",
     "start_time": "2024-03-05T20:06:19.879543600Z"
    }
   },
   "id": "e3c077fbdfc1550a"
  },
  {
   "cell_type": "markdown",
   "source": [
    "Jak widać w obu okienkach z kodem, zamiana kolejności linii 9 i 10 nie zmienia funkcjonalności kodu. Pozwala to użytkownikowi manipulować parametrami przed przekazaniem ich do metody klasy nadrzędnej.\n",
    "\n",
    "Teraz użyjmy super(), aby odwołać się do klasy nadrzędnej (najpierw bez super(), potem z):"
   ],
   "metadata": {
    "collapsed": false
   },
   "id": "873806d5bd3a0c24"
  },
  {
   "cell_type": "code",
   "execution_count": 6,
   "outputs": [
    {
     "name": "stdout",
     "output_type": "stream",
     "text": [
      "Manufacturer: Suzuki\n",
      "Color: Grey\n",
      "Model: 2015\n",
      "Door: 4\n"
     ]
    }
   ],
   "source": [
    "class Vehicle:\n",
    "    def __init__(self, make, color, model):\n",
    "        self.make = make\n",
    "        self.color = color\n",
    "        self.model = model\n",
    "\n",
    "    def printDetails(self):\n",
    "        print(\"Manufacturer:\", self.make)\n",
    "        print(\"Color:\", self.color)\n",
    "        print(\"Model:\", self.model)\n",
    "\n",
    "\n",
    "class Car(Vehicle):\n",
    "    def __init__(self, make, color, model, doors):\n",
    "        Vehicle.__init__(self, make, color, model)\n",
    "        self.doors = doors\n",
    "\n",
    "    def printCarDetails(self):\n",
    "        self.printDetails()\n",
    "        print(\"Door:\", self.doors)\n",
    "\n",
    "\n",
    "obj1 = Car(\"Suzuki\", \"Grey\", \"2015\", 4)\n",
    "obj1.printCarDetails()"
   ],
   "metadata": {
    "collapsed": false,
    "ExecuteTime": {
     "end_time": "2024-03-05T20:09:06.397577800Z",
     "start_time": "2024-03-05T20:09:06.379998Z"
    }
   },
   "id": "b33c371c56e8d2a0"
  },
  {
   "cell_type": "code",
   "execution_count": 7,
   "outputs": [
    {
     "name": "stdout",
     "output_type": "stream",
     "text": [
      "Manufacturer: Suzuki\n",
      "Color: Grey\n",
      "Model: 2015\n",
      "Door: 4\n"
     ]
    }
   ],
   "source": [
    "class Vehicle:\n",
    "    def __init__(self, make, color, model):\n",
    "        self.make = make\n",
    "        self.color = color\n",
    "        self.model = model\n",
    "\n",
    "    def printDetails(self):\n",
    "        print(\"Manufacturer:\", self.make)\n",
    "        print(\"Color:\", self.color)\n",
    "        print(\"Model:\", self.model)\n",
    "\n",
    "\n",
    "class Car(Vehicle):\n",
    "    def __init__(self, make, color, model, doors):\n",
    "        super().__init__(make, color, model)\n",
    "        self.doors = doors\n",
    "\n",
    "    def printCarDetails(self):\n",
    "        self.printDetails()\n",
    "        print(\"Door:\", self.doors)\n",
    "\n",
    "\n",
    "obj1 = Car(\"Suzuki\", \"Grey\", \"2015\", 4)\n",
    "obj1.printCarDetails()"
   ],
   "metadata": {
    "collapsed": false,
    "ExecuteTime": {
     "end_time": "2024-03-05T20:09:16.102742200Z",
     "start_time": "2024-03-05T20:09:16.085788900Z"
    }
   },
   "id": "77db036123937ce1"
  },
  {
   "cell_type": "markdown",
   "source": [
    "Jak widać w powyższych kodach, linia 15 jest wymienna i produkuje ten sam wynik, ale użycie super() sprawia, że kod jest bardziej czytelny.\n",
    "\n",
    "To właściwie wszystko, co dotyczy funkcji super()."
   ],
   "metadata": {
    "collapsed": false
   },
   "id": "71e5b06fef02370c"
  },
  {
   "cell_type": "markdown",
   "source": [
    "**Rodzaje dziedziczenia**\n",
    "Na podstawie klas nadrzędnych i klas potomnych istnieje pięć rodzajów dziedziczenia:\n",
    "1. **Pojedyncze (Single)**: W tym rodzaju dziedziczenia jedna klasa potomna dziedziczy z jednej klasy nadrzędnej.\n",
    "2. **Wielopoziomowe (Multi-level)**: W tym rodzaju dziedziczenia jedna klasa potomna dziedziczy z innej klasy potomnej, która z kolei dziedziczy z klasy nadrzędnej.\n",
    "3. **Hierarchiczne (Hierarchical)**: W tym rodzaju dziedziczenia jedna klasa nadrzędna dziedziczy z wielu klas potomnych.\n",
    "4. **Wielokrotne (Multiple)**: W tym rodzaju dziedziczenia jedna klasa potomna dziedziczy z wielu klas nadrzędnych.\n",
    "5. **Hybrydowe (Hybrid)**: W tym rodzaju dziedziczenia łączą się cechy różnych rodzajów dziedziczenia, takie jak dziedziczenie wielokrotne i dziedziczenie wielopoziomowe."
   ],
   "metadata": {
    "collapsed": false
   },
   "id": "980f1dfa288a6349"
  },
  {
   "cell_type": "markdown",
   "source": [
    "Dziedziczenie pojedyncze\n",
    "W dziedziczeniu pojedynczym istnieje tylko jedna klasa rozszerzająca inną klasę. Możemy przyjąć przykład klasy Vehicle jako klasy nadrzędnej, a klasy Car jako klasy potomnej. Poniżej znajduje się implementacja tych klas:\n",
    "![](img/23_dziedziczenie_pojedyncze.PNG)"
   ],
   "metadata": {
    "collapsed": false
   },
   "id": "db8727b22b2d574d"
  },
  {
   "cell_type": "code",
   "execution_count": 8,
   "outputs": [
    {
     "name": "stdout",
     "output_type": "stream",
     "text": [
      "Top speed is set to 220\n",
      "Trunk is now open.\n"
     ]
    }
   ],
   "source": [
    "class Vehicle:  # parent class\n",
    "    def setTopSpeed(self, speed):  # defining the set\n",
    "        self.topSpeed = speed\n",
    "        print(\"Top speed is set to\", self.topSpeed)\n",
    "\n",
    "\n",
    "class Car(Vehicle):  # child class\n",
    "    def openTrunk(self):\n",
    "        print(\"Trunk is now open.\")\n",
    "\n",
    "\n",
    "corolla = Car()  # creating an object of the Car class\n",
    "corolla.setTopSpeed(220)  # accessing methods from the parent class\n",
    "corolla.openTrunk()  # accessing method from its own class\n"
   ],
   "metadata": {
    "collapsed": false,
    "ExecuteTime": {
     "end_time": "2024-03-05T20:18:58.477402600Z",
     "start_time": "2024-03-05T20:18:58.458366700Z"
    }
   },
   "id": "fa12f747de93c303"
  },
  {
   "cell_type": "markdown",
   "source": [
    "Dziedziczenie wielopoziomowe\n",
    "Gdy klasa jest pochodną klasy, która sama jest pochodną innej klasy, nazywa się to dziedziczeniem wielopoziomowym. Możemy rozszerzać klasy na dowolną liczbę poziomów.\n",
    "![](img/24_dziedziczenie_wielopoziomowe.PNG)\n",
    "\n",
    "\n",
    "Przejdźmy do implementacji trzech klas przedstawionych powyżej:\n",
    "Samochód JEST pojazdem\n",
    "Hybryda JEST samochodem"
   ],
   "metadata": {
    "collapsed": false
   },
   "id": "211e6b12f9316059"
  },
  {
   "cell_type": "code",
   "execution_count": 9,
   "outputs": [
    {
     "name": "stdout",
     "output_type": "stream",
     "text": [
      "Top speed is set to 220\n",
      "Trunk is now open.\n",
      "Hybrid mode is now switched on.\n"
     ]
    }
   ],
   "source": [
    "class Vehicle:  # parent class\n",
    "    def setTopSpeed(self, speed):  # defining the set\n",
    "        self.topSpeed = speed\n",
    "        print(\"Top speed is set to\", self.topSpeed)\n",
    "\n",
    "\n",
    "class Car(Vehicle):  # child class of Vehicle\n",
    "    def openTrunk(self):\n",
    "        print(\"Trunk is now open.\")\n",
    "\n",
    "\n",
    "class Hybrid(Car):  # child class of Car\n",
    "    def turnOnHybrid(self):\n",
    "        print(\"Hybrid mode is now switched on.\")\n",
    "\n",
    "\n",
    "priusPrime = Hybrid()  # creating an object of the Hybrid class\n",
    "priusPrime.setTopSpeed(220)  # accessing methods from the parent class\n",
    "priusPrime.openTrunk()  # accessing method from the parent class\n",
    "priusPrime.turnOnHybrid()  # accessing method from the child class"
   ],
   "metadata": {
    "collapsed": false,
    "ExecuteTime": {
     "end_time": "2024-03-05T20:21:08.524286200Z",
     "start_time": "2024-03-05T20:21:08.501763700Z"
    }
   },
   "id": "ee6ea32c9ba851e4"
  },
  {
   "cell_type": "markdown",
   "source": [
    "Dziedziczenie hierarchiczne\n",
    "W dziedziczeniu hierarchicznym więcej niż jedna klasa wywodzi się, zgodnie z wymaganiami projektu, z tej samej klasy bazowej. Wspólne atrybuty tych klas podrzędnych są zaimplementowane wewnątrz klasy bazowej.\n",
    "\n",
    "Przykład:\n",
    "Samochód to pojazd\n",
    "Ciężarówka to pojazd\n",
    "\n",
    "![](img/25_dziedziczenie_hierarchiczne.PNG)"
   ],
   "metadata": {
    "collapsed": false
   },
   "id": "42af33542e34ab2"
  },
  {
   "cell_type": "code",
   "execution_count": 10,
   "outputs": [
    {
     "name": "stdout",
     "output_type": "stream",
     "text": [
      "Top speed is set to 220\n",
      "Top speed is set to 180\n"
     ]
    }
   ],
   "source": [
    "class Vehicle:  # parent class\n",
    "    def setTopSpeed(self, speed):  # defining the set\n",
    "        self.topSpeed = speed\n",
    "        print(\"Top speed is set to\", self.topSpeed)\n",
    "\n",
    "\n",
    "class Car(Vehicle):  # child class of Vehicle\n",
    "    pass\n",
    "\n",
    "\n",
    "class Truck(Vehicle):  # child class of Vehicle\n",
    "    pass\n",
    "\n",
    "\n",
    "corolla = Car()  # creating an object of the Car class\n",
    "corolla.setTopSpeed(220)  # accessing methods from the parent class\n",
    "\n",
    "volvo = Truck()  # creating an object of the Truck class\n",
    "volvo.setTopSpeed(180)  # accessing methods from the parent class"
   ],
   "metadata": {
    "collapsed": false,
    "ExecuteTime": {
     "end_time": "2024-03-05T20:22:56.218377900Z",
     "start_time": "2024-03-05T20:22:56.196927900Z"
    }
   },
   "id": "c64fb4b3554fc21f"
  },
  {
   "cell_type": "markdown",
   "source": [
    "Dziedziczenie wielokrotne\n",
    "Kiedy klasa wywodzi się z więcej niż jednej klasy bazowej, tj. gdy ma więcej niż jedną bezpośrednią klasę nadrzędną, nazywa się to dziedziczeniem wielokrotnym.\n",
    "\n",
    "Przykład:\n",
    "HybridEngine JEST silnikiem elektrycznym.\n",
    "HybridEngine JEST także silnikiem spalinowym.\n",
    "\n",
    "![](img/26_dziedziczenie_wielokrotne.PNG)"
   ],
   "metadata": {
    "collapsed": false
   },
   "id": "22fd9e43c7e602f0"
  },
  {
   "cell_type": "code",
   "execution_count": 11,
   "outputs": [
    {
     "name": "stdout",
     "output_type": "stream",
     "text": [
      "Tank Capacity: 20 Litres\n",
      "Charge Capacity: 250 W\n"
     ]
    }
   ],
   "source": [
    "class CombustionEngine():  \n",
    "    def setTankCapacity(self, tankCapacity):\n",
    "        self.tankCapacity = tankCapacity\n",
    "\n",
    "\n",
    "class ElectricEngine():  \n",
    "    def setChargeCapacity(self, chargeCapacity):\n",
    "        self.chargeCapacity = chargeCapacity\n",
    "\n",
    "# Child class inherited from CombustionEngine and ElectricEngine\n",
    "class HybridEngine(CombustionEngine, ElectricEngine):\n",
    "    def printDetails(self):\n",
    "        print(\"Tank Capacity:\", self.tankCapacity)\n",
    "        print(\"Charge Capacity:\", self.chargeCapacity)\n",
    "\n",
    "car = HybridEngine()\n",
    "car.setChargeCapacity(\"250 W\")\n",
    "car.setTankCapacity(\"20 Litres\")\n",
    "car.printDetails()"
   ],
   "metadata": {
    "collapsed": false,
    "ExecuteTime": {
     "end_time": "2024-03-05T20:24:50.682503500Z",
     "start_time": "2024-03-05T20:24:50.661206400Z"
    }
   },
   "id": "4a0646a3fb8debb5"
  },
  {
   "cell_type": "markdown",
   "source": [
    "\n",
    "Dziedziczenie hybrydowe\n",
    "Rodzaj dziedziczenia, który jest kombinacją dziedziczenia wielokrotnego i wielopoziomowego, nazywany jest dziedziczeniem hybrydowym.\n",
    "\n",
    "SilnikSpalinowy JEST Silnikiem.\n",
    "SilnikElektryczny JEST Silnikiem.\n",
    "SilnikHybrydowy JEST SilnikiemElektrycznym i SilnikiemSpalinowym.\n",
    "\n",
    "![](img/27_dziedziczenie_hybrydowe.PNG)"
   ],
   "metadata": {
    "collapsed": false
   },
   "id": "eb5e50315f2ad2f6"
  },
  {
   "cell_type": "code",
   "execution_count": 13,
   "outputs": [
    {
     "name": "stdout",
     "output_type": "stream",
     "text": [
      "Power: 2000 CC\n",
      "Tank Capacity: 20 Litres\n",
      "Charge Capacity: 250 W\n"
     ]
    }
   ],
   "source": [
    "class Engine:  # Parent class\n",
    "    def setPower(self, power):\n",
    "        self.power = power\n",
    "\n",
    "\n",
    "class CombustionEngine(Engine):  # Child class inherited from Engine\n",
    "    def setTankCapacity(self, tankCapacity):\n",
    "        self.tankCapacity = tankCapacity\n",
    "\n",
    "\n",
    "class ElectricEngine(Engine):  # Child class inherited from Engine\n",
    "    def setChargeCapacity(self, chargeCapacity):\n",
    "        self.chargeCapacity = chargeCapacity\n",
    "\n",
    "# Child class inherited from CombustionEngine and ElectricEngine\n",
    "class HybridEngine(CombustionEngine, ElectricEngine):\n",
    "    def printDetails(self):\n",
    "        print(\"Power:\", self.power)\n",
    "        print(\"Tank Capacity:\", self.tankCapacity)\n",
    "        print(\"Charge Capacity:\", self.chargeCapacity)\n",
    "\n",
    "\n",
    "car = HybridEngine()\n",
    "car.setPower(\"2000 CC\")\n",
    "car.setChargeCapacity(\"250 W\")\n",
    "car.setTankCapacity(\"20 Litres\")\n",
    "car.printDetails()"
   ],
   "metadata": {
    "collapsed": false,
    "ExecuteTime": {
     "end_time": "2024-03-05T20:26:19.967127600Z",
     "start_time": "2024-03-05T20:26:19.958606900Z"
    }
   },
   "id": "f9ded0224f6231be"
  },
  {
   "cell_type": "markdown",
   "source": [
    "**Zalety dziedziczenia**\n",
    "\n",
    "*Możliwość ponownego użycia*\n",
    "Dziedziczenie sprawia, że kod można ponownie wykorzystać. Zastanów się, czy jesteś gotowy na zaprojektowanie systemu bankowego przy użyciu klas. Twój model może mieć:\n",
    "\n",
    "Klasa nadrzędna: BankAccount\n",
    "Klasa podrzędna: SavingsAccount\n",
    "Inna klasa podrzędna: CheckingAccount\n",
    "![](img/28a_zalety_dziedziczenia.PNG)\n",
    "\n",
    "W powyższym przykładzie nie musisz powtarzać kodu dla metod deposit() i withdraw() w klasach potomnych, tj. SavingsAccount i CheckingAccount. W ten sposób można uniknąć powielania kodu.\n",
    "\n",
    "*Modyfikacja kodu*\n",
    "Załóżmy, że umieszczasz ten sam kod w różnych klasach, ale co się stanie, gdy będzie trzeba wprowadzić zmiany w funkcji i w kilku miejscach? Istnieje duże prawdopodobieństwo, że zapomnisz o niektórych miejscach, co spowoduje wprowadzenie błędów. Możesz uniknąć tego dzięki dziedziczeniu, które zapewni, że wszystkie zmiany będą zlokalizowane, a niekonsekwencje będą eliminowane.\n",
    "\n",
    "*Rozszerzalność*\n",
    "Korzystając z dziedziczenia, można rozbudować klasę bazową zgodnie z wymaganiami klasy pochodnej. Zapewnia to łatwy sposób na ulepszanie lub rozszerzanie określonych części produktu bez zmiany podstawowych atrybutów. Istniejąca klasa może działać jako klasa bazowa, z której można wyprowadzić nową klasę z ulepszonymi funkcjami.\n",
    "\n",
    "W powyższym przykładzie zdajesz sobie sprawę w późniejszym czasie, że musisz zdywersyfikować tę aplikację bankową, dodając inną klasę dla konta na rynku pieniężnym (MoneyMarketAccount). W związku z tym, zamiast implementować tę klasę od zera, możesz rozszerzyć ją z istniejącej klasy BankAccount jako punktu wyjścia. Możesz również ponownie użyć jej atrybutów, które są wspólne z MoneyMarketAccount.\n",
    "![](img/28b_zalety_dziedziczenia.PNG)\n",
    "\n",
    "*Ukrywanie danych*\n",
    "Klasa bazowa może przechowywać pewne dane jako prywatne, dzięki czemu klasa pochodna nie może ich modyfikować. Ten koncept nazywa się enkapsulacją.\n",
    "![](img/28c_zalety_dziedziczenia.PNG)"
   ],
   "metadata": {
    "collapsed": false
   },
   "id": "f8649d46794b61f5"
  },
  {
   "cell_type": "code",
   "execution_count": null,
   "outputs": [],
   "source": [],
   "metadata": {
    "collapsed": false
   },
   "id": "bb74248233c5e148"
  }
 ],
 "metadata": {
  "kernelspec": {
   "display_name": "Python 3",
   "language": "python",
   "name": "python3"
  },
  "language_info": {
   "codemirror_mode": {
    "name": "ipython",
    "version": 2
   },
   "file_extension": ".py",
   "mimetype": "text/x-python",
   "name": "python",
   "nbconvert_exporter": "python",
   "pygments_lexer": "ipython2",
   "version": "2.7.6"
  }
 },
 "nbformat": 4,
 "nbformat_minor": 5
}
